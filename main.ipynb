{
  "nbformat": 4,
  "nbformat_minor": 0,
  "metadata": {
    "accelerator": "GPU",
    "colab": {
      "name": "Tp_CNN_MNIST /Marc_Olivier POKAM/ Abdourahmane BAH/ Mohammed Issam KASSEL.ipynb",
      "provenance": [],
      "collapsed_sections": []
    },
    "kernelspec": {
      "display_name": "Python 3",
      "name": "python3"
    }
  },
  "cells": [
    {
      "cell_type": "markdown",
      "metadata": {
        "id": "HK0TmJM4zGml"
      },
      "source": [
        "Réalisé par : - Marc_Olivier POKAM\n",
        "              - Abdourahmane BAH\n",
        "              - Mohammed Issam KASSEL"
      ]
    },
    {
      "cell_type": "code",
      "metadata": {
        "colab": {
          "base_uri": "https://localhost:8080/"
        },
        "id": "bNzq2wc3kKLk",
        "outputId": "4d62e176-9fb7-4242-df50-035c158e7738"
      },
      "source": [
        "from google.colab import drive\n",
        "drive.mount('/content/drive', force_remount=False)\n"
      ],
      "execution_count": null,
      "outputs": [
        {
          "output_type": "stream",
          "text": [
            "Mounted at /content/drive\n"
          ],
          "name": "stdout"
        }
      ]
    },
    {
      "cell_type": "code",
      "metadata": {
        "id": "eL0dSZWTcXZG",
        "colab": {
          "base_uri": "https://localhost:8080/"
        },
        "outputId": "596df00b-a9c3-49ff-d19c-5637040b656f"
      },
      "source": [
        "%tensorflow_version 1.x"
      ],
      "execution_count": null,
      "outputs": [
        {
          "output_type": "stream",
          "text": [
            "TensorFlow 1.x selected.\n"
          ],
          "name": "stdout"
        }
      ]
    },
    {
      "cell_type": "code",
      "metadata": {
        "id": "VstzV1qL38KH"
      },
      "source": [
        "from google.colab.patches import cv2_imshow"
      ],
      "execution_count": null,
      "outputs": []
    },
    {
      "cell_type": "markdown",
      "metadata": {
        "id": "YtbLllHnAIdt"
      },
      "source": [
        "le code dans la cellule suivante est relatif aux parties 1,2,3 et 4 où on a défini l'architecture du réseau sans faire appel aux fonctions \"convolution\" et \"fc\""
      ]
    },
    {
      "cell_type": "code",
      "metadata": {
        "id": "xBlfcjjzFTYm",
        "colab": {
          "base_uri": "https://localhost:8080/",
          "height": 1000
        },
        "outputId": "dfa0ebfc-6739-4120-cb28-e9be038173bd"
      },
      "source": [
        "%tensorflow_version 1.x\n",
        "import tensorflow.compat.v1 as tf\n",
        "tf.disable_v2_behavior()\n",
        "import numpy as np\n",
        "import matplotlib.pyplot as plot\n",
        "import cv2\n",
        "\n",
        "taille_batch=100\n",
        "epoch_nbr=10\n",
        "learning_rate=0.001\n",
        "nbr_ni=512\n",
        "\n",
        "mnist_train_images=np.fromfile(\"/content/drive/MyDrive/dataset/mnist/train-images.idx3-ubyte\", dtype=np.uint8)[16:].reshape(-1, 28, 28, 1)/255\n",
        "mnist_train_labels=np.eye(10)[np.fromfile(\"/content/drive/MyDrive/dataset/mnist/train-labels.idx1-ubyte\", dtype=np.uint8)[8:]]\n",
        "mnist_test_images=np.fromfile(\"/content/drive/MyDrive/dataset/mnist/t10k-images.idx3-ubyte\", dtype=np.uint8)[16:].reshape(-1, 28, 28, 1)/255\n",
        "mnist_test_labels=np.eye(10)[np.fromfile(\"/content/drive/MyDrive/dataset/mnist/t10k-labels.idx1-ubyte\", dtype=np.uint8)[8:]]\n",
        "\n",
        "ph_images=tf.placeholder(shape=(None, 28, 28, 1), dtype=tf.float32)\n",
        "ph_labels=tf.placeholder(shape=(None, 10), dtype=tf.float32)\n",
        "\n",
        "#(..... A COMPLETER AVEC L'ARCHIECTURE DU RESEAU CONVOLUTIF ......)\n",
        "nbr_noyau12 = 16\n",
        "nbr_noyau34 = 32\n",
        "taille_noyau = 5\n",
        "\n",
        "\n",
        "#1ere couche\n",
        "couche_prec = ph_images\n",
        "# Création des pondérations en les initialisant selon une loi normale\n",
        "w=tf.Variable(tf.random.truncated_normal(shape=(taille_noyau, taille_noyau, int(couche_prec.shape[-1]), nbr_noyau12)))\n",
        "# Création des biais en les initialisant à 0\n",
        "b=np.zeros(nbr_noyau12)\n",
        "# Définition de l'opération de convolution sur la couche_prec\n",
        "result_conv=tf.nn.conv2d(couche_prec, w, strides=[1, 1, 1, 1], padding='SAME')\n",
        "# Ajout du biais\n",
        "result=result_conv+b\n",
        "#Fonction d'activation\n",
        "result = tf.nn.relu(result)\n",
        "\n",
        "\n",
        "#2eme couche\n",
        "couche_prec = result\n",
        "# Création des pondérations en les initialisant selon une loi normale\n",
        "w=tf.Variable(tf.random.truncated_normal(shape=(taille_noyau, taille_noyau, int(couche_prec.shape[-1]), nbr_noyau12)))\n",
        "# Création des biais en les initialisant à 0\n",
        "b=np.zeros(nbr_noyau12)\n",
        "# Définition de l'opération de convolution sur la couche_prec\n",
        "result_conv=tf.nn.conv2d(couche_prec, w, strides=[1, 1, 1, 1], padding='SAME')\n",
        "# Ajout du biais\n",
        "result=result_conv+b\n",
        "#pooling\n",
        "result = tf.nn.max_pool(value=result,\n",
        "                               ksize=[1, 2, 2, 1],\n",
        "                               strides=[1, 2, 2, 1],\n",
        "                               padding='SAME')\n",
        "\n",
        "#Fonction d'activation\n",
        "result = tf.nn.relu(result)\n",
        "\n",
        "\n",
        "#3eme couche\n",
        "couche_prec = result\n",
        "# Création des pondérations en les initialisant selon une loi normale\n",
        "w=tf.Variable(tf.random.truncated_normal(shape=(taille_noyau, taille_noyau, int(couche_prec.shape[-1]), nbr_noyau34)))\n",
        "# Création des biais en les initialisant à 0\n",
        "b=np.zeros(nbr_noyau34)\n",
        "# Définition de l'opération de convolution sur la couche_prec\n",
        "result_conv=tf.nn.conv2d(couche_prec, w, strides=[1, 1, 1, 1], padding='SAME')\n",
        "# Ajout du biais\n",
        "result=result_conv+b\n",
        "\n",
        "#Fonction d'activation\n",
        "result = tf.nn.relu(result)\n",
        "\n",
        "#4eme couche\n",
        "couche_prec = result\n",
        "# Création des pondérations en les initialisant selon une loi normale\n",
        "w=tf.Variable(tf.random.truncated_normal(shape=(taille_noyau, taille_noyau, int(couche_prec.shape[-1]), nbr_noyau34)))\n",
        "# Création des biais en les initialisant à 0\n",
        "b=np.zeros(nbr_noyau34)\n",
        "# Définition de l'opération de convolution sur la couche_prec\n",
        "result_conv=tf.nn.conv2d(couche_prec, w, strides=[1, 1, 1, 1], padding='SAME')\n",
        "# Ajout du biais\n",
        "result=result_conv+b\n",
        "result = tf.nn.max_pool(value=result,\n",
        "                        ksize=[1, 2, 2, 1],\n",
        "                        strides=[1, 2, 2, 1],\n",
        "                        padding='SAME')\n",
        "#Fonction d'activation\n",
        "result = tf.nn.relu(result)\n",
        "\n",
        "#Applatissement de la dernière couche\n",
        "result = tf.layers.flatten(result)\n",
        "\n",
        "#1ere couche FC\n",
        "couche_prec= result\n",
        "# Création des pondérations en les initialisant selon une loi normale\n",
        "w=tf.Variable(tf.truncated_normal(shape=(int(result.shape[-1]),nbr_ni )), dtype=tf.float32)\n",
        "# Création des biais en les initialisant à 0\n",
        "b=tf.Variable(np.zeros(shape=(nbr_ni)), dtype=tf.float32)\n",
        "# couche FC_1 activé par une fonction sigmoid\n",
        "sci=tf.matmul(couche_prec, w)+b\n",
        "result=tf.nn.sigmoid(sci)\n",
        "\n",
        "#2eme couche FC\n",
        "couche_prec= result\n",
        "# Création des pondérations en les initialisant selon une loi normale\n",
        "w=tf.Variable(tf.truncated_normal(shape=(nbr_ni, 10)), dtype=tf.float32)\n",
        "# Création des biais en les initialisant à 0\n",
        "b=tf.Variable(np.zeros(shape=(10)), dtype=tf.float32)\n",
        "# couche FC_2 activé par une fonction sigmoid\n",
        "scs=tf.matmul(result, w)+b\n",
        "result=tf.nn.sigmoid(scs)\n",
        "\n",
        "\n",
        "# fonction Loss\n",
        "loss=tf.nn.softmax_cross_entropy_with_logits_v2(labels=ph_labels, logits=scs)\n",
        "# métrique de précision\n",
        "accuracy=tf.reduce_mean(tf.cast(tf.equal(tf.argmax(result, 1), tf.argmax(ph_labels, 1)), tf.float32))\n",
        "# ensemble d'apprentissage\n",
        "#train=tf.train.AdamOptimizer(learning_rate).minimize(loss)\n",
        "train= tf.train.GradientDescentOptimizer(learning_rate).minimize(loss)\n",
        "\n",
        "with tf.Session() as s:\n",
        "    s.run(tf.global_variables_initializer())\n",
        "    \n",
        "    tab_train=[]\n",
        "    tab_test=[]\n",
        "    \n",
        "    for id_entrainement in np.arange(epoch_nbr):\n",
        "      print(\"> Entrainement\", id_entrainement)\n",
        "      tab_accuracy_train=[]\n",
        "      tab_accuracy_test=[]\n",
        "      for batch in np.arange(0, len(mnist_train_images), taille_batch):\n",
        "          s.run(train, feed_dict={\n",
        "              ph_images: mnist_train_images[batch:batch+taille_batch],\n",
        "              ph_labels: mnist_train_labels[batch:batch+taille_batch]\n",
        "          })\n",
        "      for batch in np.arange(0, len(mnist_train_images), taille_batch):\n",
        "          precision=s.run(accuracy, feed_dict={\n",
        "              ph_images: mnist_train_images[batch:batch+taille_batch],\n",
        "              ph_labels: mnist_train_labels[batch:batch+taille_batch]\n",
        "          })\n",
        "          tab_accuracy_train.append(precision)\n",
        "      for batch in np.arange(0, len(mnist_test_images), taille_batch):\n",
        "          precision=s.run(accuracy, feed_dict={\n",
        "              ph_images: mnist_test_images[batch:batch+taille_batch],\n",
        "              ph_labels: mnist_test_labels[batch:batch+taille_batch]\n",
        "          })\n",
        "          tab_accuracy_test.append(precision)\n",
        "\n",
        "      print(\"  train:\", np.mean(tab_accuracy_train))\n",
        "      tab_train.append(1-np.mean(tab_accuracy_train))\n",
        "      print(\"  test :\", np.mean(tab_accuracy_test))\n",
        "      tab_test.append(1-np.mean(tab_accuracy_test))\n",
        "\n",
        "    plot.ylim(0, 1)\n",
        "    plot.grid()\n",
        "    plot.plot(tab_train, label=\"Train error\")\n",
        "    plot.plot(tab_test, label=\"Test error\")\n",
        "    plot.legend(loc=\"upper right\")\n",
        "    plot.show()\n",
        "    \n",
        "    \n",
        "    resulat=s.run(result, feed_dict={ph_images: mnist_test_images[0:taille_batch]})\n",
        "    np.set_printoptions(formatter={'float': '{:0.3f}'.format})\n",
        "    for image in range(taille_batch):\n",
        "        print(\"image\", image)\n",
        "        print(\"sortie du réseau:\", resulat[image], np.argmax(resulat[image]))\n",
        "        print(\"sortie attendue :\", mnist_test_labels[image], np.argmax(mnist_test_labels[image]))\n",
        "        #plot.imshow(mnist_test_images[image].reshape(28,28),cmap='gray')\n",
        "        #plot.show()\n",
        "        if cv2.waitKey()&0xFF==ord('q'):\n",
        "            break"
      ],
      "execution_count": null,
      "outputs": [
        {
          "output_type": "stream",
          "text": [
            "WARNING:tensorflow:From /tensorflow-1.15.2/python3.6/tensorflow_core/python/compat/v2_compat.py:68: disable_resource_variables (from tensorflow.python.ops.variable_scope) is deprecated and will be removed in a future version.\n",
            "Instructions for updating:\n",
            "non-resource variables are not supported in the long term\n",
            "WARNING:tensorflow:From <ipython-input-4-b70ed9e2774c>:93: flatten (from tensorflow.python.layers.core) is deprecated and will be removed in a future version.\n",
            "Instructions for updating:\n",
            "Use keras.layers.flatten instead.\n",
            "WARNING:tensorflow:From /tensorflow-1.15.2/python3.6/tensorflow_core/python/layers/core.py:332: Layer.apply (from tensorflow.python.keras.engine.base_layer) is deprecated and will be removed in a future version.\n",
            "Instructions for updating:\n",
            "Please use `layer.__call__` method instead.\n",
            "> Entrainement 0\n",
            "  train: 0.595\n",
            "  test : 0.5939999\n",
            "> Entrainement 1\n",
            "  train: 0.52708334\n",
            "  test : 0.5247\n",
            "> Entrainement 2\n",
            "  train: 0.62021667\n",
            "  test : 0.62250006\n",
            "> Entrainement 3\n",
            "  train: 0.6588\n",
            "  test : 0.667\n",
            "> Entrainement 4\n",
            "  train: 0.68125\n",
            "  test : 0.6892\n",
            "> Entrainement 5\n",
            "  train: 0.6966167\n",
            "  test : 0.7051\n",
            "> Entrainement 6\n",
            "  train: 0.70701665\n",
            "  test : 0.71819997\n",
            "> Entrainement 7\n",
            "  train: 0.71525\n",
            "  test : 0.72720003\n",
            "> Entrainement 8\n",
            "  train: 0.72080004\n",
            "  test : 0.734\n",
            "> Entrainement 9\n",
            "  train: 0.7260834\n",
            "  test : 0.7406\n"
          ],
          "name": "stdout"
        },
        {
          "output_type": "display_data",
          "data": {
            "image/png": "[encoded data removed]",
            "text/plain": [
              "<Figure size 432x288 with 1 Axes>"
            ]
          },
          "metadata": {
            "tags": [],
            "needs_background": "light"
          }
        },
        {
          "output_type": "stream",
          "text": [
            "image 0\n",
            "sortie du réseau: [0.001 0.000 0.006 0.897 0.812 0.000 0.008 1.000 0.811 0.997] 7\n",
            "sortie attendue : [0.000 0.000 0.000 0.000 0.000 0.000 0.000 1.000 0.000 0.000] 7\n",
            "image 1\n",
            "sortie du réseau: [0.611 0.451 0.999 0.994 0.004 0.970 0.651 0.000 0.810 0.638] 2\n",
            "sortie attendue : [0.000 0.000 1.000 0.000 0.000 0.000 0.000 0.000 0.000 0.000] 2\n",
            "image 2\n",
            "sortie du réseau: [0.000 1.000 0.096 0.071 0.000 0.024 0.549 0.128 0.004 0.017] 1\n",
            "sortie attendue : [0.000 1.000 0.000 0.000 0.000 0.000 0.000 0.000 0.000 0.000] 1\n",
            "image 3\n",
            "sortie du réseau: [0.998 0.000 0.662 0.797 0.003 0.143 0.196 0.058 0.832 0.961] 0\n",
            "sortie attendue : [1.000 0.000 0.000 0.000 0.000 0.000 0.000 0.000 0.000 0.000] 0\n",
            "image 4\n",
            "sortie du réseau: [0.009 0.000 0.052 0.092 0.969 0.014 0.455 0.048 0.163 0.532] 4\n",
            "sortie attendue : [0.000 0.000 0.000 0.000 1.000 0.000 0.000 0.000 0.000 0.000] 4\n",
            "image 5\n",
            "sortie du réseau: [0.000 0.999 0.001 0.011 0.018 0.002 0.007 0.614 0.038 0.986] 1\n",
            "sortie attendue : [0.000 1.000 0.000 0.000 0.000 0.000 0.000 0.000 0.000 0.000] 1\n",
            "image 6\n",
            "sortie du réseau: [0.000 0.000 0.002 0.163 0.995 0.026 0.002 0.934 0.444 0.997] 9\n",
            "sortie attendue : [0.000 0.000 0.000 0.000 1.000 0.000 0.000 0.000 0.000 0.000] 4\n",
            "image 7\n",
            "sortie du réseau: [0.000 0.016 0.046 0.053 0.956 0.084 0.029 0.051 0.080 0.993] 9\n",
            "sortie attendue : [0.000 0.000 0.000 0.000 0.000 0.000 0.000 0.000 0.000 1.000] 9\n",
            "image 8\n",
            "sortie du réseau: [0.003 0.000 0.044 0.000 0.138 0.173 0.605 0.000 0.002 0.003] 6\n",
            "sortie attendue : [0.000 0.000 0.000 0.000 0.000 1.000 0.000 0.000 0.000 0.000] 5\n",
            "image 9\n",
            "sortie du réseau: [0.004 0.000 0.003 0.002 0.928 0.044 0.005 0.860 0.421 0.996] 9\n",
            "sortie attendue : [0.000 0.000 0.000 0.000 0.000 0.000 0.000 0.000 0.000 1.000] 9\n",
            "image 10\n",
            "sortie du réseau: [0.986 0.000 0.701 0.039 0.001 0.470 0.688 0.001 0.232 0.007] 0\n",
            "sortie attendue : [1.000 0.000 0.000 0.000 0.000 0.000 0.000 0.000 0.000 0.000] 0\n",
            "image 11\n",
            "sortie du réseau: [0.136 0.000 0.895 0.508 0.088 0.010 0.948 0.003 0.514 0.670] 6\n",
            "sortie attendue : [0.000 0.000 0.000 0.000 0.000 0.000 1.000 0.000 0.000 0.000] 6\n",
            "image 12\n",
            "sortie du réseau: [0.001 0.001 0.001 0.202 0.995 0.145 0.006 0.848 0.548 1.000] 9\n",
            "sortie attendue : [0.000 0.000 0.000 0.000 0.000 0.000 0.000 0.000 0.000 1.000] 9\n",
            "image 13\n",
            "sortie du réseau: [0.964 0.000 0.096 0.904 0.011 0.937 0.210 0.032 0.940 0.961] 0\n",
            "sortie attendue : [1.000 0.000 0.000 0.000 0.000 0.000 0.000 0.000 0.000 0.000] 0\n",
            "image 14\n",
            "sortie du réseau: [0.009 1.000 0.434 0.832 0.000 0.018 0.181 0.115 0.271 0.581] 1\n",
            "sortie attendue : [0.000 1.000 0.000 0.000 0.000 0.000 0.000 0.000 0.000 0.000] 1\n",
            "image 15\n",
            "sortie du réseau: [0.432 0.074 0.677 0.942 0.001 0.986 0.981 0.003 0.030 0.761] 5\n",
            "sortie attendue : [0.000 0.000 0.000 0.000 0.000 1.000 0.000 0.000 0.000 0.000] 5\n",
            "image 16\n",
            "sortie du réseau: [0.183 0.000 0.025 0.181 0.629 0.003 0.511 0.292 0.815 0.992] 9\n",
            "sortie attendue : [0.000 0.000 0.000 0.000 0.000 0.000 0.000 0.000 0.000 1.000] 9\n",
            "image 17\n",
            "sortie du réseau: [0.001 0.000 0.270 0.999 0.067 0.000 0.025 1.000 0.941 0.069] 7\n",
            "sortie attendue : [0.000 0.000 0.000 0.000 0.000 0.000 0.000 1.000 0.000 0.000] 7\n",
            "image 18\n",
            "sortie du réseau: [0.000 0.076 0.414 0.959 0.139 0.028 0.104 0.112 0.179 0.491] 3\n",
            "sortie attendue : [0.000 0.000 0.000 1.000 0.000 0.000 0.000 0.000 0.000 0.000] 3\n",
            "image 19\n",
            "sortie du réseau: [0.001 0.002 0.000 0.357 0.998 0.484 0.045 0.028 0.080 0.985] 4\n",
            "sortie attendue : [0.000 0.000 0.000 0.000 1.000 0.000 0.000 0.000 0.000 0.000] 4\n",
            "image 20\n",
            "sortie du réseau: [0.052 0.001 0.000 0.002 0.282 0.078 0.000 0.184 0.420 0.989] 9\n",
            "sortie attendue : [0.000 0.000 0.000 0.000 0.000 0.000 0.000 0.000 0.000 1.000] 9\n",
            "image 21\n",
            "sortie du réseau: [0.367 0.038 0.524 0.730 0.650 0.938 0.999 0.000 0.676 0.284] 6\n",
            "sortie attendue : [0.000 0.000 0.000 0.000 0.000 0.000 1.000 0.000 0.000 0.000] 6\n",
            "image 22\n",
            "sortie du réseau: [0.001 0.000 0.711 0.336 0.933 0.000 0.998 0.079 0.565 0.837] 6\n",
            "sortie attendue : [0.000 0.000 0.000 0.000 0.000 0.000 1.000 0.000 0.000 0.000] 6\n",
            "image 23\n",
            "sortie du réseau: [0.002 0.021 0.370 0.071 0.017 0.963 0.948 0.001 0.765 0.001] 5\n",
            "sortie attendue : [0.000 0.000 0.000 0.000 0.000 1.000 0.000 0.000 0.000 0.000] 5\n",
            "image 24\n",
            "sortie du réseau: [0.000 0.000 0.301 0.839 0.956 0.005 0.005 0.183 0.612 0.984] 9\n",
            "sortie attendue : [0.000 0.000 0.000 0.000 1.000 0.000 0.000 0.000 0.000 0.000] 4\n",
            "image 25\n",
            "sortie du réseau: [0.987 0.000 0.410 0.001 0.058 0.142 0.594 0.001 0.156 0.115] 0\n",
            "sortie attendue : [1.000 0.000 0.000 0.000 0.000 0.000 0.000 0.000 0.000 0.000] 0\n",
            "image 26\n",
            "sortie du réseau: [0.000 0.000 0.002 0.995 0.106 0.103 0.000 0.998 0.046 0.968] 7\n",
            "sortie attendue : [0.000 0.000 0.000 0.000 0.000 0.000 0.000 1.000 0.000 0.000] 7\n",
            "image 27\n",
            "sortie du réseau: [0.013 0.000 0.007 0.064 0.812 0.056 0.066 0.247 0.153 0.992] 9\n",
            "sortie attendue : [0.000 0.000 0.000 0.000 1.000 0.000 0.000 0.000 0.000 0.000] 4\n",
            "image 28\n",
            "sortie du réseau: [0.993 0.001 0.671 0.975 0.001 0.687 0.291 0.019 0.865 0.385] 0\n",
            "sortie attendue : [1.000 0.000 0.000 0.000 0.000 0.000 0.000 0.000 0.000 0.000] 0\n",
            "image 29\n",
            "sortie du réseau: [0.016 1.000 0.258 0.774 0.002 0.036 0.107 0.025 0.499 0.089] 1\n",
            "sortie attendue : [0.000 1.000 0.000 0.000 0.000 0.000 0.000 0.000 0.000 0.000] 1\n",
            "image 30\n",
            "sortie du réseau: [0.013 0.015 0.141 0.979 0.003 0.002 0.003 0.832 0.196 0.945] 3\n",
            "sortie attendue : [0.000 0.000 0.000 1.000 0.000 0.000 0.000 0.000 0.000 0.000] 3\n",
            "image 31\n",
            "sortie du réseau: [0.003 1.000 0.031 0.257 0.001 0.002 0.158 0.072 0.256 0.973] 1\n",
            "sortie attendue : [0.000 1.000 0.000 0.000 0.000 0.000 0.000 0.000 0.000 0.000] 1\n",
            "image 32\n",
            "sortie du réseau: [0.122 0.081 0.871 0.994 0.002 0.661 0.255 0.019 0.894 0.451] 3\n",
            "sortie attendue : [0.000 0.000 0.000 1.000 0.000 0.000 0.000 0.000 0.000 0.000] 3\n",
            "image 33\n",
            "sortie du réseau: [0.991 0.000 0.969 0.000 0.600 0.039 0.974 0.000 0.131 0.042] 0\n",
            "sortie attendue : [0.000 0.000 0.000 0.000 1.000 0.000 0.000 0.000 0.000 0.000] 4\n",
            "image 34\n",
            "sortie du réseau: [0.002 0.000 0.014 0.248 0.000 0.013 0.009 0.993 0.816 0.883] 7\n",
            "sortie attendue : [0.000 0.000 0.000 0.000 0.000 0.000 0.000 1.000 0.000 0.000] 7\n",
            "image 35\n",
            "sortie du réseau: [0.368 0.000 1.000 0.249 0.000 0.246 0.039 0.000 0.011 0.001] 2\n",
            "sortie attendue : [0.000 0.000 1.000 0.000 0.000 0.000 0.000 0.000 0.000 0.000] 2\n",
            "image 36\n",
            "sortie du réseau: [0.001 0.002 0.002 0.140 0.024 0.019 0.022 0.932 0.346 0.926] 7\n",
            "sortie attendue : [0.000 0.000 0.000 0.000 0.000 0.000 0.000 1.000 0.000 0.000] 7\n",
            "image 37\n",
            "sortie du réseau: [0.028 1.000 0.171 0.960 0.003 0.045 0.046 0.019 0.399 0.679] 1\n",
            "sortie attendue : [0.000 1.000 0.000 0.000 0.000 0.000 0.000 0.000 0.000 0.000] 1\n",
            "image 38\n",
            "sortie du réseau: [0.188 0.764 0.998 0.980 0.001 0.902 0.825 0.000 0.117 0.016] 2\n",
            "sortie attendue : [0.000 0.000 1.000 0.000 0.000 0.000 0.000 0.000 0.000 0.000] 2\n",
            "image 39\n",
            "sortie du réseau: [0.000 0.999 0.000 0.030 0.000 0.011 0.007 0.122 0.005 0.087] 1\n",
            "sortie attendue : [0.000 1.000 0.000 0.000 0.000 0.000 0.000 0.000 0.000 0.000] 1\n",
            "image 40\n",
            "sortie du réseau: [0.009 1.000 0.557 0.438 0.000 0.150 0.024 0.008 0.321 0.149] 1\n",
            "sortie attendue : [0.000 1.000 0.000 0.000 0.000 0.000 0.000 0.000 0.000 0.000] 1\n",
            "image 41\n",
            "sortie du réseau: [0.142 0.003 0.084 0.961 0.297 0.075 0.008 0.978 0.814 0.996] 9\n",
            "sortie attendue : [0.000 0.000 0.000 0.000 0.000 0.000 0.000 1.000 0.000 0.000] 7\n",
            "image 42\n",
            "sortie du réseau: [0.000 0.000 0.000 0.110 0.999 0.006 0.003 0.646 0.282 0.999] 4\n",
            "sortie attendue : [0.000 0.000 0.000 0.000 1.000 0.000 0.000 0.000 0.000 0.000] 4\n",
            "image 43\n",
            "sortie du réseau: [0.931 0.553 0.998 0.002 0.001 0.012 0.519 0.000 0.092 0.000] 2\n",
            "sortie attendue : [0.000 0.000 1.000 0.000 0.000 0.000 0.000 0.000 0.000 0.000] 2\n",
            "image 44\n",
            "sortie du réseau: [0.026 0.844 0.913 0.856 0.019 0.025 0.640 0.003 0.697 0.528] 2\n",
            "sortie attendue : [0.000 0.000 0.000 1.000 0.000 0.000 0.000 0.000 0.000 0.000] 3\n",
            "image 45\n",
            "sortie du réseau: [0.586 0.009 0.040 0.849 0.024 0.480 0.143 0.024 0.781 0.609] 3\n",
            "sortie attendue : [0.000 0.000 0.000 0.000 0.000 1.000 0.000 0.000 0.000 0.000] 5\n",
            "image 46\n",
            "sortie du réseau: [0.148 0.554 0.028 0.835 0.269 0.432 0.982 0.279 0.630 0.608] 6\n",
            "sortie attendue : [0.000 1.000 0.000 0.000 0.000 0.000 0.000 0.000 0.000 0.000] 1\n",
            "image 47\n",
            "sortie du réseau: [0.000 0.001 1.000 0.003 0.669 0.007 0.987 0.000 0.173 0.013] 2\n",
            "sortie attendue : [0.000 0.000 1.000 0.000 0.000 0.000 0.000 0.000 0.000 0.000] 2\n",
            "image 48\n",
            "sortie du réseau: [0.000 0.000 0.000 0.058 0.991 0.549 0.387 0.059 0.083 0.976] 4\n",
            "sortie attendue : [0.000 0.000 0.000 0.000 1.000 0.000 0.000 0.000 0.000 0.000] 4\n",
            "image 49\n",
            "sortie du réseau: [0.001 0.000 0.054 0.019 0.993 0.001 0.741 0.447 0.020 0.637] 4\n",
            "sortie attendue : [0.000 0.000 0.000 0.000 1.000 0.000 0.000 0.000 0.000 0.000] 4\n",
            "image 50\n",
            "sortie du réseau: [0.069 0.091 0.821 0.081 0.454 0.801 1.000 0.000 0.590 0.207] 6\n",
            "sortie attendue : [0.000 0.000 0.000 0.000 0.000 0.000 1.000 0.000 0.000 0.000] 6\n",
            "image 51\n",
            "sortie du réseau: [0.006 0.005 0.775 0.698 0.512 0.268 0.081 0.364 0.449 0.979] 9\n",
            "sortie attendue : [0.000 0.000 0.000 1.000 0.000 0.000 0.000 0.000 0.000 0.000] 3\n",
            "image 52\n",
            "sortie du réseau: [0.301 0.006 0.003 0.247 0.011 0.950 0.017 0.025 0.565 0.044] 5\n",
            "sortie attendue : [0.000 0.000 0.000 0.000 0.000 1.000 0.000 0.000 0.000 0.000] 5\n",
            "image 53\n",
            "sortie du réseau: [0.868 0.039 0.179 0.747 0.043 0.973 0.977 0.008 0.555 0.828] 6\n",
            "sortie attendue : [0.000 0.000 0.000 0.000 0.000 1.000 0.000 0.000 0.000 0.000] 5\n",
            "image 54\n",
            "sortie du réseau: [0.318 0.000 0.732 0.347 0.012 0.006 0.998 0.029 0.083 0.409] 6\n",
            "sortie attendue : [0.000 0.000 0.000 0.000 0.000 0.000 1.000 0.000 0.000 0.000] 6\n",
            "image 55\n",
            "sortie du réseau: [0.970 0.008 0.443 0.906 0.010 0.404 0.592 0.010 0.879 0.757] 0\n",
            "sortie attendue : [1.000 0.000 0.000 0.000 0.000 0.000 0.000 0.000 0.000 0.000] 0\n",
            "image 56\n",
            "sortie du réseau: [0.008 0.000 0.031 0.012 0.989 0.022 0.167 0.007 0.113 0.882] 4\n",
            "sortie attendue : [0.000 0.000 0.000 0.000 1.000 0.000 0.000 0.000 0.000 0.000] 4\n",
            "image 57\n",
            "sortie du réseau: [0.000 0.999 0.000 0.011 0.007 0.040 0.015 0.234 0.090 0.777] 1\n",
            "sortie attendue : [0.000 1.000 0.000 0.000 0.000 0.000 0.000 0.000 0.000 0.000] 1\n",
            "image 58\n",
            "sortie du réseau: [0.012 0.000 0.003 0.170 0.463 0.185 0.183 0.147 0.060 0.973] 9\n",
            "sortie attendue : [0.000 0.000 0.000 0.000 0.000 0.000 0.000 0.000 0.000 1.000] 9\n",
            "image 59\n",
            "sortie du réseau: [0.072 0.443 0.000 0.005 0.007 0.696 0.003 0.755 0.840 0.114] 8\n",
            "sortie attendue : [0.000 0.000 0.000 0.000 0.000 1.000 0.000 0.000 0.000 0.000] 5\n",
            "image 60\n",
            "sortie du réseau: [0.000 0.002 0.003 0.992 0.001 0.000 0.000 1.000 0.990 0.585] 7\n",
            "sortie attendue : [0.000 0.000 0.000 0.000 0.000 0.000 0.000 1.000 0.000 0.000] 7\n",
            "image 61\n",
            "sortie du réseau: [0.840 0.000 0.423 0.006 0.003 0.006 0.020 0.003 0.943 0.429] 8\n",
            "sortie attendue : [0.000 0.000 0.000 0.000 0.000 0.000 0.000 0.000 1.000 0.000] 8\n",
            "image 62\n",
            "sortie du réseau: [0.533 0.006 0.091 0.872 0.021 0.729 0.388 0.175 0.941 0.884] 8\n",
            "sortie attendue : [0.000 0.000 0.000 0.000 0.000 0.000 0.000 0.000 0.000 1.000] 9\n",
            "image 63\n",
            "sortie du réseau: [0.002 0.134 0.759 0.976 0.000 0.012 0.004 0.006 0.268 0.013] 3\n",
            "sortie attendue : [0.000 0.000 0.000 1.000 0.000 0.000 0.000 0.000 0.000 0.000] 3\n",
            "image 64\n",
            "sortie du réseau: [0.011 0.000 0.012 0.005 0.589 0.018 0.124 1.000 0.448 0.973] 7\n",
            "sortie attendue : [0.000 0.000 0.000 0.000 0.000 0.000 0.000 1.000 0.000 0.000] 7\n",
            "image 65\n",
            "sortie du réseau: [0.001 0.039 0.000 0.027 0.976 0.276 0.001 0.120 0.023 0.993] 9\n",
            "sortie attendue : [0.000 0.000 0.000 0.000 1.000 0.000 0.000 0.000 0.000 0.000] 4\n",
            "image 66\n",
            "sortie du réseau: [0.077 0.000 0.378 0.526 0.874 0.001 0.883 0.013 0.670 0.979] 9\n",
            "sortie attendue : [0.000 0.000 0.000 0.000 0.000 0.000 1.000 0.000 0.000 0.000] 6\n",
            "image 67\n",
            "sortie du réseau: [0.000 0.000 0.019 0.000 1.000 0.004 0.024 0.002 0.000 0.068] 4\n",
            "sortie attendue : [0.000 0.000 0.000 0.000 1.000 0.000 0.000 0.000 0.000 0.000] 4\n",
            "image 68\n",
            "sortie du réseau: [0.643 0.009 0.305 0.795 0.251 0.089 0.727 0.142 0.955 0.823] 8\n",
            "sortie attendue : [0.000 0.000 0.000 1.000 0.000 0.000 0.000 0.000 0.000 0.000] 3\n",
            "image 69\n",
            "sortie du réseau: [0.995 0.000 0.102 0.078 0.137 0.567 0.058 0.002 0.167 0.379] 0\n",
            "sortie attendue : [1.000 0.000 0.000 0.000 0.000 0.000 0.000 0.000 0.000 0.000] 0\n",
            "image 70\n",
            "sortie du réseau: [0.030 0.000 0.004 0.825 0.002 0.000 0.011 1.000 0.917 0.095] 7\n",
            "sortie attendue : [0.000 0.000 0.000 0.000 0.000 0.000 0.000 1.000 0.000 0.000] 7\n",
            "image 71\n",
            "sortie du réseau: [0.987 0.001 0.089 0.091 0.001 0.021 0.062 0.008 0.032 0.122] 0\n",
            "sortie attendue : [1.000 0.000 0.000 0.000 0.000 0.000 0.000 0.000 0.000 0.000] 0\n",
            "image 72\n",
            "sortie du réseau: [0.000 0.000 0.999 0.072 0.000 0.001 0.071 0.000 0.081 0.012] 2\n",
            "sortie attendue : [0.000 0.000 1.000 0.000 0.000 0.000 0.000 0.000 0.000 0.000] 2\n",
            "image 73\n",
            "sortie du réseau: [0.001 0.003 0.000 0.007 0.001 0.005 0.000 0.245 0.011 0.488] 9\n",
            "sortie attendue : [0.000 0.000 0.000 0.000 0.000 0.000 0.000 0.000 0.000 1.000] 9\n",
            "image 74\n",
            "sortie du réseau: [0.022 1.000 0.092 0.864 0.001 0.484 0.009 0.003 0.312 0.304] 1\n",
            "sortie attendue : [0.000 1.000 0.000 0.000 0.000 0.000 0.000 0.000 0.000 0.000] 1\n",
            "image 75\n",
            "sortie du réseau: [0.002 0.001 0.007 0.864 0.978 0.296 0.005 0.787 0.693 0.997] 9\n",
            "sortie attendue : [0.000 0.000 0.000 0.000 0.000 0.000 0.000 1.000 0.000 0.000] 7\n",
            "image 76\n",
            "sortie du réseau: [0.401 0.315 0.572 0.976 0.003 0.556 0.678 0.077 0.913 0.280] 3\n",
            "sortie attendue : [0.000 0.000 0.000 1.000 0.000 0.000 0.000 0.000 0.000 0.000] 3\n",
            "image 77\n",
            "sortie du réseau: [0.002 0.000 0.237 0.213 0.071 0.032 0.115 0.506 0.831 0.971] 9\n",
            "sortie attendue : [0.000 0.000 1.000 0.000 0.000 0.000 0.000 0.000 0.000 0.000] 2\n",
            "image 78\n",
            "sortie du réseau: [0.000 0.026 0.001 0.000 0.411 0.001 0.000 0.011 0.036 0.768] 9\n",
            "sortie attendue : [0.000 0.000 0.000 0.000 0.000 0.000 0.000 0.000 0.000 1.000] 9\n",
            "image 79\n",
            "sortie du réseau: [0.013 0.000 0.001 0.002 0.051 0.223 0.001 0.865 0.049 0.935] 9\n",
            "sortie attendue : [0.000 0.000 0.000 0.000 0.000 0.000 0.000 1.000 0.000 0.000] 7\n",
            "image 80\n",
            "sortie du réseau: [0.004 0.003 0.000 0.088 0.387 0.215 0.000 0.720 0.105 0.999] 9\n",
            "sortie attendue : [0.000 0.000 0.000 0.000 0.000 0.000 0.000 1.000 0.000 0.000] 7\n",
            "image 81\n",
            "sortie du réseau: [0.631 0.355 0.256 0.861 0.243 0.992 0.996 0.001 0.826 0.611] 6\n",
            "sortie attendue : [0.000 0.000 0.000 0.000 0.000 0.000 1.000 0.000 0.000 0.000] 6\n",
            "image 82\n",
            "sortie du réseau: [0.001 0.001 1.000 0.277 0.003 0.006 0.167 0.000 0.347 0.003] 2\n",
            "sortie attendue : [0.000 0.000 1.000 0.000 0.000 0.000 0.000 0.000 0.000 0.000] 2\n",
            "image 83\n",
            "sortie du réseau: [0.000 0.000 0.006 0.896 0.429 0.017 0.000 1.000 0.901 0.998] 7\n",
            "sortie attendue : [0.000 0.000 0.000 0.000 0.000 0.000 0.000 1.000 0.000 0.000] 7\n",
            "image 84\n",
            "sortie du réseau: [0.025 0.001 0.000 0.050 0.711 0.986 0.002 0.052 0.668 0.832] 5\n",
            "sortie attendue : [0.000 0.000 0.000 0.000 0.000 0.000 0.000 0.000 1.000 0.000] 8\n",
            "image 85\n",
            "sortie du réseau: [0.000 0.000 0.001 0.003 1.000 0.119 0.349 0.082 0.065 0.580] 4\n",
            "sortie attendue : [0.000 0.000 0.000 0.000 1.000 0.000 0.000 0.000 0.000 0.000] 4\n",
            "image 86\n",
            "sortie du réseau: [0.033 0.005 0.020 0.320 0.443 0.006 0.002 0.998 0.835 0.998] 7\n",
            "sortie attendue : [0.000 0.000 0.000 0.000 0.000 0.000 0.000 1.000 0.000 0.000] 7\n",
            "image 87\n",
            "sortie du réseau: [0.041 0.061 0.503 0.986 0.022 0.043 0.102 0.206 0.242 0.531] 3\n",
            "sortie attendue : [0.000 0.000 0.000 1.000 0.000 0.000 0.000 0.000 0.000 0.000] 3\n",
            "image 88\n",
            "sortie du réseau: [0.832 0.000 0.862 0.469 0.761 0.106 1.000 0.000 0.019 0.105] 6\n",
            "sortie attendue : [0.000 0.000 0.000 0.000 0.000 0.000 1.000 0.000 0.000 0.000] 6\n",
            "image 89\n",
            "sortie du réseau: [0.000 0.986 0.049 0.038 0.025 0.002 0.195 0.008 0.022 0.073] 1\n",
            "sortie attendue : [0.000 1.000 0.000 0.000 0.000 0.000 0.000 0.000 0.000 0.000] 1\n",
            "image 90\n",
            "sortie du réseau: [0.394 0.000 0.136 0.998 0.001 0.132 0.039 0.007 0.814 0.348] 3\n",
            "sortie attendue : [0.000 0.000 0.000 1.000 0.000 0.000 0.000 0.000 0.000 0.000] 3\n",
            "image 91\n",
            "sortie du réseau: [0.004 0.013 0.777 0.102 0.949 0.754 1.000 0.000 0.563 0.054] 6\n",
            "sortie attendue : [0.000 0.000 0.000 0.000 0.000 0.000 1.000 0.000 0.000 0.000] 6\n",
            "image 92\n",
            "sortie du réseau: [0.000 0.016 0.001 0.002 0.030 0.006 0.008 0.003 0.127 0.413] 9\n",
            "sortie attendue : [0.000 0.000 0.000 0.000 0.000 0.000 0.000 0.000 0.000 1.000] 9\n",
            "image 93\n",
            "sortie du réseau: [0.554 0.538 0.566 0.994 0.002 0.102 0.444 0.029 0.703 0.216] 3\n",
            "sortie attendue : [0.000 0.000 0.000 1.000 0.000 0.000 0.000 0.000 0.000 0.000] 3\n",
            "image 94\n",
            "sortie du réseau: [0.125 0.989 0.261 0.749 0.010 0.431 0.285 0.055 0.464 0.361] 1\n",
            "sortie attendue : [0.000 1.000 0.000 0.000 0.000 0.000 0.000 0.000 0.000 0.000] 1\n",
            "image 95\n",
            "sortie du réseau: [0.084 0.000 0.005 0.013 0.963 0.130 0.627 0.004 0.075 0.431] 4\n",
            "sortie attendue : [0.000 0.000 0.000 0.000 1.000 0.000 0.000 0.000 0.000 0.000] 4\n",
            "image 96\n",
            "sortie du réseau: [0.002 0.978 0.005 0.400 0.049 0.086 0.235 0.028 0.404 0.960] 1\n",
            "sortie attendue : [0.000 1.000 0.000 0.000 0.000 0.000 0.000 0.000 0.000 0.000] 1\n",
            "image 97\n",
            "sortie du réseau: [0.018 0.000 0.051 0.679 0.950 0.007 0.009 0.999 0.641 0.999] 7\n",
            "sortie attendue : [0.000 0.000 0.000 0.000 0.000 0.000 0.000 1.000 0.000 0.000] 7\n",
            "image 98\n",
            "sortie du réseau: [0.216 0.001 0.235 0.012 0.441 0.996 0.999 0.000 0.111 0.011] 6\n",
            "sortie attendue : [0.000 0.000 0.000 0.000 0.000 0.000 1.000 0.000 0.000 0.000] 6\n",
            "image 99\n",
            "sortie du réseau: [0.000 0.000 0.027 0.335 0.911 0.011 0.008 0.214 0.354 0.996] 9\n",
            "sortie attendue : [0.000 0.000 0.000 0.000 0.000 0.000 0.000 0.000 0.000 1.000] 9\n"
          ],
          "name": "stdout"
        }
      ]
    },
    {
      "cell_type": "markdown",
      "metadata": {
        "id": "CJxEa8alIdVh"
      },
      "source": [
        "courbe d'erreur avec la méthode D'AdamOptimizer\n"
      ]
    },
    {
      "cell_type": "markdown",
      "metadata": {
        "id": "v7rjor0pIW7z"
      },
      "source": [
        "![Screen Shot 2021-01-28 at 6.53.51 PM.png](data:image/png;base64,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)"
      ]
    },
    {
      "cell_type": "markdown",
      "metadata": {
        "id": "eopFO8MQKZE2"
      },
      "source": [
        "courbe d'erreur avec la méthode Du GradientDescentOptimizer\n",
        "avec le même nombre d'époch\n",
        "\n"
      ]
    },
    {
      "cell_type": "markdown",
      "metadata": {
        "id": "qL02lgdmK815"
      },
      "source": [
        "![Screen Shot 2021-01-28 at 7.02.16 PM.png](data:image/png;base64,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)"
      ]
    },
    {
      "cell_type": "markdown",
      "metadata": {
        "id": "cQxze89gK27f"
      },
      "source": [
        "courbe d'erreur avec la méthode Du GradientDescentOptimizer\n",
        "avec nombre époch=40"
      ]
    },
    {
      "cell_type": "markdown",
      "metadata": {
        "id": "XOUP3SBOLIGl"
      },
      "source": [
        "![Screen Shot 2021-01-28 at 6.59.39 PM.png](data:image/png;base64,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)"
      ]
    },
    {
      "cell_type": "markdown",
      "metadata": {
        "id": "ZNQk_A6gMP7c"
      },
      "source": [
        "En utilisant le même nombre d'époch, on obtient un meilleur modèle da classification avec la méthode du Gradient Descendant.\n",
        "En augmentant le nombre d'époch, la courbe d'erreur tend beaucoup plus vers 0."
      ]
    },
    {
      "cell_type": "markdown",
      "metadata": {
        "id": "eDo-DiHXNZpF"
      },
      "source": [
        "le code suivant est relatif aux parties 5 et 6. On a allégé le code à travers les fonctions \"convolution\" et \"fc\" et on a ajouté les couches de normalisation."
      ]
    },
    {
      "cell_type": "code",
      "metadata": {
        "id": "6vz0eKWDkxR9",
        "colab": {
          "base_uri": "https://localhost:8080/",
          "height": 1000
        },
        "outputId": "5084c433-6efe-41da-9b37-12fb88af11e6"
      },
      "source": [
        "%tensorflow_version 1.x\n",
        "import tensorflow.compat.v1 as tf\n",
        "tf.disable_v2_behavior()\n",
        "import numpy as np\n",
        "import matplotlib.pyplot as plot\n",
        "import cv2\n",
        "\n",
        "taille_batch=100\n",
        "epoch_nbr=10\n",
        "learning_rate=0.001\n",
        "nbr_ni=512\n",
        "\n",
        "mnist_train_images=np.fromfile(\"/content/drive/MyDrive/dataset/mnist/train-images.idx3-ubyte\", dtype=np.uint8)[16:].reshape(-1, 28, 28, 1)/255\n",
        "mnist_train_labels=np.eye(10)[np.fromfile(\"/content/drive/MyDrive/dataset/mnist/train-labels.idx1-ubyte\", dtype=np.uint8)[8:]]\n",
        "mnist_test_images=np.fromfile(\"/content/drive/MyDrive/dataset/mnist/t10k-images.idx3-ubyte\", dtype=np.uint8)[16:].reshape(-1, 28, 28, 1)/255\n",
        "mnist_test_labels=np.eye(10)[np.fromfile(\"/content/drive/MyDrive/dataset/mnist/t10k-labels.idx1-ubyte\", dtype=np.uint8)[8:]]\n",
        "\n",
        "ph_images=tf.placeholder(shape=(None, 28, 28, 1), dtype=tf.float32)\n",
        "ph_labels=tf.placeholder(shape=(None, 10), dtype=tf.float32)\n",
        "\n",
        "#(..... A COMPLETER AVEC L'ARCHIECTURE DU RESEAU CONVOLUTIF ......)\n",
        "nbr_noyau12 = 16\n",
        "nbr_noyau34 = 32\n",
        "taille_noyau = 5\n",
        "# fonction de concolution\n",
        "def convolution(couche_prec, taille_n, nbr_noyau):\n",
        "  #nouvelle couche\n",
        "  # Création des pondérations en les initialisant selon une loi normale\n",
        "  w=tf.Variable(tf.random.truncated_normal(shape=(taille_n, taille_n, int(couche_prec.shape[-1]), nbr_noyau)))\n",
        "  # Création des biais en les initialisant à 0\n",
        "  b=np.zeros(nbr_noyau)\n",
        "  # Définition de l'opération de convolution sur la couche_prec\n",
        "  result_conv=tf.nn.conv2d(couche_prec, w, strides=[1, 1, 1, 1], padding='SAME')\n",
        "  # Ajout du biais\n",
        "  result=result_conv+b\n",
        "  return result\n",
        "# fonction de fc\n",
        "def fc(couche_prec, nbr_neurone):\n",
        "  #nouvelle couche FC\n",
        "  # Création des pondérations en les initialisant selon une loi normale\n",
        "  w=tf.Variable(tf.truncated_normal(shape=(int(couche_prec.shape[-1]),nbr_neurone )), dtype=tf.float32)\n",
        "  # Création des biais en les initialisant à 0\n",
        "  b=tf.Variable(np.zeros(shape=(nbr_neurone)), dtype=tf.float32)\n",
        "  # couche FC_1 activé par une fonction sigmoid\n",
        "  result=tf.matmul(couche_prec, w)+b\n",
        "  return result\n",
        "# fonction de normalisation\n",
        "def normalisation(couche_prec):\n",
        "    mean, var=tf.nn.moments(couche_prec, [0])\n",
        "    scale=tf.Variable(tf.ones(shape=(np.shape(couche_prec)[-1])))\n",
        "    beta=tf.Variable(tf.zeros(shape=(np.shape(couche_prec)[-1])))\n",
        "    result=tf.nn.batch_normalization(couche_prec, mean, var, beta, scale, 0.001)\n",
        "    return result\n",
        "\n",
        "#1ere couche\n",
        "result=convolution(ph_images,taille_noyau,nbr_noyau12)\n",
        "result=normalisation(result)\n",
        "result = tf.nn.relu(result)\n",
        "#2eme couche\n",
        "result=convolution(result,taille_noyau,nbr_noyau12)\n",
        "#pooling\n",
        "result = tf.nn.max_pool(value=result,\n",
        "                               ksize=[1, 2, 2, 1],\n",
        "                               strides=[1, 2, 2, 1],\n",
        "                               padding='SAME')\n",
        "result=normalisation(result)\n",
        "result = tf.nn.relu(result)\n",
        "#3eme couche\n",
        "result=convolution(result,taille_noyau,nbr_noyau34)\n",
        "#pooling\n",
        "result = tf.nn.max_pool(value=result,\n",
        "                               ksize=[1, 2, 2, 1],\n",
        "                               strides=[1, 2, 2, 1],\n",
        "                               padding='SAME')\n",
        "result=normalisation(result)\n",
        "result = tf.nn.relu(result)\n",
        "#4eme couche\n",
        "result=convolution(result,taille_noyau,nbr_noyau34)\n",
        "#pooling\n",
        "result = tf.nn.max_pool(value=result,\n",
        "                               ksize=[1, 2, 2, 1],\n",
        "                               strides=[1, 2, 2, 1],\n",
        "                               padding='SAME')\n",
        "result=normalisation(result)\n",
        "result = tf.nn.relu(result)\n",
        "\n",
        "#Applatissement de la dernière couche\n",
        "result = tf.layers.flatten(result)\n",
        "\n",
        "\n",
        "#1ere couche FC\n",
        "result= fc(result, nbr_ni)\n",
        "result=normalisation(result)\n",
        "result=tf.nn.sigmoid(result)\n",
        "#2eme couche FC\n",
        "scs= fc(result, 10)\n",
        "result=tf.nn.sigmoid(scs)\n",
        "\n",
        "\n",
        "\n",
        "# fonction Loss\n",
        "loss=tf.nn.softmax_cross_entropy_with_logits_v2(labels=ph_labels, logits=scs)\n",
        "# métrique de précision\n",
        "accuracy=tf.reduce_mean(tf.cast(tf.equal(tf.argmax(result, 1), tf.argmax(ph_labels, 1)), tf.float32))\n",
        "# ensemble d'apprentissage\n",
        "#train=tf.train.AdamOptimizer(learning_rate).minimize(loss)\n",
        "train= tf.train.GradientDescentOptimizer(learning_rate).minimize(loss)\n",
        "\n",
        "with tf.Session() as s:\n",
        "    s.run(tf.global_variables_initializer())\n",
        "    \n",
        "    tab_train=[]\n",
        "    tab_test=[]\n",
        "    \n",
        "    for id_entrainement in np.arange(epoch_nbr):\n",
        "      print(\"> Entrainement\", id_entrainement)\n",
        "      tab_accuracy_train=[]\n",
        "      tab_accuracy_test=[]\n",
        "      for batch in np.arange(0, len(mnist_train_images), taille_batch):\n",
        "          s.run(train, feed_dict={\n",
        "              ph_images: mnist_train_images[batch:batch+taille_batch],\n",
        "              ph_labels: mnist_train_labels[batch:batch+taille_batch]\n",
        "          })\n",
        "      for batch in np.arange(0, len(mnist_train_images), taille_batch):\n",
        "          precision=s.run(accuracy, feed_dict={\n",
        "              ph_images: mnist_train_images[batch:batch+taille_batch],\n",
        "              ph_labels: mnist_train_labels[batch:batch+taille_batch]\n",
        "          })\n",
        "          tab_accuracy_train.append(precision)\n",
        "      for batch in np.arange(0, len(mnist_test_images), taille_batch):\n",
        "          precision=s.run(accuracy, feed_dict={\n",
        "              ph_images: mnist_test_images[batch:batch+taille_batch],\n",
        "              ph_labels: mnist_test_labels[batch:batch+taille_batch]\n",
        "          })\n",
        "          tab_accuracy_test.append(precision)\n",
        "\n",
        "      print(\"  train:\", np.mean(tab_accuracy_train))\n",
        "      tab_train.append(1-np.mean(tab_accuracy_train))\n",
        "      print(\"  test :\", np.mean(tab_accuracy_test))\n",
        "      tab_test.append(1-np.mean(tab_accuracy_test))\n",
        "\n",
        "    plot.ylim(0, 1)\n",
        "    plot.grid()\n",
        "    plot.plot(tab_train, label=\"Train error\")\n",
        "    plot.plot(tab_test, label=\"Test error\")\n",
        "    plot.legend(loc=\"upper right\")\n",
        "    plot.show()\n",
        "    \n",
        "    \n",
        "    resulat=s.run(result, feed_dict={ph_images: mnist_test_images[0:taille_batch]})\n",
        "    np.set_printoptions(formatter={'float': '{:0.3f}'.format})\n",
        "    for image in range(taille_batch):\n",
        "        print(\"image\", image)\n",
        "        print(\"sortie du réseau:\", resulat[image], np.argmax(resulat[image]))\n",
        "        print(\"sortie attendue :\", mnist_test_labels[image], np.argmax(mnist_test_labels[image]))\n",
        "        #plot.imshow(mnist_test_images[image].reshape(28,28),cmap='gray')\n",
        "        #plot.show()\n",
        "        if cv2.waitKey()&0xFF==ord('q'):\n",
        "            break"
      ],
      "execution_count": null,
      "outputs": [
        {
          "output_type": "stream",
          "text": [
            "> Entrainement 0\n",
            "  train: 0.8779834\n",
            "  test : 0.87810004\n",
            "> Entrainement 1\n",
            "  train: 0.91791666\n",
            "  test : 0.9182\n",
            "> Entrainement 2\n",
            "  train: 0.935\n",
            "  test : 0.9324\n",
            "> Entrainement 3\n",
            "  train: 0.94468343\n",
            "  test : 0.94069993\n",
            "> Entrainement 4\n",
            "  train: 0.95166665\n",
            "  test : 0.94549996\n",
            "> Entrainement 5\n",
            "  train: 0.9564333\n",
            "  test : 0.9494999\n",
            "> Entrainement 6\n",
            "  train: 0.96025\n",
            "  test : 0.953\n",
            "> Entrainement 7\n",
            "  train: 0.96308327\n",
            "  test : 0.956\n",
            "> Entrainement 8\n",
            "  train: 0.96565\n",
            "  test : 0.9572\n",
            "> Entrainement 9\n",
            "  train: 0.9677334\n",
            "  test : 0.95939994\n"
          ],
          "name": "stdout"
        },
        {
          "output_type": "display_data",
          "data": {
            "image/png": "[encoded data removed]",
            "text/plain": [
              "<Figure size 432x288 with 1 Axes>"
            ]
          },
          "metadata": {
            "tags": [],
            "needs_background": "light"
          }
        },
        {
          "output_type": "stream",
          "text": [
            "image 0\n",
            "sortie du réseau: [0.000 0.000 0.001 0.015 0.000 0.000 0.000 1.000 0.002 0.069] 7\n",
            "sortie attendue : [0.000 0.000 0.000 0.000 0.000 0.000 0.000 1.000 0.000 0.000] 7\n",
            "image 1\n",
            "sortie du réseau: [0.349 0.881 1.000 0.002 0.001 0.000 0.834 0.000 0.137 0.000] 2\n",
            "sortie attendue : [0.000 0.000 1.000 0.000 0.000 0.000 0.000 0.000 0.000 0.000] 2\n",
            "image 2\n",
            "sortie du réseau: [0.000 0.965 0.002 0.000 0.001 0.002 0.002 0.000 0.021 0.000] 1\n",
            "sortie attendue : [0.000 1.000 0.000 0.000 0.000 0.000 0.000 0.000 0.000 0.000] 1\n",
            "image 3\n",
            "sortie du réseau: [1.000 0.000 0.095 0.004 0.000 0.044 0.324 0.000 0.000 0.011] 0\n",
            "sortie attendue : [1.000 0.000 0.000 0.000 0.000 0.000 0.000 0.000 0.000 0.000] 0\n",
            "image 4\n",
            "sortie du réseau: [0.003 0.014 0.007 0.000 0.995 0.000 0.001 0.000 0.015 0.305] 4\n",
            "sortie attendue : [0.000 0.000 0.000 0.000 1.000 0.000 0.000 0.000 0.000 0.000] 4\n",
            "image 5\n",
            "sortie du réseau: [0.001 0.987 0.001 0.000 0.007 0.000 0.001 0.002 0.017 0.000] 1\n",
            "sortie attendue : [0.000 1.000 0.000 0.000 0.000 0.000 0.000 0.000 0.000 0.000] 1\n",
            "image 6\n",
            "sortie du réseau: [0.000 0.000 0.000 0.010 0.997 0.000 0.000 0.000 0.952 0.023] 4\n",
            "sortie attendue : [0.000 0.000 0.000 0.000 1.000 0.000 0.000 0.000 0.000 0.000] 4\n",
            "image 7\n",
            "sortie du réseau: [0.006 0.729 0.213 0.011 0.431 0.106 0.053 0.002 0.043 0.990] 9\n",
            "sortie attendue : [0.000 0.000 0.000 0.000 0.000 0.000 0.000 0.000 0.000 1.000] 9\n",
            "image 8\n",
            "sortie du réseau: [0.002 0.000 0.000 0.000 0.000 1.000 0.201 0.000 0.127 0.000] 5\n",
            "sortie attendue : [0.000 0.000 0.000 0.000 0.000 1.000 0.000 0.000 0.000 0.000] 5\n",
            "image 9\n",
            "sortie du réseau: [0.000 0.000 0.000 0.000 0.008 0.000 0.000 0.324 0.005 0.967] 9\n",
            "sortie attendue : [0.000 0.000 0.000 0.000 0.000 0.000 0.000 0.000 0.000 1.000] 9\n",
            "image 10\n",
            "sortie du réseau: [0.992 0.000 0.300 0.010 0.000 0.308 0.000 0.001 0.002 0.000] 0\n",
            "sortie attendue : [1.000 0.000 0.000 0.000 0.000 0.000 0.000 0.000 0.000 0.000] 0\n",
            "image 11\n",
            "sortie du réseau: [0.343 0.000 0.098 0.000 0.000 0.002 0.992 0.000 0.057 0.000] 6\n",
            "sortie attendue : [0.000 0.000 0.000 0.000 0.000 0.000 1.000 0.000 0.000 0.000] 6\n",
            "image 12\n",
            "sortie du réseau: [0.001 0.000 0.000 0.003 0.353 0.000 0.001 0.062 0.023 0.999] 9\n",
            "sortie attendue : [0.000 0.000 0.000 0.000 0.000 0.000 0.000 0.000 0.000 1.000] 9\n",
            "image 13\n",
            "sortie du réseau: [1.000 0.010 0.499 0.002 0.000 0.006 0.046 0.001 0.243 0.032] 0\n",
            "sortie attendue : [1.000 0.000 0.000 0.000 0.000 0.000 0.000 0.000 0.000 0.000] 0\n",
            "image 14\n",
            "sortie du réseau: [0.002 0.958 0.000 0.001 0.000 0.004 0.006 0.000 0.006 0.000] 1\n",
            "sortie attendue : [0.000 1.000 0.000 0.000 0.000 0.000 0.000 0.000 0.000 0.000] 1\n",
            "image 15\n",
            "sortie du réseau: [0.028 0.001 0.072 0.990 0.000 1.000 0.004 0.004 0.158 0.787] 5\n",
            "sortie attendue : [0.000 0.000 0.000 0.000 0.000 1.000 0.000 0.000 0.000 0.000] 5\n",
            "image 16\n",
            "sortie du réseau: [0.001 0.000 0.001 0.003 0.002 0.001 0.000 0.057 0.024 0.999] 9\n",
            "sortie attendue : [0.000 0.000 0.000 0.000 0.000 0.000 0.000 0.000 0.000 1.000] 9\n",
            "image 17\n",
            "sortie du réseau: [0.007 0.000 0.060 0.016 0.000 0.000 0.000 1.000 0.000 0.010] 7\n",
            "sortie attendue : [0.000 0.000 0.000 0.000 0.000 0.000 0.000 1.000 0.000 0.000] 7\n",
            "image 18\n",
            "sortie du réseau: [0.001 0.000 0.002 0.806 0.001 0.692 0.063 0.000 0.968 0.004] 8\n",
            "sortie attendue : [0.000 0.000 0.000 1.000 0.000 0.000 0.000 0.000 0.000 0.000] 3\n",
            "image 19\n",
            "sortie du réseau: [0.000 0.001 0.000 0.000 1.000 0.000 0.000 0.006 0.001 0.004] 4\n",
            "sortie attendue : [0.000 0.000 0.000 0.000 1.000 0.000 0.000 0.000 0.000 0.000] 4\n",
            "image 20\n",
            "sortie du réseau: [0.000 0.000 0.000 0.070 0.003 0.000 0.000 0.053 0.002 0.474] 9\n",
            "sortie attendue : [0.000 0.000 0.000 0.000 0.000 0.000 0.000 0.000 0.000 1.000] 9\n",
            "image 21\n",
            "sortie du réseau: [0.699 0.008 0.000 0.000 0.003 0.163 0.999 0.000 0.145 0.001] 6\n",
            "sortie attendue : [0.000 0.000 0.000 0.000 0.000 0.000 1.000 0.000 0.000 0.000] 6\n",
            "image 22\n",
            "sortie du réseau: [0.025 0.000 0.004 0.000 0.008 0.000 0.988 0.000 0.003 0.000] 6\n",
            "sortie attendue : [0.000 0.000 0.000 0.000 0.000 0.000 1.000 0.000 0.000 0.000] 6\n",
            "image 23\n",
            "sortie du réseau: [0.005 0.000 0.000 0.038 0.000 1.000 0.008 0.000 0.006 0.002] 5\n",
            "sortie attendue : [0.000 0.000 0.000 0.000 0.000 1.000 0.000 0.000 0.000 0.000] 5\n",
            "image 24\n",
            "sortie du réseau: [0.000 0.000 0.000 0.000 0.905 0.003 0.001 0.001 0.015 0.009] 4\n",
            "sortie attendue : [0.000 0.000 0.000 0.000 1.000 0.000 0.000 0.000 0.000 0.000] 4\n",
            "image 25\n",
            "sortie du réseau: [1.000 0.000 0.002 0.001 0.001 0.405 0.711 0.000 0.161 0.002] 0\n",
            "sortie attendue : [1.000 0.000 0.000 0.000 0.000 0.000 0.000 0.000 0.000 0.000] 0\n",
            "image 26\n",
            "sortie du réseau: [0.000 0.000 0.000 0.099 0.000 0.000 0.000 0.997 0.000 0.667] 7\n",
            "sortie attendue : [0.000 0.000 0.000 0.000 0.000 0.000 0.000 1.000 0.000 0.000] 7\n",
            "image 27\n",
            "sortie du réseau: [0.000 0.000 0.000 0.000 1.000 0.000 0.000 0.000 0.005 0.099] 4\n",
            "sortie attendue : [0.000 0.000 0.000 0.000 1.000 0.000 0.000 0.000 0.000 0.000] 4\n",
            "image 28\n",
            "sortie du réseau: [1.000 0.000 0.301 0.239 0.000 0.000 0.002 0.000 0.005 0.000] 0\n",
            "sortie attendue : [1.000 0.000 0.000 0.000 0.000 0.000 0.000 0.000 0.000 0.000] 0\n",
            "image 29\n",
            "sortie du réseau: [0.000 0.884 0.000 0.005 0.011 0.002 0.002 0.139 0.007 0.001] 1\n",
            "sortie attendue : [0.000 1.000 0.000 0.000 0.000 0.000 0.000 0.000 0.000 0.000] 1\n",
            "image 30\n",
            "sortie du réseau: [0.000 0.000 0.001 0.998 0.000 0.010 0.000 0.003 0.000 0.032] 3\n",
            "sortie attendue : [0.000 0.000 0.000 1.000 0.000 0.000 0.000 0.000 0.000 0.000] 3\n",
            "image 31\n",
            "sortie du réseau: [0.000 0.881 0.000 0.004 0.004 0.004 0.000 0.001 0.006 0.003] 1\n",
            "sortie attendue : [0.000 1.000 0.000 0.000 0.000 0.000 0.000 0.000 0.000 0.000] 1\n",
            "image 32\n",
            "sortie du réseau: [0.000 0.000 0.016 0.999 0.000 0.196 0.000 0.000 0.003 0.000] 3\n",
            "sortie attendue : [0.000 0.000 0.000 1.000 0.000 0.000 0.000 0.000 0.000 0.000] 3\n",
            "image 33\n",
            "sortie du réseau: [0.750 0.030 0.016 0.000 0.996 0.452 0.014 0.016 0.056 0.005] 4\n",
            "sortie attendue : [0.000 0.000 0.000 0.000 1.000 0.000 0.000 0.000 0.000 0.000] 4\n",
            "image 34\n",
            "sortie du réseau: [0.000 0.000 0.010 0.029 0.000 0.000 0.000 0.996 0.002 0.000] 7\n",
            "sortie attendue : [0.000 0.000 0.000 0.000 0.000 0.000 0.000 1.000 0.000 0.000] 7\n",
            "image 35\n",
            "sortie du réseau: [0.000 0.531 0.999 0.001 0.000 0.001 0.000 0.000 0.025 0.000] 2\n",
            "sortie attendue : [0.000 0.000 1.000 0.000 0.000 0.000 0.000 0.000 0.000 0.000] 2\n",
            "image 36\n",
            "sortie du réseau: [0.000 0.000 0.018 0.002 0.000 0.000 0.000 0.997 0.001 0.004] 7\n",
            "sortie attendue : [0.000 0.000 0.000 0.000 0.000 0.000 0.000 1.000 0.000 0.000] 7\n",
            "image 37\n",
            "sortie du réseau: [0.002 0.986 0.000 0.001 0.004 0.004 0.002 0.026 0.028 0.002] 1\n",
            "sortie attendue : [0.000 1.000 0.000 0.000 0.000 0.000 0.000 0.000 0.000 0.000] 1\n",
            "image 38\n",
            "sortie du réseau: [0.748 0.008 0.910 0.006 0.000 0.004 0.581 0.000 0.003 0.000] 2\n",
            "sortie attendue : [0.000 0.000 1.000 0.000 0.000 0.000 0.000 0.000 0.000 0.000] 2\n",
            "image 39\n",
            "sortie du réseau: [0.018 0.952 0.001 0.001 0.000 0.001 0.057 0.000 0.117 0.001] 1\n",
            "sortie attendue : [0.000 1.000 0.000 0.000 0.000 0.000 0.000 0.000 0.000 0.000] 1\n",
            "image 40\n",
            "sortie du réseau: [0.002 0.556 0.002 0.002 0.000 0.001 0.000 0.005 0.008 0.001] 1\n",
            "sortie attendue : [0.000 1.000 0.000 0.000 0.000 0.000 0.000 0.000 0.000 0.000] 1\n",
            "image 41\n",
            "sortie du réseau: [0.000 0.002 0.084 0.096 0.000 0.000 0.000 0.991 0.000 0.003] 7\n",
            "sortie attendue : [0.000 0.000 0.000 0.000 0.000 0.000 0.000 1.000 0.000 0.000] 7\n",
            "image 42\n",
            "sortie du réseau: [0.001 0.000 0.000 0.000 1.000 0.000 0.001 0.016 0.013 0.626] 4\n",
            "sortie attendue : [0.000 0.000 0.000 0.000 1.000 0.000 0.000 0.000 0.000 0.000] 4\n",
            "image 43\n",
            "sortie du réseau: [0.087 0.956 1.000 0.546 0.097 0.007 0.001 0.422 0.001 0.000] 2\n",
            "sortie attendue : [0.000 0.000 1.000 0.000 0.000 0.000 0.000 0.000 0.000 0.000] 2\n",
            "image 44\n",
            "sortie du réseau: [0.000 0.040 0.125 0.998 0.000 0.014 0.000 0.000 0.000 0.001] 3\n",
            "sortie attendue : [0.000 0.000 0.000 1.000 0.000 0.000 0.000 0.000 0.000 0.000] 3\n",
            "image 45\n",
            "sortie du réseau: [0.001 0.000 0.000 0.007 0.000 0.988 0.000 0.000 0.931 0.000] 5\n",
            "sortie attendue : [0.000 0.000 0.000 0.000 0.000 1.000 0.000 0.000 0.000 0.000] 5\n",
            "image 46\n",
            "sortie du réseau: [0.000 0.209 0.001 0.014 0.001 0.000 0.000 0.000 0.001 0.002] 1\n",
            "sortie attendue : [0.000 1.000 0.000 0.000 0.000 0.000 0.000 0.000 0.000 0.000] 1\n",
            "image 47\n",
            "sortie du réseau: [0.003 0.017 0.996 0.002 0.000 0.000 0.001 0.000 0.000 0.000] 2\n",
            "sortie attendue : [0.000 0.000 1.000 0.000 0.000 0.000 0.000 0.000 0.000 0.000] 2\n",
            "image 48\n",
            "sortie du réseau: [0.000 0.000 0.000 0.003 0.993 0.000 0.000 0.000 0.015 0.273] 4\n",
            "sortie attendue : [0.000 0.000 0.000 0.000 1.000 0.000 0.000 0.000 0.000 0.000] 4\n",
            "image 49\n",
            "sortie du réseau: [0.000 0.000 0.000 0.000 0.995 0.000 0.000 0.002 0.000 0.059] 4\n",
            "sortie attendue : [0.000 0.000 0.000 0.000 1.000 0.000 0.000 0.000 0.000 0.000] 4\n",
            "image 50\n",
            "sortie du réseau: [0.917 0.014 0.001 0.000 0.004 0.019 1.000 0.000 0.002 0.000] 6\n",
            "sortie attendue : [0.000 0.000 0.000 0.000 0.000 0.000 1.000 0.000 0.000 0.000] 6\n",
            "image 51\n",
            "sortie du réseau: [0.000 0.000 0.001 1.000 0.000 0.594 0.000 0.000 0.073 0.010] 3\n",
            "sortie attendue : [0.000 0.000 0.000 1.000 0.000 0.000 0.000 0.000 0.000 0.000] 3\n",
            "image 52\n",
            "sortie du réseau: [0.000 0.000 0.000 0.015 0.000 1.000 0.000 0.000 0.001 0.000] 5\n",
            "sortie attendue : [0.000 0.000 0.000 0.000 0.000 1.000 0.000 0.000 0.000 0.000] 5\n",
            "image 53\n",
            "sortie du réseau: [0.000 0.000 0.001 0.512 0.000 0.999 0.001 0.000 0.030 0.085] 5\n",
            "sortie attendue : [0.000 0.000 0.000 0.000 0.000 1.000 0.000 0.000 0.000 0.000] 5\n",
            "image 54\n",
            "sortie du réseau: [0.043 0.000 0.007 0.000 0.000 0.530 0.999 0.000 0.204 0.000] 6\n",
            "sortie attendue : [0.000 0.000 0.000 0.000 0.000 0.000 1.000 0.000 0.000 0.000] 6\n",
            "image 55\n",
            "sortie du réseau: [1.000 0.042 0.007 0.000 0.001 0.002 0.225 0.000 0.918 0.000] 0\n",
            "sortie attendue : [1.000 0.000 0.000 0.000 0.000 0.000 0.000 0.000 0.000 0.000] 0\n",
            "image 56\n",
            "sortie du réseau: [0.000 0.001 0.000 0.000 1.000 0.000 0.001 0.001 0.002 0.097] 4\n",
            "sortie attendue : [0.000 0.000 0.000 0.000 1.000 0.000 0.000 0.000 0.000 0.000] 4\n",
            "image 57\n",
            "sortie du réseau: [0.001 0.943 0.001 0.000 0.000 0.003 0.000 0.006 0.007 0.001] 1\n",
            "sortie attendue : [0.000 1.000 0.000 0.000 0.000 0.000 0.000 0.000 0.000 0.000] 1\n",
            "image 58\n",
            "sortie du réseau: [0.000 0.000 0.000 0.007 0.080 0.002 0.000 0.233 0.003 0.999] 9\n",
            "sortie attendue : [0.000 0.000 0.000 0.000 0.000 0.000 0.000 0.000 0.000 1.000] 9\n",
            "image 59\n",
            "sortie du réseau: [0.000 0.000 0.000 0.000 0.000 0.984 0.000 0.002 0.006 0.000] 5\n",
            "sortie attendue : [0.000 0.000 0.000 0.000 0.000 1.000 0.000 0.000 0.000 0.000] 5\n",
            "image 60\n",
            "sortie du réseau: [0.000 0.000 0.023 0.991 0.000 0.328 0.000 1.000 0.001 0.107] 7\n",
            "sortie attendue : [0.000 0.000 0.000 0.000 0.000 0.000 0.000 1.000 0.000 0.000] 7\n",
            "image 61\n",
            "sortie du réseau: [0.002 0.000 0.003 0.000 0.000 0.006 0.000 0.000 0.046 0.000] 8\n",
            "sortie attendue : [0.000 0.000 0.000 0.000 0.000 0.000 0.000 0.000 1.000 0.000] 8\n",
            "image 62\n",
            "sortie du réseau: [0.000 0.000 0.001 0.001 0.000 0.288 0.001 0.002 0.141 0.840] 9\n",
            "sortie attendue : [0.000 0.000 0.000 0.000 0.000 0.000 0.000 0.000 0.000 1.000] 9\n",
            "image 63\n",
            "sortie du réseau: [0.000 0.000 0.058 0.964 0.000 0.000 0.000 0.000 0.017 0.001] 3\n",
            "sortie attendue : [0.000 0.000 0.000 1.000 0.000 0.000 0.000 0.000 0.000 0.000] 3\n",
            "image 64\n",
            "sortie du réseau: [0.000 0.000 0.039 0.132 0.000 0.001 0.000 1.000 0.002 0.001] 7\n",
            "sortie attendue : [0.000 0.000 0.000 0.000 0.000 0.000 0.000 1.000 0.000 0.000] 7\n",
            "image 65\n",
            "sortie du réseau: [0.000 0.011 0.000 0.001 0.921 0.000 0.000 0.009 0.002 0.025] 4\n",
            "sortie attendue : [0.000 0.000 0.000 0.000 1.000 0.000 0.000 0.000 0.000 0.000] 4\n",
            "image 66\n",
            "sortie du réseau: [0.386 0.000 0.002 0.000 0.000 0.002 0.998 0.000 0.037 0.000] 6\n",
            "sortie attendue : [0.000 0.000 0.000 0.000 0.000 0.000 1.000 0.000 0.000 0.000] 6\n",
            "image 67\n",
            "sortie du réseau: [0.000 0.006 0.000 0.000 0.945 0.001 0.000 0.000 0.001 0.170] 4\n",
            "sortie attendue : [0.000 0.000 0.000 0.000 1.000 0.000 0.000 0.000 0.000 0.000] 4\n",
            "image 68\n",
            "sortie du réseau: [0.000 0.000 0.001 0.999 0.000 0.016 0.000 0.000 0.001 0.001] 3\n",
            "sortie attendue : [0.000 0.000 0.000 1.000 0.000 0.000 0.000 0.000 0.000 0.000] 3\n",
            "image 69\n",
            "sortie du réseau: [1.000 0.001 0.005 0.000 0.000 0.870 0.068 0.000 0.021 0.584] 0\n",
            "sortie attendue : [1.000 0.000 0.000 0.000 0.000 0.000 0.000 0.000 0.000 0.000] 0\n",
            "image 70\n",
            "sortie du réseau: [0.001 0.000 0.022 0.014 0.000 0.000 0.000 0.985 0.000 0.000] 7\n",
            "sortie attendue : [0.000 0.000 0.000 0.000 0.000 0.000 0.000 1.000 0.000 0.000] 7\n",
            "image 71\n",
            "sortie du réseau: [0.999 0.000 0.247 0.009 0.000 0.063 0.046 0.000 0.001 0.001] 0\n",
            "sortie attendue : [1.000 0.000 0.000 0.000 0.000 0.000 0.000 0.000 0.000 0.000] 0\n",
            "image 72\n",
            "sortie du réseau: [0.297 0.000 0.991 0.001 0.000 0.002 0.000 0.000 0.000 0.000] 2\n",
            "sortie attendue : [0.000 0.000 1.000 0.000 0.000 0.000 0.000 0.000 0.000 0.000] 2\n",
            "image 73\n",
            "sortie du réseau: [0.001 0.001 0.006 0.000 0.000 0.000 0.000 0.005 0.018 0.003] 8\n",
            "sortie attendue : [0.000 0.000 0.000 0.000 0.000 0.000 0.000 0.000 0.000 1.000] 9\n",
            "image 74\n",
            "sortie du réseau: [0.001 0.988 0.000 0.001 0.013 0.002 0.017 0.010 0.016 0.001] 1\n",
            "sortie attendue : [0.000 1.000 0.000 0.000 0.000 0.000 0.000 0.000 0.000 0.000] 1\n",
            "image 75\n",
            "sortie du réseau: [0.000 0.000 0.004 0.220 0.000 0.001 0.000 0.996 0.004 0.006] 7\n",
            "sortie attendue : [0.000 0.000 0.000 0.000 0.000 0.000 0.000 1.000 0.000 0.000] 7\n",
            "image 76\n",
            "sortie du réseau: [0.000 0.000 0.001 0.998 0.000 0.538 0.000 0.000 0.008 0.165] 3\n",
            "sortie attendue : [0.000 0.000 0.000 1.000 0.000 0.000 0.000 0.000 0.000 0.000] 3\n",
            "image 77\n",
            "sortie du réseau: [0.002 0.009 0.995 0.003 0.000 0.001 0.000 0.074 0.004 0.001] 2\n",
            "sortie attendue : [0.000 0.000 1.000 0.000 0.000 0.000 0.000 0.000 0.000 0.000] 2\n",
            "image 78\n",
            "sortie du réseau: [0.000 0.000 0.000 0.009 0.043 0.000 0.000 0.001 0.110 0.191] 9\n",
            "sortie attendue : [0.000 0.000 0.000 0.000 0.000 0.000 0.000 0.000 0.000 1.000] 9\n",
            "image 79\n",
            "sortie du réseau: [0.001 0.000 0.051 0.006 0.000 0.000 0.000 0.727 0.000 0.001] 7\n",
            "sortie attendue : [0.000 0.000 0.000 0.000 0.000 0.000 0.000 1.000 0.000 0.000] 7\n",
            "image 80\n",
            "sortie du réseau: [0.067 0.009 0.001 0.014 0.067 0.002 0.000 0.971 0.003 0.953] 7\n",
            "sortie attendue : [0.000 0.000 0.000 0.000 0.000 0.000 0.000 1.000 0.000 0.000] 7\n",
            "image 81\n",
            "sortie du réseau: [0.479 0.000 0.024 0.000 0.002 0.860 1.000 0.000 0.005 0.000] 6\n",
            "sortie attendue : [0.000 0.000 0.000 0.000 0.000 0.000 1.000 0.000 0.000 0.000] 6\n",
            "image 82\n",
            "sortie du réseau: [0.013 0.002 1.000 0.002 0.000 0.000 0.000 0.000 0.006 0.000] 2\n",
            "sortie attendue : [0.000 0.000 1.000 0.000 0.000 0.000 0.000 0.000 0.000 0.000] 2\n",
            "image 83\n",
            "sortie du réseau: [0.001 0.001 0.001 0.015 0.000 0.000 0.000 0.982 0.000 0.250] 7\n",
            "sortie attendue : [0.000 0.000 0.000 0.000 0.000 0.000 0.000 1.000 0.000 0.000] 7\n",
            "image 84\n",
            "sortie du réseau: [0.000 0.000 0.000 0.002 0.000 0.029 0.077 0.000 1.000 0.001] 8\n",
            "sortie attendue : [0.000 0.000 0.000 0.000 0.000 0.000 0.000 0.000 1.000 0.000] 8\n",
            "image 85\n",
            "sortie du réseau: [0.000 0.002 0.000 0.000 1.000 0.000 0.001 0.001 0.000 0.192] 4\n",
            "sortie attendue : [0.000 0.000 0.000 0.000 1.000 0.000 0.000 0.000 0.000 0.000] 4\n",
            "image 86\n",
            "sortie du réseau: [0.000 0.001 0.007 0.018 0.000 0.000 0.000 1.000 0.056 0.045] 7\n",
            "sortie attendue : [0.000 0.000 0.000 0.000 0.000 0.000 0.000 1.000 0.000 0.000] 7\n",
            "image 87\n",
            "sortie du réseau: [0.000 0.000 0.004 0.986 0.000 0.299 0.000 0.001 0.000 0.000] 3\n",
            "sortie attendue : [0.000 0.000 0.000 1.000 0.000 0.000 0.000 0.000 0.000 0.000] 3\n",
            "image 88\n",
            "sortie du réseau: [0.377 0.067 0.171 0.000 0.038 0.216 1.000 0.000 0.002 0.000] 6\n",
            "sortie attendue : [0.000 0.000 0.000 0.000 0.000 0.000 1.000 0.000 0.000 0.000] 6\n",
            "image 89\n",
            "sortie du réseau: [0.094 0.999 0.001 0.000 0.161 0.001 0.506 0.000 0.123 0.002] 1\n",
            "sortie attendue : [0.000 1.000 0.000 0.000 0.000 0.000 0.000 0.000 0.000 0.000] 1\n",
            "image 90\n",
            "sortie du réseau: [0.003 0.000 0.136 1.000 0.000 0.360 0.000 0.000 0.160 0.008] 3\n",
            "sortie attendue : [0.000 0.000 0.000 1.000 0.000 0.000 0.000 0.000 0.000 0.000] 3\n",
            "image 91\n",
            "sortie du réseau: [0.006 0.000 0.001 0.000 0.001 0.858 1.000 0.000 0.026 0.000] 6\n",
            "sortie attendue : [0.000 0.000 0.000 0.000 0.000 0.000 1.000 0.000 0.000 0.000] 6\n",
            "image 92\n",
            "sortie du réseau: [0.000 0.001 0.000 0.000 0.049 0.001 0.000 0.018 0.038 0.175] 9\n",
            "sortie attendue : [0.000 0.000 0.000 0.000 0.000 0.000 0.000 0.000 0.000 1.000] 9\n",
            "image 93\n",
            "sortie du réseau: [0.000 0.000 0.000 1.000 0.000 0.003 0.000 0.000 0.001 0.018] 3\n",
            "sortie attendue : [0.000 0.000 0.000 1.000 0.000 0.000 0.000 0.000 0.000 0.000] 3\n",
            "image 94\n",
            "sortie du réseau: [0.001 0.917 0.000 0.000 0.001 0.007 0.007 0.000 0.040 0.000] 1\n",
            "sortie attendue : [0.000 1.000 0.000 0.000 0.000 0.000 0.000 0.000 0.000 0.000] 1\n",
            "image 95\n",
            "sortie du réseau: [0.000 0.000 0.000 0.000 0.040 0.000 0.045 0.000 0.849 0.002] 8\n",
            "sortie attendue : [0.000 0.000 0.000 0.000 1.000 0.000 0.000 0.000 0.000 0.000] 4\n",
            "image 96\n",
            "sortie du réseau: [0.000 0.196 0.000 0.010 0.013 0.003 0.000 0.001 0.014 0.008] 1\n",
            "sortie attendue : [0.000 1.000 0.000 0.000 0.000 0.000 0.000 0.000 0.000 0.000] 1\n",
            "image 97\n",
            "sortie du réseau: [0.000 0.029 0.991 0.418 0.199 0.000 0.002 0.992 0.674 0.001] 7\n",
            "sortie attendue : [0.000 0.000 0.000 0.000 0.000 0.000 0.000 1.000 0.000 0.000] 7\n",
            "image 98\n",
            "sortie du réseau: [0.373 0.015 0.140 0.004 0.000 0.963 1.000 0.000 0.004 0.000] 6\n",
            "sortie attendue : [0.000 0.000 0.000 0.000 0.000 0.000 1.000 0.000 0.000 0.000] 6\n",
            "image 99\n",
            "sortie du réseau: [0.000 0.000 0.016 0.014 0.013 0.008 0.000 0.014 0.002 0.999] 9\n",
            "sortie attendue : [0.000 0.000 0.000 0.000 0.000 0.000 0.000 0.000 0.000 1.000] 9\n"
          ],
          "name": "stdout"
        }
      ]
    },
    {
      "cell_type": "markdown",
      "metadata": {
        "id": "F5iZXap2Dfl0"
      },
      "source": [
        "courbe d'erreur avec la méthode du GradientDescentOptimizer après normalisation\n"
      ]
    },
    {
      "cell_type": "markdown",
      "metadata": {
        "id": "l7or06NUPsCm"
      },
      "source": [
        "![Screen Shot 2021-01-28 at 7.24.24 PM.png](data:image/png;base64,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)"
      ]
    },
    {
      "cell_type": "markdown",
      "metadata": {
        "id": "_w8kRMz-PzQw"
      },
      "source": [
        "En ajoutant les couches de normalisation on obtient un meilleur résultat. l'erreur tend vers 0 et on n'a pas des fluctuations dans la courbe."
      ]
    },
    {
      "cell_type": "markdown",
      "metadata": {
        "id": "x3aFoEofQ-YU"
      },
      "source": [
        "Ce code est relatif aux parties 6bis et 7.on ajoute les lignes pour sauvegarder le modèle"
      ]
    },
    {
      "cell_type": "code",
      "metadata": {
        "id": "Heupls1W9ljy",
        "colab": {
          "base_uri": "https://localhost:8080/",
          "height": 1000
        },
        "outputId": "dc4cb332-a853-43c7-8446-12ef8040e2f5"
      },
      "source": [
        "%tensorflow_version 1.x\n",
        "import tensorflow.compat.v1 as tf\n",
        "tf.disable_v2_behavior()\n",
        "import numpy as np\n",
        "import matplotlib.pyplot as plot\n",
        "#import cv2\n",
        "import sys\n",
        "from google.colab.patches import cv2_imshow\n",
        "\n",
        "from google.colab import drive\n",
        "drive.mount('/content/drive', force_remount=True)\n",
        "\n",
        "def normalisation(couche_prec):\n",
        "    mean, var=tf.nn.moments(couche_prec, [0])\n",
        "    scale=tf.Variable(tf.ones(shape=(np.shape(couche_prec)[-1])))\n",
        "    beta=tf.Variable(tf.zeros(shape=(np.shape(couche_prec)[-1])))\n",
        "    result=tf.nn.batch_normalization(couche_prec, mean, var, beta, scale, 0.001)\n",
        "    return result\n",
        "\n",
        "\n",
        "def convolution(couche_prec, taille_noyau, nbr_noyau):\n",
        "    w=tf.Variable(tf.random.truncated_normal(shape=(taille_noyau, taille_noyau, int(couche_prec.get_shape()[-1]), nbr_noyau)))\n",
        "    b=np.zeros(nbr_noyau)\n",
        "    result=tf.nn.conv2d(couche_prec, w, strides=[1, 1, 1, 1], padding='SAME')+b\n",
        "    return result\n",
        "        \n",
        "def fc(couche_prec, nbr_neurone):\n",
        "    w=tf.Variable(tf.random.truncated_normal(shape=(int(couche_prec.get_shape()[-1]), nbr_neurone), dtype=tf.float32))\n",
        "    b=tf.Variable(np.zeros(shape=(nbr_neurone)), dtype=tf.float32)\n",
        "    result=tf.matmul(couche_prec, w)+b\n",
        "    return result\n",
        "\n",
        "taille_batch=100\n",
        "nbr_entrainement=10\n",
        "learning_rate=0.001\n",
        "momentum=0.99\n",
        "\n",
        "mnist_train_images=np.fromfile(\"/content/drive/MyDrive/dataset/mnist/train-images.idx3-ubyte\", dtype=np.uint8)[16:].reshape(-1, 28, 28, 1)/255\n",
        "mnist_train_labels=np.eye(10)[np.fromfile(\"/content/drive/MyDrive/dataset/mnist/train-labels.idx1-ubyte\", dtype=np.uint8)[8:]]\n",
        "mnist_test_images=np.fromfile(\"/content/drive/MyDrive/dataset/mnist/t10k-images.idx3-ubyte\", dtype=np.uint8)[16:].reshape(-1, 28, 28, 1)/255\n",
        "mnist_test_labels=np.eye(10)[np.fromfile(\"/content/drive/MyDrive/dataset/mnist/t10k-labels.idx1-ubyte\", dtype=np.uint8)[8:]]    \n",
        "\n",
        "ph_images=tf.placeholder(shape=(None, 28, 28, 1), dtype=tf.float32, name='images')\n",
        "ph_labels=tf.placeholder(shape=(None, 10), dtype=tf.float32)\n",
        "ph_is_training=tf.placeholder_with_default(True, (), name='is_training')\n",
        "\n",
        "result=convolution(ph_images, 5, 16)\n",
        "result=tf.layers.batch_normalization(result, training=ph_is_training, momentum=momentum)\n",
        "result=tf.nn.relu(result)\n",
        "result=convolution(result, 5, 16)\n",
        "result=tf.layers.batch_normalization(result, training=ph_is_training, momentum=momentum)\n",
        "result=tf.nn.relu(result)\n",
        "result=tf.nn.max_pool(result, ksize=[1, 2, 2, 1], strides=[1, 2, 2, 1], padding='SAME')\n",
        "\n",
        "result=convolution(result, 5, 32)\n",
        "result=tf.layers.batch_normalization(result, training=ph_is_training, momentum=momentum)\n",
        "result=tf.nn.relu(result)\n",
        "result=convolution(result, 5, 32)\n",
        "result=tf.layers.batch_normalization(result, training=ph_is_training, momentum=momentum)\n",
        "result=tf.nn.relu(result)\n",
        "result=tf.nn.max_pool(result, ksize=[1, 2, 2, 1], strides=[1, 2, 2, 1], padding='SAME')\n",
        "\n",
        "result=tf.layers.flatten(result)\n",
        "\n",
        "result=fc(result, 512)\n",
        "result=tf.layers.batch_normalization(result, training=ph_is_training, momentum=momentum)\n",
        "result=tf.nn.sigmoid(result)\n",
        "result=fc(result, 10)\n",
        "scso=tf.nn.softmax(result,name='sortie')\n",
        "\n",
        "loss=tf.nn.softmax_cross_entropy_with_logits_v2(labels=ph_labels, logits=result)\n",
        "train=tf.train.AdamOptimizer(learning_rate).minimize(loss)\n",
        "#train=tf.train.GradientDescentOptimizer(learning_rate).minimize(loss)\n",
        "\n",
        "accuracy=tf.reduce_mean(tf.cast(tf.equal(tf.argmax(scso, 1), tf.argmax(ph_labels, 1)), tf.float32))\n",
        "\n",
        "# Instanciation de la classe sauvegarde\n",
        "saver=tf.train.Saver()\n",
        "\n",
        "with tf.Session() as s:\n",
        "    s.run(tf.global_variables_initializer())\n",
        "    tab_train=[]\n",
        "    tab_test=[]\n",
        "    for id_entrainement in np.arange(nbr_entrainement):\n",
        "        tab_accuracy_train=[]\n",
        "        tab_accuracy_test=[]\n",
        "        print(\"> Entrainement\", id_entrainement)\n",
        "        for batch in np.arange(0, len(mnist_train_images), taille_batch):\n",
        "            s.run(train, feed_dict={\n",
        "                ph_images: mnist_train_images[batch:batch+taille_batch],\n",
        "                ph_labels: mnist_train_labels[batch:batch+taille_batch],\n",
        "                ph_is_training : True\n",
        "            })\n",
        "        for batch in np.arange(0, len(mnist_train_images), taille_batch):\n",
        "            precision=s.run(accuracy, feed_dict={\n",
        "                ph_images: mnist_train_images[batch:batch+taille_batch],\n",
        "                ph_labels: mnist_train_labels[batch:batch+taille_batch],\n",
        "                ph_is_training : True\n",
        "            })\n",
        "            tab_accuracy_train.append(precision)\n",
        "        for batch in np.arange(0, len(mnist_test_images), taille_batch):\n",
        "            precision=s.run(accuracy, feed_dict={\n",
        "                ph_images: mnist_test_images[batch:batch+taille_batch],\n",
        "                ph_labels: mnist_test_labels[batch:batch+taille_batch],\n",
        "                ph_is_training : False\n",
        "            })\n",
        "            tab_accuracy_test.append(precision)\n",
        "        print(\"  train:\", np.mean(tab_accuracy_train))\n",
        "        tab_train.append(1-np.mean(tab_accuracy_train))\n",
        "        print(\"  test :\", np.mean(tab_accuracy_test))\n",
        "        tab_test.append(1-np.mean(tab_accuracy_test))\n",
        "\t\n",
        "\t# sauvegarde du réseau\n",
        "        saver.save(s,\"model_mnist\")\n",
        "\n",
        "    plot.ylim(0, 1)\n",
        "    plot.grid()\n",
        "    plot.plot(tab_train, label=\"Train error\")\n",
        "    plot.plot(tab_test, label=\"Test error\")\n",
        "    plot.legend(loc=\"upper right\")\n",
        "    plot.show()\n",
        "    resulat=s.run(scso, feed_dict={ph_images: mnist_test_images[0:taille_batch]})\n",
        "    np.set_printoptions(formatter={'float': '{:0.3f}'.format})\n",
        "    for image in range(taille_batch):\n",
        "        print(\"image\", image)\n",
        "        print(\"sortie du réseau:\", resulat[image], np.argmax(resulat[image]))\n",
        "        print(\"sortie attendue :\", mnist_test_labels[image], np.argmax(mnist_test_labels[image]))\n",
        "        cv2_imshow(mnist_test_images[image]*255)\n",
        "        #cv2.waitKey()&0xFF==ord('q'):\n",
        "        #    break"
      ],
      "execution_count": null,
      "outputs": [
        {
          "output_type": "stream",
          "text": [
            "Mounted at /content/drive\n",
            "WARNING:tensorflow:From <ipython-input-6-5302c6601d66>:48: batch_normalization (from tensorflow.python.layers.normalization) is deprecated and will be removed in a future version.\n",
            "Instructions for updating:\n",
            "Use keras.layers.BatchNormalization instead.  In particular, `tf.control_dependencies(tf.GraphKeys.UPDATE_OPS)` should not be used (consult the `tf.keras.layers.batch_normalization` documentation).\n",
            "> Entrainement 0\n",
            "  train: 0.9632666\n",
            "  test : 0.16339998\n",
            "> Entrainement 1\n",
            "  train: 0.97968334\n",
            "  test : 0.17810002\n",
            "> Entrainement 2\n",
            "  train: 0.9857666\n",
            "  test : 0.1851\n",
            "> Entrainement 3\n",
            "  train: 0.9901166\n",
            "  test : 0.184\n",
            "> Entrainement 4\n",
            "  train: 0.9930666\n",
            "  test : 0.18750001\n",
            "> Entrainement 5\n",
            "  train: 0.99526674\n",
            "  test : 0.19409999\n",
            "> Entrainement 6\n",
            "  train: 0.9970333\n",
            "  test : 0.19980001\n",
            "> Entrainement 7\n",
            "  train: 0.9981\n",
            "  test : 0.20270002\n",
            "> Entrainement 8\n",
            "  train: 0.9985166\n",
            "  test : 0.21190003\n",
            "> Entrainement 9\n",
            "  train: 0.99873334\n",
            "  test : 0.21279998\n"
          ],
          "name": "stdout"
        },
        {
          "output_type": "display_data",
          "data": {
            "image/png": "[encoded data removed]",
            "text/plain": [
              "<Figure size 432x288 with 1 Axes>"
            ]
          },
          "metadata": {
            "tags": [],
            "needs_background": "light"
          }
        },
        {
          "output_type": "stream",
          "text": [
            "image 0\n",
            "sortie du réseau: [0.000 0.000 0.000 0.000 0.000 0.000 0.000 1.000 0.000 0.000] 7\n",
            "sortie attendue : [0.000 0.000 0.000 0.000 0.000 0.000 0.000 1.000 0.000 0.000] 7\n"
          ],
          "name": "stdout"
        },
        {
          "output_type": "display_data",
          "data": {
            "image/png": "[encoded data removed]",
            "text/plain": [
              "<PIL.Image.Image image mode=RGB size=28x28 at 0x7FF257BB4160>"
            ]
          },
          "metadata": {
            "tags": []
          }
        },
        {
          "output_type": "stream",
          "text": [
            "image 1\n",
            "sortie du réseau: [0.000 0.000 1.000 0.000 0.000 0.000 0.000 0.000 0.000 0.000] 2\n",
            "sortie attendue : [0.000 0.000 1.000 0.000 0.000 0.000 0.000 0.000 0.000 0.000] 2\n"
          ],
          "name": "stdout"
        },
        {
          "output_type": "display_data",
          "data": {
            "image/png": "[encoded data removed]",
            "text/plain": [
              "<PIL.Image.Image image mode=RGB size=28x28 at 0x7FF257BB42E8>"
            ]
          },
          "metadata": {
            "tags": []
          }
        },
        {
          "output_type": "stream",
          "text": [
            "image 2\n",
            "sortie du réseau: [0.000 1.000 0.000 0.000 0.000 0.000 0.000 0.000 0.000 0.000] 1\n",
            "sortie attendue : [0.000 1.000 0.000 0.000 0.000 0.000 0.000 0.000 0.000 0.000] 1\n"
          ],
          "name": "stdout"
        },
        {
          "output_type": "display_data",
          "data": {
            "image/png": "[encoded data removed]",
            "text/plain": [
              "<PIL.Image.Image image mode=RGB size=28x28 at 0x7FF257B3E780>"
            ]
          },
          "metadata": {
            "tags": []
          }
        },
        {
          "output_type": "stream",
          "text": [
            "image 3\n",
            "sortie du réseau: [1.000 0.000 0.000 0.000 0.000 0.000 0.000 0.000 0.000 0.000] 0\n",
            "sortie attendue : [1.000 0.000 0.000 0.000 0.000 0.000 0.000 0.000 0.000 0.000] 0\n"
          ],
          "name": "stdout"
        },
        {
          "output_type": "display_data",
          "data": {
            "image/png": "[encoded data removed]",
            "text/plain": [
              "<PIL.Image.Image image mode=RGB size=28x28 at 0x7FF257B3E780>"
            ]
          },
          "metadata": {
            "tags": []
          }
        },
        {
          "output_type": "stream",
          "text": [
            "image 4\n",
            "sortie du réseau: [0.000 0.000 0.000 0.000 1.000 0.000 0.000 0.000 0.000 0.000] 4\n",
            "sortie attendue : [0.000 0.000 0.000 0.000 1.000 0.000 0.000 0.000 0.000 0.000] 4\n"
          ],
          "name": "stdout"
        },
        {
          "output_type": "display_data",
          "data": {
            "image/png": "[encoded data removed]",
            "text/plain": [
              "<PIL.Image.Image image mode=RGB size=28x28 at 0x7FF257B3EBA8>"
            ]
          },
          "metadata": {
            "tags": []
          }
        },
        {
          "output_type": "stream",
          "text": [
            "image 5\n",
            "sortie du réseau: [0.000 1.000 0.000 0.000 0.000 0.000 0.000 0.000 0.000 0.000] 1\n",
            "sortie attendue : [0.000 1.000 0.000 0.000 0.000 0.000 0.000 0.000 0.000 0.000] 1\n"
          ],
          "name": "stdout"
        },
        {
          "output_type": "display_data",
          "data": {
            "image/png": "[encoded data removed]",
            "text/plain": [
              "<PIL.Image.Image image mode=RGB size=28x28 at 0x7FF257B70048>"
            ]
          },
          "metadata": {
            "tags": []
          }
        },
        {
          "output_type": "stream",
          "text": [
            "image 6\n",
            "sortie du réseau: [0.000 0.000 0.000 0.000 0.999 0.000 0.000 0.000 0.001 0.000] 4\n",
            "sortie attendue : [0.000 0.000 0.000 0.000 1.000 0.000 0.000 0.000 0.000 0.000] 4\n"
          ],
          "name": "stdout"
        },
        {
          "output_type": "display_data",
          "data": {
            "image/png": "[encoded data removed]",
            "text/plain": [
              "<PIL.Image.Image image mode=RGB size=28x28 at 0x7FF257B70048>"
            ]
          },
          "metadata": {
            "tags": []
          }
        },
        {
          "output_type": "stream",
          "text": [
            "image 7\n",
            "sortie du réseau: [0.000 0.000 0.000 0.000 0.000 0.000 0.000 0.000 0.000 1.000] 9\n",
            "sortie attendue : [0.000 0.000 0.000 0.000 0.000 0.000 0.000 0.000 0.000 1.000] 9\n"
          ],
          "name": "stdout"
        },
        {
          "output_type": "display_data",
          "data": {
            "image/png": "[encoded data removed]",
            "text/plain": [
              "<PIL.Image.Image image mode=RGB size=28x28 at 0x7FF257B70048>"
            ]
          },
          "metadata": {
            "tags": []
          }
        },
        {
          "output_type": "stream",
          "text": [
            "image 8\n",
            "sortie du réseau: [0.000 0.000 0.000 0.000 0.000 0.999 0.001 0.000 0.000 0.000] 5\n",
            "sortie attendue : [0.000 0.000 0.000 0.000 0.000 1.000 0.000 0.000 0.000 0.000] 5\n"
          ],
          "name": "stdout"
        },
        {
          "output_type": "display_data",
          "data": {
            "image/png": "[encoded data removed]",
            "text/plain": [
              "<PIL.Image.Image image mode=RGB size=28x28 at 0x7FF257B70128>"
            ]
          },
          "metadata": {
            "tags": []
          }
        },
        {
          "output_type": "stream",
          "text": [
            "image 9\n",
            "sortie du réseau: [0.000 0.000 0.000 0.000 0.000 0.000 0.000 0.000 0.000 1.000] 9\n",
            "sortie attendue : [0.000 0.000 0.000 0.000 0.000 0.000 0.000 0.000 0.000 1.000] 9\n"
          ],
          "name": "stdout"
        },
        {
          "output_type": "display_data",
          "data": {
            "image/png": "[encoded data removed]",
            "text/plain": [
              "<PIL.Image.Image image mode=RGB size=28x28 at 0x7FF257B70160>"
            ]
          },
          "metadata": {
            "tags": []
          }
        },
        {
          "output_type": "stream",
          "text": [
            "image 10\n",
            "sortie du réseau: [1.000 0.000 0.000 0.000 0.000 0.000 0.000 0.000 0.000 0.000] 0\n",
            "sortie attendue : [1.000 0.000 0.000 0.000 0.000 0.000 0.000 0.000 0.000 0.000] 0\n"
          ],
          "name": "stdout"
        },
        {
          "output_type": "display_data",
          "data": {
            "image/png": "[encoded data removed]",
            "text/plain": [
              "<PIL.Image.Image image mode=RGB size=28x28 at 0x7FF257B70208>"
            ]
          },
          "metadata": {
            "tags": []
          }
        },
        {
          "output_type": "stream",
          "text": [
            "image 11\n",
            "sortie du réseau: [0.000 0.000 0.000 0.000 0.000 0.000 1.000 0.000 0.000 0.000] 6\n",
            "sortie attendue : [0.000 0.000 0.000 0.000 0.000 0.000 1.000 0.000 0.000 0.000] 6\n"
          ],
          "name": "stdout"
        },
        {
          "output_type": "display_data",
          "data": {
            "image/png": "[encoded data removed]",
            "text/plain": [
              "<PIL.Image.Image image mode=RGB size=28x28 at 0x7FF257B702E8>"
            ]
          },
          "metadata": {
            "tags": []
          }
        },
        {
          "output_type": "stream",
          "text": [
            "image 12\n",
            "sortie du réseau: [0.000 0.000 0.000 0.000 0.000 0.000 0.000 0.000 0.000 1.000] 9\n",
            "sortie attendue : [0.000 0.000 0.000 0.000 0.000 0.000 0.000 0.000 0.000 1.000] 9\n"
          ],
          "name": "stdout"
        },
        {
          "output_type": "display_data",
          "data": {
            "image/png": "[encoded data removed]",
            "text/plain": [
              "<PIL.Image.Image image mode=RGB size=28x28 at 0x7FF257B702B0>"
            ]
          },
          "metadata": {
            "tags": []
          }
        },
        {
          "output_type": "stream",
          "text": [
            "image 13\n",
            "sortie du réseau: [1.000 0.000 0.000 0.000 0.000 0.000 0.000 0.000 0.000 0.000] 0\n",
            "sortie attendue : [1.000 0.000 0.000 0.000 0.000 0.000 0.000 0.000 0.000 0.000] 0\n"
          ],
          "name": "stdout"
        },
        {
          "output_type": "display_data",
          "data": {
            "image/png": "[encoded data removed]",
            "text/plain": [
              "<PIL.Image.Image image mode=RGB size=28x28 at 0x7FF257B70240>"
            ]
          },
          "metadata": {
            "tags": []
          }
        },
        {
          "output_type": "stream",
          "text": [
            "image 14\n",
            "sortie du réseau: [0.000 1.000 0.000 0.000 0.000 0.000 0.000 0.000 0.000 0.000] 1\n",
            "sortie attendue : [0.000 1.000 0.000 0.000 0.000 0.000 0.000 0.000 0.000 0.000] 1\n"
          ],
          "name": "stdout"
        },
        {
          "output_type": "display_data",
          "data": {
            "image/png": "[encoded data removed]",
            "text/plain": [
              "<PIL.Image.Image image mode=RGB size=28x28 at 0x7FF257B70080>"
            ]
          },
          "metadata": {
            "tags": []
          }
        },
        {
          "output_type": "stream",
          "text": [
            "image 15\n",
            "sortie du réseau: [0.000 0.000 0.000 0.000 0.000 1.000 0.000 0.000 0.000 0.000] 5\n",
            "sortie attendue : [0.000 0.000 0.000 0.000 0.000 1.000 0.000 0.000 0.000 0.000] 5\n"
          ],
          "name": "stdout"
        },
        {
          "output_type": "display_data",
          "data": {
            "image/png": "[encoded data removed]",
            "text/plain": [
              "<PIL.Image.Image image mode=RGB size=28x28 at 0x7FF257B702E8>"
            ]
          },
          "metadata": {
            "tags": []
          }
        },
        {
          "output_type": "stream",
          "text": [
            "image 16\n",
            "sortie du réseau: [0.000 0.000 0.000 0.000 0.000 0.000 0.000 0.000 0.000 1.000] 9\n",
            "sortie attendue : [0.000 0.000 0.000 0.000 0.000 0.000 0.000 0.000 0.000 1.000] 9\n"
          ],
          "name": "stdout"
        },
        {
          "output_type": "display_data",
          "data": {
            "image/png": "[encoded data removed]",
            "text/plain": [
              "<PIL.Image.Image image mode=RGB size=28x28 at 0x7FF257B700F0>"
            ]
          },
          "metadata": {
            "tags": []
          }
        },
        {
          "output_type": "stream",
          "text": [
            "image 17\n",
            "sortie du réseau: [0.000 0.000 0.000 0.000 0.000 0.000 0.000 1.000 0.000 0.000] 7\n",
            "sortie attendue : [0.000 0.000 0.000 0.000 0.000 0.000 0.000 1.000 0.000 0.000] 7\n"
          ],
          "name": "stdout"
        },
        {
          "output_type": "display_data",
          "data": {
            "image/png": "[encoded data removed]",
            "text/plain": [
              "<PIL.Image.Image image mode=RGB size=28x28 at 0x7FF257B70358>"
            ]
          },
          "metadata": {
            "tags": []
          }
        },
        {
          "output_type": "stream",
          "text": [
            "image 18\n",
            "sortie du réseau: [0.000 0.000 0.000 0.937 0.000 0.000 0.000 0.000 0.063 0.000] 3\n",
            "sortie attendue : [0.000 0.000 0.000 1.000 0.000 0.000 0.000 0.000 0.000 0.000] 3\n"
          ],
          "name": "stdout"
        },
        {
          "output_type": "display_data",
          "data": {
            "image/png": "[encoded data removed]",
            "text/plain": [
              "<PIL.Image.Image image mode=RGB size=28x28 at 0x7FF257B70390>"
            ]
          },
          "metadata": {
            "tags": []
          }
        },
        {
          "output_type": "stream",
          "text": [
            "image 19\n",
            "sortie du réseau: [0.000 0.000 0.000 0.000 1.000 0.000 0.000 0.000 0.000 0.000] 4\n",
            "sortie attendue : [0.000 0.000 0.000 0.000 1.000 0.000 0.000 0.000 0.000 0.000] 4\n"
          ],
          "name": "stdout"
        },
        {
          "output_type": "display_data",
          "data": {
            "image/png": "[encoded data removed]",
            "text/plain": [
              "<PIL.Image.Image image mode=RGB size=28x28 at 0x7FF257B702E8>"
            ]
          },
          "metadata": {
            "tags": []
          }
        },
        {
          "output_type": "stream",
          "text": [
            "image 20\n",
            "sortie du réseau: [0.000 0.000 0.000 0.000 0.000 0.000 0.000 0.000 0.000 1.000] 9\n",
            "sortie attendue : [0.000 0.000 0.000 0.000 0.000 0.000 0.000 0.000 0.000 1.000] 9\n"
          ],
          "name": "stdout"
        },
        {
          "output_type": "display_data",
          "data": {
            "image/png": "[encoded data removed]",
            "text/plain": [
              "<PIL.Image.Image image mode=RGB size=28x28 at 0x7FF257B70400>"
            ]
          },
          "metadata": {
            "tags": []
          }
        },
        {
          "output_type": "stream",
          "text": [
            "image 21\n",
            "sortie du réseau: [0.000 0.000 0.000 0.000 0.000 0.000 1.000 0.000 0.000 0.000] 6\n",
            "sortie attendue : [0.000 0.000 0.000 0.000 0.000 0.000 1.000 0.000 0.000 0.000] 6\n"
          ],
          "name": "stdout"
        },
        {
          "output_type": "display_data",
          "data": {
            "image/png": "[encoded data removed]",
            "text/plain": [
              "<PIL.Image.Image image mode=RGB size=28x28 at 0x7FF257B703C8>"
            ]
          },
          "metadata": {
            "tags": []
          }
        },
        {
          "output_type": "stream",
          "text": [
            "image 22\n",
            "sortie du réseau: [0.000 0.000 0.000 0.000 0.000 0.000 1.000 0.000 0.000 0.000] 6\n",
            "sortie attendue : [0.000 0.000 0.000 0.000 0.000 0.000 1.000 0.000 0.000 0.000] 6\n"
          ],
          "name": "stdout"
        },
        {
          "output_type": "display_data",
          "data": {
            "image/png": "[encoded data removed]",
            "text/plain": [
              "<PIL.Image.Image image mode=RGB size=28x28 at 0x7FF257B70240>"
            ]
          },
          "metadata": {
            "tags": []
          }
        },
        {
          "output_type": "stream",
          "text": [
            "image 23\n",
            "sortie du réseau: [0.000 0.000 0.000 0.000 0.000 1.000 0.000 0.000 0.000 0.000] 5\n",
            "sortie attendue : [0.000 0.000 0.000 0.000 0.000 1.000 0.000 0.000 0.000 0.000] 5\n"
          ],
          "name": "stdout"
        },
        {
          "output_type": "display_data",
          "data": {
            "image/png": "[encoded data removed]",
            "text/plain": [
              "<PIL.Image.Image image mode=RGB size=28x28 at 0x7FF257B70080>"
            ]
          },
          "metadata": {
            "tags": []
          }
        },
        {
          "output_type": "stream",
          "text": [
            "image 24\n",
            "sortie du réseau: [0.000 0.000 0.000 0.000 1.000 0.000 0.000 0.000 0.000 0.000] 4\n",
            "sortie attendue : [0.000 0.000 0.000 0.000 1.000 0.000 0.000 0.000 0.000 0.000] 4\n"
          ],
          "name": "stdout"
        },
        {
          "output_type": "display_data",
          "data": {
            "image/png": "[encoded data removed]",
            "text/plain": [
              "<PIL.Image.Image image mode=RGB size=28x28 at 0x7FF257B704A8>"
            ]
          },
          "metadata": {
            "tags": []
          }
        },
        {
          "output_type": "stream",
          "text": [
            "image 25\n",
            "sortie du réseau: [1.000 0.000 0.000 0.000 0.000 0.000 0.000 0.000 0.000 0.000] 0\n",
            "sortie attendue : [1.000 0.000 0.000 0.000 0.000 0.000 0.000 0.000 0.000 0.000] 0\n"
          ],
          "name": "stdout"
        },
        {
          "output_type": "display_data",
          "data": {
            "image/png": "[encoded data removed]",
            "text/plain": [
              "<PIL.Image.Image image mode=RGB size=28x28 at 0x7FF257B70470>"
            ]
          },
          "metadata": {
            "tags": []
          }
        },
        {
          "output_type": "stream",
          "text": [
            "image 26\n",
            "sortie du réseau: [0.000 0.000 0.000 0.000 0.000 0.000 0.000 1.000 0.000 0.000] 7\n",
            "sortie attendue : [0.000 0.000 0.000 0.000 0.000 0.000 0.000 1.000 0.000 0.000] 7\n"
          ],
          "name": "stdout"
        },
        {
          "output_type": "display_data",
          "data": {
            "image/png": "[encoded data removed]",
            "text/plain": [
              "<PIL.Image.Image image mode=RGB size=28x28 at 0x7FF257B70550>"
            ]
          },
          "metadata": {
            "tags": []
          }
        },
        {
          "output_type": "stream",
          "text": [
            "image 27\n",
            "sortie du réseau: [0.000 0.000 0.000 0.000 1.000 0.000 0.000 0.000 0.000 0.000] 4\n",
            "sortie attendue : [0.000 0.000 0.000 0.000 1.000 0.000 0.000 0.000 0.000 0.000] 4\n"
          ],
          "name": "stdout"
        },
        {
          "output_type": "display_data",
          "data": {
            "image/png": "[encoded data removed]",
            "text/plain": [
              "<PIL.Image.Image image mode=RGB size=28x28 at 0x7FF257B70588>"
            ]
          },
          "metadata": {
            "tags": []
          }
        },
        {
          "output_type": "stream",
          "text": [
            "image 28\n",
            "sortie du réseau: [1.000 0.000 0.000 0.000 0.000 0.000 0.000 0.000 0.000 0.000] 0\n",
            "sortie attendue : [1.000 0.000 0.000 0.000 0.000 0.000 0.000 0.000 0.000 0.000] 0\n"
          ],
          "name": "stdout"
        },
        {
          "output_type": "display_data",
          "data": {
            "image/png": "[encoded data removed]",
            "text/plain": [
              "<PIL.Image.Image image mode=RGB size=28x28 at 0x7FF257B705C0>"
            ]
          },
          "metadata": {
            "tags": []
          }
        },
        {
          "output_type": "stream",
          "text": [
            "image 29\n",
            "sortie du réseau: [0.000 1.000 0.000 0.000 0.000 0.000 0.000 0.000 0.000 0.000] 1\n",
            "sortie attendue : [0.000 1.000 0.000 0.000 0.000 0.000 0.000 0.000 0.000 0.000] 1\n"
          ],
          "name": "stdout"
        },
        {
          "output_type": "display_data",
          "data": {
            "image/png": "[encoded data removed]",
            "text/plain": [
              "<PIL.Image.Image image mode=RGB size=28x28 at 0x7FF257B705F8>"
            ]
          },
          "metadata": {
            "tags": []
          }
        },
        {
          "output_type": "stream",
          "text": [
            "image 30\n",
            "sortie du réseau: [0.000 0.000 0.000 1.000 0.000 0.000 0.000 0.000 0.000 0.000] 3\n",
            "sortie attendue : [0.000 0.000 0.000 1.000 0.000 0.000 0.000 0.000 0.000 0.000] 3\n"
          ],
          "name": "stdout"
        },
        {
          "output_type": "display_data",
          "data": {
            "image/png": "[encoded data removed]",
            "text/plain": [
              "<PIL.Image.Image image mode=RGB size=28x28 at 0x7FF257B70630>"
            ]
          },
          "metadata": {
            "tags": []
          }
        },
        {
          "output_type": "stream",
          "text": [
            "image 31\n",
            "sortie du réseau: [0.000 1.000 0.000 0.000 0.000 0.000 0.000 0.000 0.000 0.000] 1\n",
            "sortie attendue : [0.000 1.000 0.000 0.000 0.000 0.000 0.000 0.000 0.000 0.000] 1\n"
          ],
          "name": "stdout"
        },
        {
          "output_type": "display_data",
          "data": {
            "image/png": "[encoded data removed]",
            "text/plain": [
              "<PIL.Image.Image image mode=RGB size=28x28 at 0x7FF257B70668>"
            ]
          },
          "metadata": {
            "tags": []
          }
        },
        {
          "output_type": "stream",
          "text": [
            "image 32\n",
            "sortie du réseau: [0.000 0.000 0.000 1.000 0.000 0.000 0.000 0.000 0.000 0.000] 3\n",
            "sortie attendue : [0.000 0.000 0.000 1.000 0.000 0.000 0.000 0.000 0.000 0.000] 3\n"
          ],
          "name": "stdout"
        },
        {
          "output_type": "display_data",
          "data": {
            "image/png": "[encoded data removed]",
            "text/plain": [
              "<PIL.Image.Image image mode=RGB size=28x28 at 0x7FF257B706A0>"
            ]
          },
          "metadata": {
            "tags": []
          }
        },
        {
          "output_type": "stream",
          "text": [
            "image 33\n",
            "sortie du réseau: [0.000 0.000 0.000 0.000 1.000 0.000 0.000 0.000 0.000 0.000] 4\n",
            "sortie attendue : [0.000 0.000 0.000 0.000 1.000 0.000 0.000 0.000 0.000 0.000] 4\n"
          ],
          "name": "stdout"
        },
        {
          "output_type": "display_data",
          "data": {
            "image/png": "[encoded data removed]",
            "text/plain": [
              "<PIL.Image.Image image mode=RGB size=28x28 at 0x7FF257B706D8>"
            ]
          },
          "metadata": {
            "tags": []
          }
        },
        {
          "output_type": "stream",
          "text": [
            "image 34\n",
            "sortie du réseau: [0.000 0.000 0.000 0.000 0.000 0.000 0.000 1.000 0.000 0.000] 7\n",
            "sortie attendue : [0.000 0.000 0.000 0.000 0.000 0.000 0.000 1.000 0.000 0.000] 7\n"
          ],
          "name": "stdout"
        },
        {
          "output_type": "display_data",
          "data": {
            "image/png": "[encoded data removed]",
            "text/plain": [
              "<PIL.Image.Image image mode=RGB size=28x28 at 0x7FF257B70710>"
            ]
          },
          "metadata": {
            "tags": []
          }
        },
        {
          "output_type": "stream",
          "text": [
            "image 35\n",
            "sortie du réseau: [0.000 0.000 1.000 0.000 0.000 0.000 0.000 0.000 0.000 0.000] 2\n",
            "sortie attendue : [0.000 0.000 1.000 0.000 0.000 0.000 0.000 0.000 0.000 0.000] 2\n"
          ],
          "name": "stdout"
        },
        {
          "output_type": "display_data",
          "data": {
            "image/png": "[encoded data removed]",
            "text/plain": [
              "<PIL.Image.Image image mode=RGB size=28x28 at 0x7FF257B70748>"
            ]
          },
          "metadata": {
            "tags": []
          }
        },
        {
          "output_type": "stream",
          "text": [
            "image 36\n",
            "sortie du réseau: [0.000 0.000 0.003 0.000 0.000 0.000 0.000 0.997 0.000 0.000] 7\n",
            "sortie attendue : [0.000 0.000 0.000 0.000 0.000 0.000 0.000 1.000 0.000 0.000] 7\n"
          ],
          "name": "stdout"
        },
        {
          "output_type": "display_data",
          "data": {
            "image/png": "[encoded data removed]",
            "text/plain": [
              "<PIL.Image.Image image mode=RGB size=28x28 at 0x7FF257B70780>"
            ]
          },
          "metadata": {
            "tags": []
          }
        },
        {
          "output_type": "stream",
          "text": [
            "image 37\n",
            "sortie du réseau: [0.000 1.000 0.000 0.000 0.000 0.000 0.000 0.000 0.000 0.000] 1\n",
            "sortie attendue : [0.000 1.000 0.000 0.000 0.000 0.000 0.000 0.000 0.000 0.000] 1\n"
          ],
          "name": "stdout"
        },
        {
          "output_type": "display_data",
          "data": {
            "image/png": "[encoded data removed]",
            "text/plain": [
              "<PIL.Image.Image image mode=RGB size=28x28 at 0x7FF257B707B8>"
            ]
          },
          "metadata": {
            "tags": []
          }
        },
        {
          "output_type": "stream",
          "text": [
            "image 38\n",
            "sortie du réseau: [0.000 0.000 1.000 0.000 0.000 0.000 0.000 0.000 0.000 0.000] 2\n",
            "sortie attendue : [0.000 0.000 1.000 0.000 0.000 0.000 0.000 0.000 0.000 0.000] 2\n"
          ],
          "name": "stdout"
        },
        {
          "output_type": "display_data",
          "data": {
            "image/png": "[encoded data removed]",
            "text/plain": [
              "<PIL.Image.Image image mode=RGB size=28x28 at 0x7FF257B70780>"
            ]
          },
          "metadata": {
            "tags": []
          }
        },
        {
          "output_type": "stream",
          "text": [
            "image 39\n",
            "sortie du réseau: [0.000 1.000 0.000 0.000 0.000 0.000 0.000 0.000 0.000 0.000] 1\n",
            "sortie attendue : [0.000 1.000 0.000 0.000 0.000 0.000 0.000 0.000 0.000 0.000] 1\n"
          ],
          "name": "stdout"
        },
        {
          "output_type": "display_data",
          "data": {
            "image/png": "[encoded data removed]",
            "text/plain": [
              "<PIL.Image.Image image mode=RGB size=28x28 at 0x7FF257B70860>"
            ]
          },
          "metadata": {
            "tags": []
          }
        },
        {
          "output_type": "stream",
          "text": [
            "image 40\n",
            "sortie du réseau: [0.000 1.000 0.000 0.000 0.000 0.000 0.000 0.000 0.000 0.000] 1\n",
            "sortie attendue : [0.000 1.000 0.000 0.000 0.000 0.000 0.000 0.000 0.000 0.000] 1\n"
          ],
          "name": "stdout"
        },
        {
          "output_type": "display_data",
          "data": {
            "image/png": "[encoded data removed]",
            "text/plain": [
              "<PIL.Image.Image image mode=RGB size=28x28 at 0x7FF257B70898>"
            ]
          },
          "metadata": {
            "tags": []
          }
        },
        {
          "output_type": "stream",
          "text": [
            "image 41\n",
            "sortie du réseau: [0.000 0.000 0.026 0.000 0.000 0.000 0.000 0.974 0.000 0.000] 7\n",
            "sortie attendue : [0.000 0.000 0.000 0.000 0.000 0.000 0.000 1.000 0.000 0.000] 7\n"
          ],
          "name": "stdout"
        },
        {
          "output_type": "display_data",
          "data": {
            "image/png": "[encoded data removed]",
            "text/plain": [
              "<PIL.Image.Image image mode=RGB size=28x28 at 0x7FF257B707B8>"
            ]
          },
          "metadata": {
            "tags": []
          }
        },
        {
          "output_type": "stream",
          "text": [
            "image 42\n",
            "sortie du réseau: [0.000 0.000 0.000 0.000 1.000 0.000 0.000 0.000 0.000 0.000] 4\n",
            "sortie attendue : [0.000 0.000 0.000 0.000 1.000 0.000 0.000 0.000 0.000 0.000] 4\n"
          ],
          "name": "stdout"
        },
        {
          "output_type": "display_data",
          "data": {
            "image/png": "[encoded data removed]",
            "text/plain": [
              "<PIL.Image.Image image mode=RGB size=28x28 at 0x7FF257B707F0>"
            ]
          },
          "metadata": {
            "tags": []
          }
        },
        {
          "output_type": "stream",
          "text": [
            "image 43\n",
            "sortie du réseau: [0.000 0.000 1.000 0.000 0.000 0.000 0.000 0.000 0.000 0.000] 2\n",
            "sortie attendue : [0.000 0.000 1.000 0.000 0.000 0.000 0.000 0.000 0.000 0.000] 2\n"
          ],
          "name": "stdout"
        },
        {
          "output_type": "display_data",
          "data": {
            "image/png": "[encoded data removed]",
            "text/plain": [
              "<PIL.Image.Image image mode=RGB size=28x28 at 0x7FF257B70860>"
            ]
          },
          "metadata": {
            "tags": []
          }
        },
        {
          "output_type": "stream",
          "text": [
            "image 44\n",
            "sortie du réseau: [0.000 0.000 0.000 1.000 0.000 0.000 0.000 0.000 0.000 0.000] 3\n",
            "sortie attendue : [0.000 0.000 0.000 1.000 0.000 0.000 0.000 0.000 0.000 0.000] 3\n"
          ],
          "name": "stdout"
        },
        {
          "output_type": "display_data",
          "data": {
            "image/png": "[encoded data removed]",
            "text/plain": [
              "<PIL.Image.Image image mode=RGB size=28x28 at 0x7FF257B70710>"
            ]
          },
          "metadata": {
            "tags": []
          }
        },
        {
          "output_type": "stream",
          "text": [
            "image 45\n",
            "sortie du réseau: [0.000 0.000 0.000 0.000 0.000 1.000 0.000 0.000 0.000 0.000] 5\n",
            "sortie attendue : [0.000 0.000 0.000 0.000 0.000 1.000 0.000 0.000 0.000 0.000] 5\n"
          ],
          "name": "stdout"
        },
        {
          "output_type": "display_data",
          "data": {
            "image/png": "[encoded data removed]",
            "text/plain": [
              "<PIL.Image.Image image mode=RGB size=28x28 at 0x7FF257B70748>"
            ]
          },
          "metadata": {
            "tags": []
          }
        },
        {
          "output_type": "stream",
          "text": [
            "image 46\n",
            "sortie du réseau: [0.000 1.000 0.000 0.000 0.000 0.000 0.000 0.000 0.000 0.000] 1\n",
            "sortie attendue : [0.000 1.000 0.000 0.000 0.000 0.000 0.000 0.000 0.000 0.000] 1\n"
          ],
          "name": "stdout"
        },
        {
          "output_type": "display_data",
          "data": {
            "image/png": "[encoded data removed]",
            "text/plain": [
              "<PIL.Image.Image image mode=RGB size=28x28 at 0x7FF257B707F0>"
            ]
          },
          "metadata": {
            "tags": []
          }
        },
        {
          "output_type": "stream",
          "text": [
            "image 47\n",
            "sortie du réseau: [0.000 0.000 1.000 0.000 0.000 0.000 0.000 0.000 0.000 0.000] 2\n",
            "sortie attendue : [0.000 0.000 1.000 0.000 0.000 0.000 0.000 0.000 0.000 0.000] 2\n"
          ],
          "name": "stdout"
        },
        {
          "output_type": "display_data",
          "data": {
            "image/png": "[encoded data removed]",
            "text/plain": [
              "<PIL.Image.Image image mode=RGB size=28x28 at 0x7FF257B70908>"
            ]
          },
          "metadata": {
            "tags": []
          }
        },
        {
          "output_type": "stream",
          "text": [
            "image 48\n",
            "sortie du réseau: [0.000 0.000 0.000 0.000 1.000 0.000 0.000 0.000 0.000 0.000] 4\n",
            "sortie attendue : [0.000 0.000 0.000 0.000 1.000 0.000 0.000 0.000 0.000 0.000] 4\n"
          ],
          "name": "stdout"
        },
        {
          "output_type": "display_data",
          "data": {
            "image/png": "[encoded data removed]",
            "text/plain": [
              "<PIL.Image.Image image mode=RGB size=28x28 at 0x7FF257B70710>"
            ]
          },
          "metadata": {
            "tags": []
          }
        },
        {
          "output_type": "stream",
          "text": [
            "image 49\n",
            "sortie du réseau: [0.000 0.000 0.000 0.000 1.000 0.000 0.000 0.000 0.000 0.000] 4\n",
            "sortie attendue : [0.000 0.000 0.000 0.000 1.000 0.000 0.000 0.000 0.000 0.000] 4\n"
          ],
          "name": "stdout"
        },
        {
          "output_type": "display_data",
          "data": {
            "image/png": "[encoded data removed]",
            "text/plain": [
              "<PIL.Image.Image image mode=RGB size=28x28 at 0x7FF257B70908>"
            ]
          },
          "metadata": {
            "tags": []
          }
        },
        {
          "output_type": "stream",
          "text": [
            "image 50\n",
            "sortie du réseau: [0.000 0.000 0.000 0.000 0.000 0.000 1.000 0.000 0.000 0.000] 6\n",
            "sortie attendue : [0.000 0.000 0.000 0.000 0.000 0.000 1.000 0.000 0.000 0.000] 6\n"
          ],
          "name": "stdout"
        },
        {
          "output_type": "display_data",
          "data": {
            "image/png": "[encoded data removed]",
            "text/plain": [
              "<PIL.Image.Image image mode=RGB size=28x28 at 0x7FF257B70710>"
            ]
          },
          "metadata": {
            "tags": []
          }
        },
        {
          "output_type": "stream",
          "text": [
            "image 51\n",
            "sortie du réseau: [0.000 0.000 0.000 1.000 0.000 0.000 0.000 0.000 0.000 0.000] 3\n",
            "sortie attendue : [0.000 0.000 0.000 1.000 0.000 0.000 0.000 0.000 0.000 0.000] 3\n"
          ],
          "name": "stdout"
        },
        {
          "output_type": "display_data",
          "data": {
            "image/png": "[encoded data removed]",
            "text/plain": [
              "<PIL.Image.Image image mode=RGB size=28x28 at 0x7FF257B70A90>"
            ]
          },
          "metadata": {
            "tags": []
          }
        },
        {
          "output_type": "stream",
          "text": [
            "image 52\n",
            "sortie du réseau: [0.000 0.000 0.000 0.000 0.000 1.000 0.000 0.000 0.000 0.000] 5\n",
            "sortie attendue : [0.000 0.000 0.000 0.000 0.000 1.000 0.000 0.000 0.000 0.000] 5\n"
          ],
          "name": "stdout"
        },
        {
          "output_type": "display_data",
          "data": {
            "image/png": "[encoded data removed]",
            "text/plain": [
              "<PIL.Image.Image image mode=RGB size=28x28 at 0x7FF257B70710>"
            ]
          },
          "metadata": {
            "tags": []
          }
        },
        {
          "output_type": "stream",
          "text": [
            "image 53\n",
            "sortie du réseau: [0.000 0.000 0.000 0.000 0.000 1.000 0.000 0.000 0.000 0.000] 5\n",
            "sortie attendue : [0.000 0.000 0.000 0.000 0.000 1.000 0.000 0.000 0.000 0.000] 5\n"
          ],
          "name": "stdout"
        },
        {
          "output_type": "display_data",
          "data": {
            "image/png": "[encoded data removed]",
            "text/plain": [
              "<PIL.Image.Image image mode=RGB size=28x28 at 0x7FF257B70A90>"
            ]
          },
          "metadata": {
            "tags": []
          }
        },
        {
          "output_type": "stream",
          "text": [
            "image 54\n",
            "sortie du réseau: [0.000 0.000 0.000 0.000 0.000 0.000 1.000 0.000 0.000 0.000] 6\n",
            "sortie attendue : [0.000 0.000 0.000 0.000 0.000 0.000 1.000 0.000 0.000 0.000] 6\n"
          ],
          "name": "stdout"
        },
        {
          "output_type": "display_data",
          "data": {
            "image/png": "[encoded data removed]",
            "text/plain": [
              "<PIL.Image.Image image mode=RGB size=28x28 at 0x7FF257B709B0>"
            ]
          },
          "metadata": {
            "tags": []
          }
        },
        {
          "output_type": "stream",
          "text": [
            "image 55\n",
            "sortie du réseau: [1.000 0.000 0.000 0.000 0.000 0.000 0.000 0.000 0.000 0.000] 0\n",
            "sortie attendue : [1.000 0.000 0.000 0.000 0.000 0.000 0.000 0.000 0.000 0.000] 0\n"
          ],
          "name": "stdout"
        },
        {
          "output_type": "display_data",
          "data": {
            "image/png": "[encoded data removed]",
            "text/plain": [
              "<PIL.Image.Image image mode=RGB size=28x28 at 0x7FF257B70A90>"
            ]
          },
          "metadata": {
            "tags": []
          }
        },
        {
          "output_type": "stream",
          "text": [
            "image 56\n",
            "sortie du réseau: [0.000 0.000 0.000 0.000 1.000 0.000 0.000 0.000 0.000 0.000] 4\n",
            "sortie attendue : [0.000 0.000 0.000 0.000 1.000 0.000 0.000 0.000 0.000 0.000] 4\n"
          ],
          "name": "stdout"
        },
        {
          "output_type": "display_data",
          "data": {
            "image/png": "[encoded data removed]",
            "text/plain": [
              "<PIL.Image.Image image mode=RGB size=28x28 at 0x7FF257B709B0>"
            ]
          },
          "metadata": {
            "tags": []
          }
        },
        {
          "output_type": "stream",
          "text": [
            "image 57\n",
            "sortie du réseau: [0.000 1.000 0.000 0.000 0.000 0.000 0.000 0.000 0.000 0.000] 1\n",
            "sortie attendue : [0.000 1.000 0.000 0.000 0.000 0.000 0.000 0.000 0.000 0.000] 1\n"
          ],
          "name": "stdout"
        },
        {
          "output_type": "display_data",
          "data": {
            "image/png": "[encoded data removed]",
            "text/plain": [
              "<PIL.Image.Image image mode=RGB size=28x28 at 0x7FF257B70A90>"
            ]
          },
          "metadata": {
            "tags": []
          }
        },
        {
          "output_type": "stream",
          "text": [
            "image 58\n",
            "sortie du réseau: [0.000 0.000 0.000 0.000 0.000 0.000 0.000 0.000 0.000 1.000] 9\n",
            "sortie attendue : [0.000 0.000 0.000 0.000 0.000 0.000 0.000 0.000 0.000 1.000] 9\n"
          ],
          "name": "stdout"
        },
        {
          "output_type": "display_data",
          "data": {
            "image/png": "[encoded data removed]",
            "text/plain": [
              "<PIL.Image.Image image mode=RGB size=28x28 at 0x7FF257B70B38>"
            ]
          },
          "metadata": {
            "tags": []
          }
        },
        {
          "output_type": "stream",
          "text": [
            "image 59\n",
            "sortie du réseau: [0.000 0.000 0.000 0.000 0.000 1.000 0.000 0.000 0.000 0.000] 5\n",
            "sortie attendue : [0.000 0.000 0.000 0.000 0.000 1.000 0.000 0.000 0.000 0.000] 5\n"
          ],
          "name": "stdout"
        },
        {
          "output_type": "display_data",
          "data": {
            "image/png": "[encoded data removed]",
            "text/plain": [
              "<PIL.Image.Image image mode=RGB size=28x28 at 0x7FF257B70A90>"
            ]
          },
          "metadata": {
            "tags": []
          }
        },
        {
          "output_type": "stream",
          "text": [
            "image 60\n",
            "sortie du réseau: [0.000 0.000 0.000 0.000 0.000 0.000 0.000 1.000 0.000 0.000] 7\n",
            "sortie attendue : [0.000 0.000 0.000 0.000 0.000 0.000 0.000 1.000 0.000 0.000] 7\n"
          ],
          "name": "stdout"
        },
        {
          "output_type": "display_data",
          "data": {
            "image/png": "[encoded data removed]",
            "text/plain": [
              "<PIL.Image.Image image mode=RGB size=28x28 at 0x7FF257B70B38>"
            ]
          },
          "metadata": {
            "tags": []
          }
        },
        {
          "output_type": "stream",
          "text": [
            "image 61\n",
            "sortie du réseau: [0.000 0.000 0.000 0.000 0.000 0.000 0.000 0.000 1.000 0.000] 8\n",
            "sortie attendue : [0.000 0.000 0.000 0.000 0.000 0.000 0.000 0.000 1.000 0.000] 8\n"
          ],
          "name": "stdout"
        },
        {
          "output_type": "display_data",
          "data": {
            "image/png": "[encoded data removed]",
            "text/plain": [
              "<PIL.Image.Image image mode=RGB size=28x28 at 0x7FF257B70B00>"
            ]
          },
          "metadata": {
            "tags": []
          }
        },
        {
          "output_type": "stream",
          "text": [
            "image 62\n",
            "sortie du réseau: [0.000 0.000 0.000 0.000 0.000 0.044 0.000 0.002 0.001 0.953] 9\n",
            "sortie attendue : [0.000 0.000 0.000 0.000 0.000 0.000 0.000 0.000 0.000 1.000] 9\n"
          ],
          "name": "stdout"
        },
        {
          "output_type": "display_data",
          "data": {
            "image/png": "[encoded data removed]",
            "text/plain": [
              "<PIL.Image.Image image mode=RGB size=28x28 at 0x7FF257B70B38>"
            ]
          },
          "metadata": {
            "tags": []
          }
        },
        {
          "output_type": "stream",
          "text": [
            "image 63\n",
            "sortie du réseau: [0.000 0.000 0.000 1.000 0.000 0.000 0.000 0.000 0.000 0.000] 3\n",
            "sortie attendue : [0.000 0.000 0.000 1.000 0.000 0.000 0.000 0.000 0.000 0.000] 3\n"
          ],
          "name": "stdout"
        },
        {
          "output_type": "display_data",
          "data": {
            "image/png": "[encoded data removed]",
            "text/plain": [
              "<PIL.Image.Image image mode=RGB size=28x28 at 0x7FF257B70978>"
            ]
          },
          "metadata": {
            "tags": []
          }
        },
        {
          "output_type": "stream",
          "text": [
            "image 64\n",
            "sortie du réseau: [0.000 0.000 0.000 0.000 0.000 0.000 0.000 1.000 0.000 0.000] 7\n",
            "sortie attendue : [0.000 0.000 0.000 0.000 0.000 0.000 0.000 1.000 0.000 0.000] 7\n"
          ],
          "name": "stdout"
        },
        {
          "output_type": "display_data",
          "data": {
            "image/png": "[encoded data removed]",
            "text/plain": [
              "<PIL.Image.Image image mode=RGB size=28x28 at 0x7FF257B70710>"
            ]
          },
          "metadata": {
            "tags": []
          }
        },
        {
          "output_type": "stream",
          "text": [
            "image 65\n",
            "sortie du réseau: [0.000 0.000 0.000 0.000 1.000 0.000 0.000 0.000 0.000 0.000] 4\n",
            "sortie attendue : [0.000 0.000 0.000 0.000 1.000 0.000 0.000 0.000 0.000 0.000] 4\n"
          ],
          "name": "stdout"
        },
        {
          "output_type": "display_data",
          "data": {
            "image/png": "[encoded data removed]",
            "text/plain": [
              "<PIL.Image.Image image mode=RGB size=28x28 at 0x7FF257B70978>"
            ]
          },
          "metadata": {
            "tags": []
          }
        },
        {
          "output_type": "stream",
          "text": [
            "image 66\n",
            "sortie du réseau: [0.000 0.000 0.000 0.000 0.000 0.000 1.000 0.000 0.000 0.000] 6\n",
            "sortie attendue : [0.000 0.000 0.000 0.000 0.000 0.000 1.000 0.000 0.000 0.000] 6\n"
          ],
          "name": "stdout"
        },
        {
          "output_type": "display_data",
          "data": {
            "image/png": "[encoded data removed]",
            "text/plain": [
              "<PIL.Image.Image image mode=RGB size=28x28 at 0x7FF257B70710>"
            ]
          },
          "metadata": {
            "tags": []
          }
        },
        {
          "output_type": "stream",
          "text": [
            "image 67\n",
            "sortie du réseau: [0.000 0.000 0.000 0.000 1.000 0.000 0.000 0.000 0.000 0.000] 4\n",
            "sortie attendue : [0.000 0.000 0.000 0.000 1.000 0.000 0.000 0.000 0.000 0.000] 4\n"
          ],
          "name": "stdout"
        },
        {
          "output_type": "display_data",
          "data": {
            "image/png": "[encoded data removed]",
            "text/plain": [
              "<PIL.Image.Image image mode=RGB size=28x28 at 0x7FF257B70978>"
            ]
          },
          "metadata": {
            "tags": []
          }
        },
        {
          "output_type": "stream",
          "text": [
            "image 68\n",
            "sortie du réseau: [0.000 0.000 0.000 1.000 0.000 0.000 0.000 0.000 0.000 0.000] 3\n",
            "sortie attendue : [0.000 0.000 0.000 1.000 0.000 0.000 0.000 0.000 0.000 0.000] 3\n"
          ],
          "name": "stdout"
        },
        {
          "output_type": "display_data",
          "data": {
            "image/png": "[encoded data removed]",
            "text/plain": [
              "<PIL.Image.Image image mode=RGB size=28x28 at 0x7FF257B70908>"
            ]
          },
          "metadata": {
            "tags": []
          }
        },
        {
          "output_type": "stream",
          "text": [
            "image 69\n",
            "sortie du réseau: [1.000 0.000 0.000 0.000 0.000 0.000 0.000 0.000 0.000 0.000] 0\n",
            "sortie attendue : [1.000 0.000 0.000 0.000 0.000 0.000 0.000 0.000 0.000 0.000] 0\n"
          ],
          "name": "stdout"
        },
        {
          "output_type": "display_data",
          "data": {
            "image/png": "[encoded data removed]",
            "text/plain": [
              "<PIL.Image.Image image mode=RGB size=28x28 at 0x7FF257B70BE0>"
            ]
          },
          "metadata": {
            "tags": []
          }
        },
        {
          "output_type": "stream",
          "text": [
            "image 70\n",
            "sortie du réseau: [0.000 0.000 0.000 0.000 0.000 0.000 0.000 1.000 0.000 0.000] 7\n",
            "sortie attendue : [0.000 0.000 0.000 0.000 0.000 0.000 0.000 1.000 0.000 0.000] 7\n"
          ],
          "name": "stdout"
        },
        {
          "output_type": "display_data",
          "data": {
            "image/png": "[encoded data removed]",
            "text/plain": [
              "<PIL.Image.Image image mode=RGB size=28x28 at 0x7FF257B70A90>"
            ]
          },
          "metadata": {
            "tags": []
          }
        },
        {
          "output_type": "stream",
          "text": [
            "image 71\n",
            "sortie du réseau: [1.000 0.000 0.000 0.000 0.000 0.000 0.000 0.000 0.000 0.000] 0\n",
            "sortie attendue : [1.000 0.000 0.000 0.000 0.000 0.000 0.000 0.000 0.000 0.000] 0\n"
          ],
          "name": "stdout"
        },
        {
          "output_type": "display_data",
          "data": {
            "image/png": "[encoded data removed]",
            "text/plain": [
              "<PIL.Image.Image image mode=RGB size=28x28 at 0x7FF257B70BE0>"
            ]
          },
          "metadata": {
            "tags": []
          }
        },
        {
          "output_type": "stream",
          "text": [
            "image 72\n",
            "sortie du réseau: [0.000 0.000 1.000 0.000 0.000 0.000 0.000 0.000 0.000 0.000] 2\n",
            "sortie attendue : [0.000 0.000 1.000 0.000 0.000 0.000 0.000 0.000 0.000 0.000] 2\n"
          ],
          "name": "stdout"
        },
        {
          "output_type": "display_data",
          "data": {
            "image/png": "[encoded data removed]",
            "text/plain": [
              "<PIL.Image.Image image mode=RGB size=28x28 at 0x7FF257B70A90>"
            ]
          },
          "metadata": {
            "tags": []
          }
        },
        {
          "output_type": "stream",
          "text": [
            "image 73\n",
            "sortie du réseau: [0.000 0.000 0.000 0.000 0.000 0.000 0.000 0.000 0.136 0.864] 9\n",
            "sortie attendue : [0.000 0.000 0.000 0.000 0.000 0.000 0.000 0.000 0.000 1.000] 9\n"
          ],
          "name": "stdout"
        },
        {
          "output_type": "display_data",
          "data": {
            "image/png": "[encoded data removed]",
            "text/plain": [
              "<PIL.Image.Image image mode=RGB size=28x28 at 0x7FF257B70710>"
            ]
          },
          "metadata": {
            "tags": []
          }
        },
        {
          "output_type": "stream",
          "text": [
            "image 74\n",
            "sortie du réseau: [0.000 1.000 0.000 0.000 0.000 0.000 0.000 0.000 0.000 0.000] 1\n",
            "sortie attendue : [0.000 1.000 0.000 0.000 0.000 0.000 0.000 0.000 0.000 0.000] 1\n"
          ],
          "name": "stdout"
        },
        {
          "output_type": "display_data",
          "data": {
            "image/png": "[encoded data removed]",
            "text/plain": [
              "<PIL.Image.Image image mode=RGB size=28x28 at 0x7FF257B70A90>"
            ]
          },
          "metadata": {
            "tags": []
          }
        },
        {
          "output_type": "stream",
          "text": [
            "image 75\n",
            "sortie du réseau: [0.000 0.000 0.000 0.000 0.000 0.000 0.000 1.000 0.000 0.000] 7\n",
            "sortie attendue : [0.000 0.000 0.000 0.000 0.000 0.000 0.000 1.000 0.000 0.000] 7\n"
          ],
          "name": "stdout"
        },
        {
          "output_type": "display_data",
          "data": {
            "image/png": "[encoded data removed]",
            "text/plain": [
              "<PIL.Image.Image image mode=RGB size=28x28 at 0x7FF257B70710>"
            ]
          },
          "metadata": {
            "tags": []
          }
        },
        {
          "output_type": "stream",
          "text": [
            "image 76\n",
            "sortie du réseau: [0.000 0.000 0.000 1.000 0.000 0.000 0.000 0.000 0.000 0.000] 3\n",
            "sortie attendue : [0.000 0.000 0.000 1.000 0.000 0.000 0.000 0.000 0.000 0.000] 3\n"
          ],
          "name": "stdout"
        },
        {
          "output_type": "display_data",
          "data": {
            "image/png": "[encoded data removed]",
            "text/plain": [
              "<PIL.Image.Image image mode=RGB size=28x28 at 0x7FF257B70A90>"
            ]
          },
          "metadata": {
            "tags": []
          }
        },
        {
          "output_type": "stream",
          "text": [
            "image 77\n",
            "sortie du réseau: [0.000 0.000 1.000 0.000 0.000 0.000 0.000 0.000 0.000 0.000] 2\n",
            "sortie attendue : [0.000 0.000 1.000 0.000 0.000 0.000 0.000 0.000 0.000 0.000] 2\n"
          ],
          "name": "stdout"
        },
        {
          "output_type": "display_data",
          "data": {
            "image/png": "[encoded data removed]",
            "text/plain": [
              "<PIL.Image.Image image mode=RGB size=28x28 at 0x7FF257B70B00>"
            ]
          },
          "metadata": {
            "tags": []
          }
        },
        {
          "output_type": "stream",
          "text": [
            "image 78\n",
            "sortie du réseau: [0.000 0.000 0.000 0.000 0.000 0.000 0.000 0.000 0.000 1.000] 9\n",
            "sortie attendue : [0.000 0.000 0.000 0.000 0.000 0.000 0.000 0.000 0.000 1.000] 9\n"
          ],
          "name": "stdout"
        },
        {
          "output_type": "display_data",
          "data": {
            "image/png": "[encoded data removed]",
            "text/plain": [
              "<PIL.Image.Image image mode=RGB size=28x28 at 0x7FF257B70BA8>"
            ]
          },
          "metadata": {
            "tags": []
          }
        },
        {
          "output_type": "stream",
          "text": [
            "image 79\n",
            "sortie du réseau: [0.000 0.000 0.000 0.000 0.000 0.000 0.000 1.000 0.000 0.000] 7\n",
            "sortie attendue : [0.000 0.000 0.000 0.000 0.000 0.000 0.000 1.000 0.000 0.000] 7\n"
          ],
          "name": "stdout"
        },
        {
          "output_type": "display_data",
          "data": {
            "image/png": "[encoded data removed]",
            "text/plain": [
              "<PIL.Image.Image image mode=RGB size=28x28 at 0x7FF257B70B00>"
            ]
          },
          "metadata": {
            "tags": []
          }
        },
        {
          "output_type": "stream",
          "text": [
            "image 80\n",
            "sortie du réseau: [0.000 0.000 0.000 0.000 0.000 0.000 0.000 1.000 0.000 0.000] 7\n",
            "sortie attendue : [0.000 0.000 0.000 0.000 0.000 0.000 0.000 1.000 0.000 0.000] 7\n"
          ],
          "name": "stdout"
        },
        {
          "output_type": "display_data",
          "data": {
            "image/png": "[encoded data removed]",
            "text/plain": [
              "<PIL.Image.Image image mode=RGB size=28x28 at 0x7FF257B70BE0>"
            ]
          },
          "metadata": {
            "tags": []
          }
        },
        {
          "output_type": "stream",
          "text": [
            "image 81\n",
            "sortie du réseau: [0.000 0.000 0.000 0.000 0.000 0.000 1.000 0.000 0.000 0.000] 6\n",
            "sortie attendue : [0.000 0.000 0.000 0.000 0.000 0.000 1.000 0.000 0.000 0.000] 6\n"
          ],
          "name": "stdout"
        },
        {
          "output_type": "display_data",
          "data": {
            "image/png": "[encoded data removed]",
            "text/plain": [
              "<PIL.Image.Image image mode=RGB size=28x28 at 0x7FF257B70B00>"
            ]
          },
          "metadata": {
            "tags": []
          }
        },
        {
          "output_type": "stream",
          "text": [
            "image 82\n",
            "sortie du réseau: [0.000 0.000 1.000 0.000 0.000 0.000 0.000 0.000 0.000 0.000] 2\n",
            "sortie attendue : [0.000 0.000 1.000 0.000 0.000 0.000 0.000 0.000 0.000 0.000] 2\n"
          ],
          "name": "stdout"
        },
        {
          "output_type": "display_data",
          "data": {
            "image/png": "[encoded data removed]",
            "text/plain": [
              "<PIL.Image.Image image mode=RGB size=28x28 at 0x7FF257B70BE0>"
            ]
          },
          "metadata": {
            "tags": []
          }
        },
        {
          "output_type": "stream",
          "text": [
            "image 83\n",
            "sortie du réseau: [0.000 0.000 0.000 0.000 0.000 0.000 0.000 1.000 0.000 0.000] 7\n",
            "sortie attendue : [0.000 0.000 0.000 0.000 0.000 0.000 0.000 1.000 0.000 0.000] 7\n"
          ],
          "name": "stdout"
        },
        {
          "output_type": "display_data",
          "data": {
            "image/png": "[encoded data removed]",
            "text/plain": [
              "<PIL.Image.Image image mode=RGB size=28x28 at 0x7FF257B70B00>"
            ]
          },
          "metadata": {
            "tags": []
          }
        },
        {
          "output_type": "stream",
          "text": [
            "image 84\n",
            "sortie du réseau: [0.000 0.000 0.000 0.000 0.000 0.000 0.000 0.000 1.000 0.000] 8\n",
            "sortie attendue : [0.000 0.000 0.000 0.000 0.000 0.000 0.000 0.000 1.000 0.000] 8\n"
          ],
          "name": "stdout"
        },
        {
          "output_type": "display_data",
          "data": {
            "image/png": "[encoded data removed]",
            "text/plain": [
              "<PIL.Image.Image image mode=RGB size=28x28 at 0x7FF257B70908>"
            ]
          },
          "metadata": {
            "tags": []
          }
        },
        {
          "output_type": "stream",
          "text": [
            "image 85\n",
            "sortie du réseau: [0.000 0.000 0.000 0.000 1.000 0.000 0.000 0.000 0.000 0.000] 4\n",
            "sortie attendue : [0.000 0.000 0.000 0.000 1.000 0.000 0.000 0.000 0.000 0.000] 4\n"
          ],
          "name": "stdout"
        },
        {
          "output_type": "display_data",
          "data": {
            "image/png": "[encoded data removed]",
            "text/plain": [
              "<PIL.Image.Image image mode=RGB size=28x28 at 0x7FF257B70B00>"
            ]
          },
          "metadata": {
            "tags": []
          }
        },
        {
          "output_type": "stream",
          "text": [
            "image 86\n",
            "sortie du réseau: [0.000 0.000 0.000 0.000 0.000 0.000 0.000 1.000 0.000 0.000] 7\n",
            "sortie attendue : [0.000 0.000 0.000 0.000 0.000 0.000 0.000 1.000 0.000 0.000] 7\n"
          ],
          "name": "stdout"
        },
        {
          "output_type": "display_data",
          "data": {
            "image/png": "[encoded data removed]",
            "text/plain": [
              "<PIL.Image.Image image mode=RGB size=28x28 at 0x7FF257B70908>"
            ]
          },
          "metadata": {
            "tags": []
          }
        },
        {
          "output_type": "stream",
          "text": [
            "image 87\n",
            "sortie du réseau: [0.000 0.000 0.000 1.000 0.000 0.000 0.000 0.000 0.000 0.000] 3\n",
            "sortie attendue : [0.000 0.000 0.000 1.000 0.000 0.000 0.000 0.000 0.000 0.000] 3\n"
          ],
          "name": "stdout"
        },
        {
          "output_type": "display_data",
          "data": {
            "image/png": "[encoded data removed]",
            "text/plain": [
              "<PIL.Image.Image image mode=RGB size=28x28 at 0x7FF257B70BA8>"
            ]
          },
          "metadata": {
            "tags": []
          }
        },
        {
          "output_type": "stream",
          "text": [
            "image 88\n",
            "sortie du réseau: [0.000 0.000 0.000 0.000 0.000 0.000 1.000 0.000 0.000 0.000] 6\n",
            "sortie attendue : [0.000 0.000 0.000 0.000 0.000 0.000 1.000 0.000 0.000 0.000] 6\n"
          ],
          "name": "stdout"
        },
        {
          "output_type": "display_data",
          "data": {
            "image/png": "[encoded data removed]",
            "text/plain": [
              "<PIL.Image.Image image mode=RGB size=28x28 at 0x7FF257B70978>"
            ]
          },
          "metadata": {
            "tags": []
          }
        },
        {
          "output_type": "stream",
          "text": [
            "image 89\n",
            "sortie du réseau: [0.000 1.000 0.000 0.000 0.000 0.000 0.000 0.000 0.000 0.000] 1\n",
            "sortie attendue : [0.000 1.000 0.000 0.000 0.000 0.000 0.000 0.000 0.000 0.000] 1\n"
          ],
          "name": "stdout"
        },
        {
          "output_type": "display_data",
          "data": {
            "image/png": "[encoded data removed]",
            "text/plain": [
              "<PIL.Image.Image image mode=RGB size=28x28 at 0x7FF257B70BA8>"
            ]
          },
          "metadata": {
            "tags": []
          }
        },
        {
          "output_type": "stream",
          "text": [
            "image 90\n",
            "sortie du réseau: [0.000 0.000 0.000 1.000 0.000 0.000 0.000 0.000 0.000 0.000] 3\n",
            "sortie attendue : [0.000 0.000 0.000 1.000 0.000 0.000 0.000 0.000 0.000 0.000] 3\n"
          ],
          "name": "stdout"
        },
        {
          "output_type": "display_data",
          "data": {
            "image/png": "[encoded data removed]",
            "text/plain": [
              "<PIL.Image.Image image mode=RGB size=28x28 at 0x7FF257B70978>"
            ]
          },
          "metadata": {
            "tags": []
          }
        },
        {
          "output_type": "stream",
          "text": [
            "image 91\n",
            "sortie du réseau: [0.000 0.000 0.000 0.000 0.000 0.000 1.000 0.000 0.000 0.000] 6\n",
            "sortie attendue : [0.000 0.000 0.000 0.000 0.000 0.000 1.000 0.000 0.000 0.000] 6\n"
          ],
          "name": "stdout"
        },
        {
          "output_type": "display_data",
          "data": {
            "image/png": "[encoded data removed]",
            "text/plain": [
              "<PIL.Image.Image image mode=RGB size=28x28 at 0x7FF257B70BA8>"
            ]
          },
          "metadata": {
            "tags": []
          }
        },
        {
          "output_type": "stream",
          "text": [
            "image 92\n",
            "sortie du réseau: [0.000 0.000 0.000 0.000 0.000 0.000 0.000 0.000 0.000 1.000] 9\n",
            "sortie attendue : [0.000 0.000 0.000 0.000 0.000 0.000 0.000 0.000 0.000 1.000] 9\n"
          ],
          "name": "stdout"
        },
        {
          "output_type": "display_data",
          "data": {
            "image/png": "[encoded data removed]",
            "text/plain": [
              "<PIL.Image.Image image mode=RGB size=28x28 at 0x7FF257B70978>"
            ]
          },
          "metadata": {
            "tags": []
          }
        },
        {
          "output_type": "stream",
          "text": [
            "image 93\n",
            "sortie du réseau: [0.000 0.000 0.000 1.000 0.000 0.000 0.000 0.000 0.000 0.000] 3\n",
            "sortie attendue : [0.000 0.000 0.000 1.000 0.000 0.000 0.000 0.000 0.000 0.000] 3\n"
          ],
          "name": "stdout"
        },
        {
          "output_type": "display_data",
          "data": {
            "image/png": "[encoded data removed]",
            "text/plain": [
              "<PIL.Image.Image image mode=RGB size=28x28 at 0x7FF257B70BA8>"
            ]
          },
          "metadata": {
            "tags": []
          }
        },
        {
          "output_type": "stream",
          "text": [
            "image 94\n",
            "sortie du réseau: [0.000 1.000 0.000 0.000 0.000 0.000 0.000 0.000 0.000 0.000] 1\n",
            "sortie attendue : [0.000 1.000 0.000 0.000 0.000 0.000 0.000 0.000 0.000 0.000] 1\n"
          ],
          "name": "stdout"
        },
        {
          "output_type": "display_data",
          "data": {
            "image/png": "[encoded data removed]",
            "text/plain": [
              "<PIL.Image.Image image mode=RGB size=28x28 at 0x7FF257B70978>"
            ]
          },
          "metadata": {
            "tags": []
          }
        },
        {
          "output_type": "stream",
          "text": [
            "image 95\n",
            "sortie du réseau: [0.000 0.000 0.000 0.000 0.883 0.000 0.004 0.000 0.112 0.000] 4\n",
            "sortie attendue : [0.000 0.000 0.000 0.000 1.000 0.000 0.000 0.000 0.000 0.000] 4\n"
          ],
          "name": "stdout"
        },
        {
          "output_type": "display_data",
          "data": {
            "image/png": "[encoded data removed]",
            "text/plain": [
              "<PIL.Image.Image image mode=RGB size=28x28 at 0x7FF257B70BA8>"
            ]
          },
          "metadata": {
            "tags": []
          }
        },
        {
          "output_type": "stream",
          "text": [
            "image 96\n",
            "sortie du réseau: [0.000 0.908 0.000 0.000 0.003 0.000 0.000 0.000 0.004 0.085] 1\n",
            "sortie attendue : [0.000 1.000 0.000 0.000 0.000 0.000 0.000 0.000 0.000 0.000] 1\n"
          ],
          "name": "stdout"
        },
        {
          "output_type": "display_data",
          "data": {
            "image/png": "[encoded data removed]",
            "text/plain": [
              "<PIL.Image.Image image mode=RGB size=28x28 at 0x7FF257B70710>"
            ]
          },
          "metadata": {
            "tags": []
          }
        },
        {
          "output_type": "stream",
          "text": [
            "image 97\n",
            "sortie du réseau: [0.000 0.000 0.000 0.000 0.000 0.000 0.000 1.000 0.000 0.000] 7\n",
            "sortie attendue : [0.000 0.000 0.000 0.000 0.000 0.000 0.000 1.000 0.000 0.000] 7\n"
          ],
          "name": "stdout"
        },
        {
          "output_type": "display_data",
          "data": {
            "image/png": "[encoded data removed]",
            "text/plain": [
              "<PIL.Image.Image image mode=RGB size=28x28 at 0x7FF257B70BA8>"
            ]
          },
          "metadata": {
            "tags": []
          }
        },
        {
          "output_type": "stream",
          "text": [
            "image 98\n",
            "sortie du réseau: [0.000 0.000 0.000 0.000 0.000 0.000 1.000 0.000 0.000 0.000] 6\n",
            "sortie attendue : [0.000 0.000 0.000 0.000 0.000 0.000 1.000 0.000 0.000 0.000] 6\n"
          ],
          "name": "stdout"
        },
        {
          "output_type": "display_data",
          "data": {
            "image/png": "[encoded data removed]",
            "text/plain": [
              "<PIL.Image.Image image mode=RGB size=28x28 at 0x7FF257B70710>"
            ]
          },
          "metadata": {
            "tags": []
          }
        },
        {
          "output_type": "stream",
          "text": [
            "image 99\n",
            "sortie du réseau: [0.000 0.000 0.000 0.000 0.000 0.000 0.000 0.000 0.000 1.000] 9\n",
            "sortie attendue : [0.000 0.000 0.000 0.000 0.000 0.000 0.000 0.000 0.000 1.000] 9\n"
          ],
          "name": "stdout"
        },
        {
          "output_type": "display_data",
          "data": {
            "image/png": "[encoded data removed]",
            "text/plain": [
              "<PIL.Image.Image image mode=RGB size=28x28 at 0x7FF257B70B00>"
            ]
          },
          "metadata": {
            "tags": []
          }
        }
      ]
    },
    {
      "cell_type": "markdown",
      "metadata": {
        "id": "rRapEiKbTKWD"
      },
      "source": [
        "courbe d'erreur avec la méthode d'AdamOptimizer en modifiant la fonction de normalisation"
      ]
    },
    {
      "cell_type": "markdown",
      "metadata": {
        "id": "XUSCFcYYTErH"
      },
      "source": [
        "![Screen Shot 2021-01-28 at 7.39.35 PM.png](data:image/png;base64,iVBORw0KGgoAAAANSUhEUgAAAvQAAAHwCAYAAADJpfudAAAMKWlDQ1BJQ0MgUHJvZmlsZQAASImVlwdUk8kWgOcvSUhIaIFQpITeBBGkS68BBKSDjZAEEkoICUHEji4quBZURLGiqyK2tQCyqIi9Idj7AxUVZV3UxQbKmySArp733nn3nPn/L3fu3Ln3Zv45MwCoRrNFomxUDYAcYb44JsSfmZScwiQ9BWSgBlSALsDZHInILzo6AkAZfv9T3t8CiOx93U7m6+f+/yrqXJ6EAwASDTmNK+HkQD4MAO7CEYnzASD0QL3p9HwRZCKMEmiKYYCQzWScoWA3GacpOEJuExcTADkVACUqmy3OAEBFFhezgJMB/agshewg5AqEkJsge3P4bC7kAcijc3JyIataQbZK+85Pxj98po34ZLMzRliRi1yUAgUSUTZ7xv9Zjv8tOdnS4TlMYaPyxaExspxldcvKDZcxFfJ5YVpkFGQNyDcEXLm9jJ/xpaHxQ/YfOZIAWDPAAAClctmB4ZD1IZsIsyMjhvTe6YJgFmRYezROkM+KU4xFueLcmCH/aCFPEhQ7zGyxfC6ZTak0K95vyOcmPo817LOxiB+XqIgTbSsQJERCVoH8QJIVGz5k87KIHxA5bCOWxshihv85BtLFwTEKG8wsRzKcF+bBF7Aihzginx8XqhiLTeWw5bHpQM7kSZIihuPk8gKDFHlhxTxh/FD8WLko3z9myH67KDt6yB5r4mWHyPQmkFslBbHDY3vz4WJT5IsDUX50nCI2XDOTHRatiAG3AREgAAQCJpDClgZyQSYQtPbU98Bfip5gwAZikAF4wG5IMzwiUd4jhM9YUAT+hMQDkpFx/vJeHiiA+i8jWsXTDqTLewvkI7LAM8g5IBxkw99S+SjhyGwJ4CnUCH6anQNjzYZN1veTjqk6rCMGEQOJocRgojWuh3vjnngEfPrC5oi74e7DcX2zJzwjtBMeE24SOgh3pwmKxT9EzgQTQAeMMXgou7Tvs8MtoFdn3B/3gv6hb5yB6wE7fBycyQ/3gXM7Q+33sUpHMv5WyyFfZAcyStYm+5KtfoxAxUbFecSLrFLf10IRV9pItQJGen7MI+C7+nHhO/xHS2wxdgg7h53ELmBNWD1gYiewBuwydkzGI2vjqXxtDM8WI48nC/oR/DQfe2hOWdUkDrUO3Q4DQ30gn1eYL/tYAnJFM8SCDH4+0w/u1jwmS8ixH810dHB0AEC29yu2lncM+Z6OMC5+0+U1A+BeCpUZ33RsuAcdfQYA/f03nelbuOxXAHCsjSMVFyh0uOxBABSgCr8UXWAI9y4rmJEjcAGewBcEgTAQBeJAMpgK68yH61QMpoNZYD4oAWVgBVgD1oPNYBvYBfaCg6AeNIGT4Cy4BNrATXAfrpUu8Ar0gvegH0EQEkJD6IguYoSYI7aII+KGeCNBSAQSgyQjqUgGIkSkyCxkAVKGlCPrka1IDfI7chQ5iVxA2pG7SCfSjbxFPqMYSkU1UQPUAh2DuqF+aDgah05BM9A8tAhdiC5DK9FqdA9ah55EL6E30Q70FdqHAUwZY2DGmB3mhgVgUVgKlo6JsTlYKVaBVWP7sEb4T1/HOrAe7BNOxOk4E7eD6zUUj8c5eB4+B1+Kr8d34XX4afw63on34l8JNII+wZbgQWARkggZhOmEEkIFYQfhCOEM/Ha6CO+JRCKDaEl0hd9eMjGTOJO4lLiRuJ/YTGwnPiH2kUgkXZItyYsURWKT8kklpHWkPaQTpGukLtJHJWUlIyVHpWClFCWhUrFShdJupeNK15SeK/WT1cjmZA9yFJlLnkFeTt5ObiRfJXeR+ynqFEuKFyWOkkmZT6mk7KOcoTygvFNWVjZRdleeqCxQnqdcqXxA+bxyp/InqgbVhhpAnUyVUpdRd1KbqXep72g0mgXNl5ZCy6cto9XQTtEe0T6q0FXsVVgqXJW5KlUqdSrXVF6rklXNVf1Up6oWqVaoHlK9qtqjRlazUAtQY6vNUatSO6p2W61Pna4+Vj1KPUd9qfpu9QvqLzRIGhYaQRpcjYUa2zROaTyhY3RTegCdQ19A304/Q+/SJGpaarI0MzXLNPdqtmr2amlojdNK0CrUqtI6ptXBwBgWDBYjm7GccZBxi/FZ20DbT5unvUR7n/Y17Q86o3R8dXg6pTr7dW7qfNZl6gbpZumu1K3XfaiH69noTdSbrrdJ74xezyjNUZ6jOKNKRx0cdU8f1bfRj9Gfqb9N/7J+n4GhQYiByGCdwSmDHkOGoa9hpuFqw+OG3UZ0I28jgdFqoxNGL5laTD9mNrOSeZrZa6xvHGosNd5q3Grcb2JpEm9SbLLf5KEpxdTNNN10tWmLaa+ZkdkEs1lmtWb3zMnmbuZ887Xm58w/WFhaJFossqi3eGGpY8myLLKstXxgRbPyscqzqra6YU20drPOst5o3WaD2jjb8G2qbK7aorYutgLbjbbtowmj3UcLR1ePvm1HtfOzK7Crteu0Z9hH2Bfb19u/HmM2JmXMyjHnxnx1cHbIdtjucH+sxtiwscVjG8e+dbRx5DhWOd5wojkFO811anB6M852HG/cpnF3nOnOE5wXObc4f3FxdRG77HPpdjVzTXXd4HrbTdMt2m2p23l3gru/+1z3JvdPHi4e+R4HPf7ytPPM8tzt+WK85Xje+O3jn3iZeLG9tnp1eDO9U723eHf4GPuwfap9Hvua+nJ9d/g+97P2y/Tb4/fa38Ff7H/E/0OAR8DsgOZALDAksDSwNUgjKD5ofdCjYJPgjODa4N4Q55CZIc2hhNDw0JWht1kGLA6rhtUb5ho2O+x0ODU8Nnx9+OMImwhxROMEdELYhFUTHkSaRwoj66NAFCtqVdTDaMvovOg/JhInRk+smvgsZmzMrJhzsfTYabG7Y9/H+cctj7sfbxUvjW9JUE2YnFCT8CExMLE8sSNpTNLspEvJesmC5IYUUkpCyo6UvklBk9ZM6prsPLlk8q0pllMKp1yYqjc1e+qxaarT2NMOpRJSE1N3pw6wo9jV7L40VtqGtF5OAGct5xXXl7ua283z4pXznqd7pZenv8jwyliV0c334VfwewQBgvWCN5mhmZszP2RFZe3MGsxOzN6fo5STmnNUqCHMEp7ONcwtzG0X2YpKRB15Hnlr8nrF4eIdEkQyRdKQrwkP2ZelVtJfpJ0F3gVVBR+nJ0w/VKheKCy8PMNmxpIZz4uCi36bic/kzGyZZTxr/qzO2X6zt85B5qTNaZlrOnfh3K55IfN2zafMz5p/pdihuLz47wWJCxoXGiyct/DJLyG/1JaolIhLbi/yXLR5Mb5YsLh1idOSdUu+lnJLL5Y5lFWUDSzlLL3469hfK38dXJa+rHW5y/JNK4grhCturfRZuatcvbyo/MmqCavqVjNXl67+e820NRcqxlVsXktZK13bURlR2bDObN2KdQPr+etvVvlX7d+gv2HJhg8buRuvbfLdtG+zweayzZ+3CLbc2Rqyta7aorpiG3FbwbZn2xO2n/vN7beaHXo7ynZ82Snc2bErZtfpGteamt36u5fXorXS2u49k/e07Q3c27DPbt/W/Yz9ZQfAAemBl7+n/n7rYPjBlkNuh/YdNj+84Qj9SGkdUjejrreeX9/RkNzQfjTsaEujZ+ORP+z/2Nlk3FR1TOvY8uOU4wuPD54oOtHXLGruOZlx8knLtJb7p5JO3Tg98XTrmfAz588Gnz11zu/cifNe55sueFw4etHtYv0ll0t1l50vH7nifOVIq0tr3VXXqw1t7m2N7ePbj1/zuXbyeuD1szdYNy7djLzZfiv+1p3bk2933OHeeXE3++6bewX3+u/Pe0B4UPpQ7WHFI/1H1f+y/tf+DpeOY52BnZcfxz6+/4Tz5NVTydOBroXPaM8qnhs9r3nh+KKpO7i77eWkl12vRK/6e0r+VP9zw2ur14f/8v3rcm9Sb9cb8ZvBt0vf6b7b+fe4v1v6ovsevc953/+h9KPux12f3D6d+5z4+Xn/9AHSQOUX6y+NX8O/PhjMGRwUscVs+VEAgw1NTwfg7U4AaMnw7NAGAGWS4m4mF0Rxn5QT+E+suL/JxQWAnb4AxM8DIAKeUTbBZg6ZCt+yI3icL0CdnEbakEjSnRwVvqjwxkL4ODj4zgAAUiMAX8SDg/0bBwe/bIfB3gWgOU9xJ5SJ7A66RX7OuWI60xj8IP8G5R5v+h7yQ8UAAAAJcEhZcwAAFiUAABYlAUlSJPAAAAGdaVRYdFhNTDpjb20uYWRvYmUueG1wAAAAAAA8eDp4bXBtZXRhIHhtbG5zOng9ImFkb2JlOm5zOm1ldGEvIiB4OnhtcHRrPSJYTVAgQ29yZSA1LjQuMCI+CiAgIDxyZGY6UkRGIHhtbG5zOnJkZj0iaHR0cDovL3d3dy53My5vcmcvMTk5OS8wMi8yMi1yZGYtc3ludGF4LW5zIyI+CiAgICAgIDxyZGY6RGVzY3JpcHRpb24gcmRmOmFib3V0PSIiCiAgICAgICAgICAgIHhtbG5zOmV4aWY9Imh0dHA6Ly9ucy5hZG9iZS5jb20vZXhpZi8xLjAvIj4KICAgICAgICAgPGV4aWY6UGl4ZWxYRGltZW5zaW9uPjc1NjwvZXhpZjpQaXhlbFhEaW1lbnNpb24+CiAgICAgICAgIDxleGlmOlBpeGVsWURpbWVuc2lvbj40OTY8L2V4aWY6UGl4ZWxZRGltZW5zaW9uPgogICAgICA8L3JkZjpEZXNjcmlwdGlvbj4KICAgPC9yZGY6UkRGPgo8L3g6eG1wbWV0YT4K5cSRZwAAABxpRE9UAAAAAgAAAAAAAAD4AAAAKAAAAPgAAAD4AABqmDeJH1UAAEAASURBVHgB7J1ptBxHef7rape1y1ps2bJlW953vNtgg33A7OBAAJMAMQSTkENITr4l+ZLkJF+TkxP+J4QDAXLsAAmbA+aYLWIxxjbB+yrbkqzF1m7tu+6/fu9Mze07d2Zu90z37Znqp49G011dVV31vE/3feqdt6qHhv3mtAkBISAEhIAQEAJCQAgIASEwkAgMSdAPpN3UaCEgBISAEBACQkAICAEhYAhI0IsIQkAICAEhIASEgBAQAkJggBGQoB9g46npQkAICAEhIASEgBAQAkJAgl4cEAJCQAgIASEgBISAEBACA4yABP0AG09NFwJCQAgIASEgBISAEBACEvTigBAQAkJACAgBISAEhIAQGGAEJOgH2HhquhAQAkJACAgBISAEhIAQkKAXB4SAEBACQkAICAEhIASEwAAjIEE/wMZT04WAEBACQkAICAEhIASEgAS9OCAEhIAQEAJCQAgIASEgBAYYgUyCfv/+/W7btm1u9+7djv1jx465yZMnu7lz57pTTjnFzZkzJxUUBw4ccDt27LB62D969KgbGhpyJ5xwglu0aJHVN23aNKs7VYXKJASEgBAQAkJACAgBISAEKopAJkH/8ssvu/vvv989+eSTbsOGDSbqZ8yY4S666CL3nve8x5133nnjwjg8POw2btzoHnroIffMM89YPXv37nVTpkxxK1ascDfccIPVc+KJJ7qZM2eOW58yCAEhIASEgBAQAkJACAiBKiOQSdC/9NJL7qc//al77LHHTJTjrUeMX3rppe7Tn/60u+qqqzpieeTIEYdH/rnnnnM//vGP3erVqx1peOjx9iPiL7jgAnfhhRfaIGHJkiUd69NJISAEhIAQEAJCQAgIASFQdQQyCfotW7a4p59+2r366qvu8OHDbt26de5Xv/qVO+mkk1IJekJ18Ow/9dRT5ukHfDzyhNkwOMBzz6CB+m677TZ3/vnnV90+6r8QEAJCQAgIASEgBISAEOiIQCZBjzd+8+bNbt++fVYpITPf/OY33axZs1IJesri3X/22WfdmjVr3NKlS9173/tet3z5crd161b3f//3f+7b3/62hdp84hOfcFdccYXF0U+aNKljJ3RSCAgBISAEhIAQEAJCQAhUFYFMgp7QmIMHD1rYDJNiH3nkEfe1r33NBHiakBtE/E9+8hPz0jMB9swzz3TXXnuteeQPHTrkHn74YffFL37REWd/xx13WAgPcfRTp06tqn3UbyEgBISAEBACQkAICAEh0BGBTII+1ISof+2110yA33333Y6JsWkEPZ7573znOxZec+6559rkV8JqCLlhQ9D/67/+qw0abr/9dnfllVe6+fPnW/3h2q2+Cf/Zs2dP48MxG3H5xOgzQGDS7UR6+rkmG6v3aBMCzQiIH82I6DiJgPiRREP7AQHxIiCh71YIiB+tUJnYNGyA9mT1R6JP5s2bN2ENmFBBT+z817/+dbdz507zvrM6zhlnnOEWLFhgHcbj/6UvfclCet7xjne4yy+/3MJyCOnptG3fvt09//zzNtmWb47ZwsDj+PHjFhY0kZ5+3VidLKZz4oc40AkB8aMTOtU9J15U1/Zpei5+pEGp2DyIeSJOcFZ/6EMfsgVeir3iSO0TKuifeOIJh0d/165d7vWvf727+OKL3WmnndYYwRBf/5WvfMU87W9+85tt9Zxly5aNu759O0FPXD5x/gj6lStXuoULF470vMA9QpNYzYeNkCF+HdAmBAIC4kdAQt+tEBA/WqGiNPFCHOiEgPjRCZ2JO0f0ytq1a03Q//mf/7m77rrrJuziUQj6diE3iPlvfetbBiaTb9Osk58H8kwefuWVV6yqk08+2c2ePTuPalVHJAiIH5EYsqBuiB8FATvg1YoXA27AgpsvfhQMcMrqCS2/5557zBGdJhQ9ZbWpsk2ooC8q5KZdT1k159/+7d/s9J133mmr5rTLm2d6GKFRJy/LYh6ANiEQEBA/AhL6boWA+NEKFaWJF+JAJwTEj07oTNy5snQnPZxQQV/UpNh2pioLWN1Y7SyidBAQP8SDTgiIH53Qqe458aK6tk/Tc/EjDUrF5ylLd9KzCRX0aZetJOb94x//eM/LVpYFrG6s4m+aQb6C+DHI1iu+7eJH8RgP4hXEi0G02sS1WfyYOKw7Xaks3UmbJlTQ84bZ8GIpJg20erEUMe9MJP3DP/zDnl8sVRawurE60V3nxA9xoBMC4kcndKp7Tryoru3T9Fz8SINS8XnK0p30LJOg52VSrBzDZ9u2bY5Va374wx+6adOmufe97322zGRYNz4sn8RFOD9nzhxbymfDhg3uySefdPfffz+n3A033GDr0LNSzcaNG92LL75oL5r6nd/5HZslbJm6/K8sYHVjdWmwihQTPypi6C67KX50CVzkxcSLyA3cY/fEjx4BzKl4WbqT5mcS9OvWrXM/+9nPTMgjzNevX+9efvlle2HTWWed5S644ILG2vGEzQRRf+KJJzpeJMUC+wwKnnvuOfejH/3IrV692rHUEh/W7iQfdVx44YW2pOWSJUt6grgsYHVj9WS26AuLH9GbuKcOih89wRdtYfEiWtPm0jHxIxcYe66kLN1Jw7sS9KxWQ/gMBGIBfTbCZE499dSOgp43wiLyGQw8+OCDtkY8XnmWW2KtdlaEwWPP8pKI+xNOOMHq7va/soDVjdWtxapRTvyohp277aX40S1ycZeLiRfoAJx+OPOSzr+4LVhs7/bs2TNquWyiIrTlg8DQ0JA5rtGpkyZNchy328rSnbQnk6APITe8GIq3sB45csQ863Ru8uTJJuo7hdxMnz7dMKCeHTt2uN27d9sLmLipAQkBj+iHiOSlzl62soCN6cHbC/4q2xoB8aM1LkqtISB+iAmtEIiFF0HM8/6Yffv2Ob75hR5hr617BNBj4Mk2a9YsN3Xq1O4rU8kGAmhTtCih4+DKdydRX5bupMGZBH2jhwOyUxawsTx4B8TMA9dM8WPgTDahDRY/JhTugblYLLxAvCPi+XWfN6ojREN47sAYow8byoAILNkQ84hObfkggNMaTIlEwdmMqG/ncC5Ld9JTCfp87D2qllgevKM6pYPcEBA/coMyyorEjyjN2nOnYuEFQp7wEMQnQokwhiCQOoUy9Axg5BWEgRLdDHhG3uXCu8dAM+BKJAnHCPsQRdKqARL0rVDJIa0sYGN58OZgAlXRAgHxowUoSmogIH40oNBOAoFYeIFXfufOnRY/T5jtjBkz7IPHU4I+YfCMuwjPMKcxj5DljJePMnsQ9ISY8yFcnAHoggULzFvfqtNl6U7aIg99K4v0mBbLg7dHGFS8DQLiRxtglGwIiB8iQisEYuEFoohlqgkRQRgh6gkPUYhIK6unT5OgT49VlpzwlA+8ZSAKTzst2iJBnwXdDHnLAjaWB28GqJU1AwLiRwawKphV/Kig0VN0ORZeIIx4lw0bi2Ag6OWZT0GAcbJI0I8DUA+n8dTDW96/xLZ48eK2qzCWpTtplzz0oJDzFsuDN2dYVF0dAfFDVOiEgPjRCZ3qnouFF0lB30kYVdfS3fVcgr473NKWSstbCfq0iGbMVxawsTx4M8Kt7CkRED9SAlXRbOJHRQ0/Trdj4UVaYTQOHDrdhIAEfRMgOR+m5W1ZupPuykOfs9GpLpYHbwHQqErxQxwYBwE9P8YBqKKnY+FFWmFUUTN33W0J+q6hS1UwLW8l6FPBmT1TWcDG8uDNjrhKpEFA/EiDUnXziB/VtX2nnsfCi7TCqBMWg3wurJzC0p2bN292e/fute4w8RJRznnmFPBJrvzDUoknn3yyLZnYas7BeII+nGeVIa7Jai0LFy5su1rLIGNcRNvT8rYs3Umf5aEvwPKxPHgLgEZVegTED9GgEwLiRyd0qnsuFl6kFUaxWpr1zFle8rnnnnP33Xefe/HFF62rrMuP2EZ4I9gR3CzpyTfbOeec4975zne6c88911ZaaRb1QbCTt9WyleDO6kIbNmywazIZ+ZprrnGnnHIKRbSNg0Ba3krQjwNkt6fLAjaWB2+3uKtcZwTEj874VP2s+FF1BrTufyy8SCuMWqMw+KntBD0e+1deecXt27fPPPOzZ892S5cudbNmzbJOB0HPN0snIuiToj5GQc+vFWzJflpC/b/xzifzptnvVF9a3palO+mfPPRprJwxTywP3ozdVvaUCIgfKYGqaDbxo6KGH6fbsfAirTAaB46BPY1oRHw3h9xs2rTJIQYJw+FtpMuWLXOXXHKJiXo6G0JuEPrUEQR9ELvjCfpwflBCbuhjUmCHfgbDj3c+5Ev7PV59aXkrQZ8W8Yz5ygI2lgdvRriVPSUC4kdKoCqaTfyoqOHH6XYsvEgrjMaBI7rTa9eudatWrXLr169306ZNc0uWLLEwG15ihJglxv7w4cPWb87PnDnTIe4R6jt27LC4+OR5BgCs8883AwTK87ZTfgHYtWuXhfLwCwBx+nALu/DrQfOHsnPnzm18COfptFGeQQMDFurlmohlflUgfIg20y5+eaBf5CMMiDIhjTLk57qUpR762eo87aEewpjoF2XZaDcY0f/km13Js27dOrse57gOZcKcAtIoF0KdQl/T8rYs3Uk75aEP1srxO5YHb46QqKoEAuJHAgztjkFA/BgDiRI8ArHwIq0wqprRmwU9QhMRzoboRrASA086Yp/Y9zPPPNME+kMPPeRefvllRxw+G4J/xYoV7vWvf707++yz3bx58+zcq6++6l566SX31FNPmbC+5ZZb7AVJjz76qJVH7DNhFpHNN8eUveCCC+xz/vnn20uV7CJt/qMsvzY8//zzjnrZpx8IbMQy7bnhhhusfaQ9++yz7r//+78t3xlnnGF9pQyi+qKLLjIhj0hG8Lc6DxZs/LLxxBNP2DeDAAYDp556qjvvvPPcFVdcYb94kO/xxx93d911l9u4caPNRwArQp3oJ3MKyJ8MdaIMW1reStDX8Mr9/7KAjeXBm7tBVKEhIH6ICJ0QED86oVPdc7Hwop0wOnjkmNt14Ijbd+ioO3LMr/hyvBY/3W8WnzxpyE2dPMnNmj7FzZs51c2YOjmXJjYLerzGW7ZsMVGNBxohj9cYURwE/emnn27nH374YfPsI+jxZPMhDyE7iPGVK1daea6B6P3Vr37l5s+f7z784Q9bfav8LwNPP/20vQkVDzuecEQx4pxrB1F/6623urPOOsvSmjtNfq6LOEbIr1692vZ3795tdXEeYY/IRtAjnPHUI7D/6Z/+ya1Zs8baizedgQTfCHp+ffjud79rA1r6E87TJgYYTBxmAABWvMkVfoEVgyAGDLT3TW96k/3awUTgBx54wP393/+9AwsGPOBEG2nLtddeayJfgr7Zun1wLEHfB0ZQE8YgEMsf5jEdU0IuCIgfucAYXSWx8KKdoN+8+6B7bP1Ot277Pvfa/iMOgd+PGwJ+/glT3eknznKXLl/gls6dkUsz2wl6xCbeeTzyCFAEKiKWUBO8ywhwwkjwYCPo8azjyeeDwGWpy7e85S2O0B2u0U7QP/bYY+alJx+e++XLl1soCp72H//4xyakP/nJT5q3G8GM0E9utIN2PvPMM+7ee+81UX7VVVeZgEdc0x688UGs422//PLLrU0IesJg8KRfeOGFNgCh3Yj2J5980n3hC1+wwUHyPAIcwc4qQd///vft2jfeeKP9agEueOB/8Ytf2GCCAQSDg9NOO80GG3/7t39r9bFq0Ote9zp30kkn2S8P9J0BE9gq5CZp3T7Yl6DvAyOoCWMQiOUP85iOKSEXBMSPXGCMrpJYeNFO0CPkf/b8FvfMpl1u655Dbv/ho31pwxOmTXGL50x35y+b5246Z4kJ+zwaitjGUx5i6Js99CxX+Z73vMc8yIhpvOGIeAQ8gh6hTBkGAFu3bjVxjoBmcu3v//7vm5jtJOgR+njXEb0f/OAHzfvNAOHXv/61+5d/+RcT8H/6p3/qrr/+ehPSiPTkRlt27txpE3v/67/+y+L93/rWt5pnHHFMm7gG3whxfjVg4ECoDIKecKA3vvGN5iW/7LLLTGRTP9dvdZ6QGgYJ/DrB9RDxd9xxhw0KEOQMRL71rW9Z/VwLbz71gsnf/M3fmMf/ox/9qF2TwQW/WHTa2vG2uUxZupN2KIa+2Ro5HMfy4M0BClXRAgHxowUoSmogIH40oNBOAoFYeNFOGEnQtxb0UICwEEJUrrvuOvOcI+iZAEtIDKEqxNATGw9HEPYIcb4R+nimP/WpT5lnv5Ogx9ONh50wHjz6xOcTJvPggw+aoMcD/4lPfMLizAnJQUAnN66Nlx0BjpBGoFMHITK0l8EGgh/vPt51xPU73vEOE+UIdvryu7/7uybo+TUCTzlbEPTN5xnQ0HcGCeTBm89AhP5yDQZGeOhpE6E+DFRuuukmO0bQg99f/MVfWBoTdZv7k+wb++1425xPgr4ZkZyOywI2lgdvTmZQNU0IiB9NgOhwFALixyg4dFBHIBZetBNGCrlpLegRmghjBH1yGcuwWgse50ceecS864jcEKuOACa2HM/0Zz7zGfPsdxL0TKrF677CT6Z9wxveYAIY6jFY+NznPmdi/yMf+YgjjAbxjBc8ueEtxyvOAIAXZhHuw+AgeL5Du5jsGgYohMIQGoOgZzDx8Y9/3AQ93vdQfxD0zefpHy/nIsSHD+Eyt912m/WXdvFrA7i88MIL9qsAYTXMAeB6f/d3f2dN/+u//mtHmA4DDj6dtna8bS5Tlu6kHfLQN1sjh+NYHrw5QKEqWiAgfrQARUkNBMSPBhTaSSAQCy/aCSNNim0t6BG2rAyDoCe+HDHMhjj/2c9+Zt8cI5wR43ib8T4j9H/wgx+Y0P3sZz9r5SnTLoYejzahMNSB0CaGno2QliDof+/3fq8h6InjT24IegQ2k1wpw0Dk5ptvtpVpQj5EPYMG+oRoR4SHSbG0mRh9JqYmfwEIgr75PKFF3Qh6BjlMimX7q7/6Kxu8jCfmyduOt5xLbhL0STRy3C8L2FgevDmaQlUlEBA/EmBodwwC4scYSJTgEYiFF2mFUdWMjthe1SKGHuHM22ER9KxYs3jxYoMGrzShLQhUPOGI/osvvtgEPXHqiGqWg0Q4/9mf/VkqQY8IR9ATJ58U9P/v//0/C5lhVRw89AwemgU9/CS8BYF+//33W8gMITC0iYECojl46Qnf4Zh0fgHAQ0+Y0J133mmCntVoOMcWBH3zeUKKxgu5+eUvf2kDnmTIDQOXf/iHf7C6//Iv/9IEvR2M819a3palO2m+PPTjGLGb07E8eLvpu8qMj4D4MT5GVc4hflTZ+u37Hgsv0gqj9kjEeSaroGcteSaDMqmUsBomzfJBLOOFR9AjaJkUOxGCPkyK5bpf+9rXLI6dybgMAIiHR6CHlXDgAHHuDDYIi+lG0CPw+VXgN7/5jfvGN77RmBR75ZVX2i8AyUmxrAzEYOjSSy+15TQl6AfwHiprpBTLg3cATT4QTRY/BsJMpTVS/CgN+r6+cCy8kKBvTbOsgp7YcEJq8DgjjPHcM5k0TBbFg89SlHjcJ0LQI9aZ+IqHnoEGfL366qst/p8wIFa6CZ55Qm6IwyeunWUpuxH0oMgggjXvEfSs9kPsP/MNqJ9YeQY0/CrALw5MluVXB9onQd+ag32dKkHf1+apbONi+cNcWQMW3HHxo2CAB7T6WHghQd+agFkFPS9SwkuPQMXLzQuYEM54wxHL8AVBz5KMEyHoEc4MJggBQnsR346oZvIq3ng2Ql94aROTewkhQnyTrxtBTyw+12MyLyE+1MNEXEQ+4TwMIPhVILxYipAkQnkI4ZGgb83Bvk6VoO9r81S2cbH8Ya6sAQvuuPhRMMADWn0svJCgb01AlnnE24xQR4gyCZRlHolrx7PMsovJVWOIISdWHk88nmiELcKZ+HbyIZ5ZipIXNL3//e+38lyD5S0ZCCD+WQcekZu8Ll7z5ORbJtfyplbaQ36EOGVpV6sNTzkrzBDyQjgMop628GGjPbzMifAg+sV5Yv3x3r/rXe+y0Bg87OHFTrzBttN5MCKWnnYSakQIEoMLfrXgrbS0lxdSEXrExgDorrvusn0m+TK4SLOl5W1ZupM+KIY+jSUz5onlwZux28qeEgHxIyVQFc0mflTU8ON0OxZepBVG48AR3WnCVbAxyzPiYUYAEyeOSGepR4Q3q7+EyaIhHh0POJ5phDRpnMdDTx2IfiavImwpzzXC+vQIZrzleLqT1yV/cllK6g+inPz8AkDZ4HVvNgRt4DqUQ2zjMUdg82GjLww6qIc2cX7Dhg12HrGPEKdNtJ+N1Ww6nWegQZ+4Hkt5cm02cOBaXIe18NlnC8t9ss/Ah76m2dLyVoI+DZpd5CkL2FgevF1AriIpEBA/UoBU4SziR4WN36HrsfAirTDqAIVOtUCA8BMGA2x4uBHF2vJDIC1vy9Kd9FQe+vzs3agplgdvo0PayRUB8SNXOKOrTPyIzqS5dCgWXqQVRrmAVqFKJOiLNXZa3krQF2SHsoCN5cFbkFkqX634UXkKdARA/OgIT2VPxsKLtMKosobusuMS9F0Cl7JYWt6WpTvphjz0KY2ZJVssD94sfVbe9AiIH+mxqmJO8aOKVh+/z7HwIq0wGh8R5UgiIEGfRCP//bS8laDPH3ursSxgY3nwFmSWylcrflSeAh0BED86wlPZk7HwIq0wqqyhu+y4BH2XwKUslpa3ZelOuiEPfUpjZskWy4M3S5+VNz0C4kd6rKqYU/yootXH73MsvEgrjMZHRDmSCEjQJ9HIfz8tbyXo88feaiwL2FgevAWZpfLVih+Vp0BHAMSPjvBU9mQsvEgrjCpr6C47LkHfJXApi6XlbVm6k27IQ5/SmFmyxfLgzdJn5U2PgPiRHqsq5hQ/qmj18fscCy/SCqPxEVGOJAIS9Ek08t9Py1sJ+vyxtxrLAjaWB29BZql8teJH5SnQEQDxoyM8lT0ZCy/SCqPKGrrLjkvQdwlcymJpeVuW7qQb8tCnNGaWbLE8eLP0WXnTIyB+pMeqijnFjypaffw+x8KLtMJofESUI4mABH0Sjfz30/JWgj5/7K3GsoCN5cFbkFkqX634UXkKdARA/OgIT2VPxsKLtMKosobusuMS9F0Cl7JYWt6WpTvphjz0KY2ZJVssD94sfVbe9AiIH+mxqmJO8aOKVh+/z7HwIq0wGh8R5UgiIEGfRCP//bS8laDPH3ursSxgY3nwFmSWylcrflSeAh0BED86wlPZk7HwIq0witXQw8PDDvG9Z88et3nzZrd3717r6vHjxy2d80NDQ/aZPHmyfZNhzpw57uSTT7ZvzjdvaQX90aNH3cGDBx3f1DNlyhQ3ffp0+26uU8cjCKTlbVm6k5bKQz9ir9z2Ynnw5gaIKhqFgPgxCg4dNCEgfjQBokNDIBZepBVGsZodIX3o0CH33HPPufvuu8+9+OKL1tUjR464AwcOmKgPQnvGjBkNoX3OOee4d77zne7cc891kyZNagj9gFNaQc8A4tVXX3X79u2zembPnu2WLFniZs2aFarSdwsE0vJWgr4FeHkklQVsLA/ePGygOsYiIH6MxUQpIwiIHyNYaG8EgVh4kVYYjfQ8rr12gh6P/SuvvGJCG888Qnvp0qUNoZ2XoN+2bZt79tln3Y4dO2ywsGjRIrdy5Uq3cOHCCQOaXyHYWv3SQPp458mTZcujvrS8LUt3goc89FlYkTJvLA/elN1VtowIiB8ZAatYdvGjYgZP2d1YeJFWGKWEZeCyIS5bhdxs2rTJIQYJw5k6dapbtmyZu+SSS0zU08m8Qm42bNjgfv3rX9vggeuceuqp7oorrrBwnokAk/4nBXazqB/vfNY25lVfWt5K0Ge1UMr8ZQEby4M3JczKlhEB8SMjYBXLLn5UzOApuxsLL9IKo5SwRJNt7dq1btWqVW79+vVu2rRpbvny5Sa0FyxY4Hbu3OnAjTh7BDAhN3jw8a4TKoNHn7j47du3u927d1tID4MGNs4h3MlHXQj6H/zgB+6ll14aNXBYsWKFO/HEE23g0CqmPghj2oF3n9Cdw4cP2+CE61Bm/vz5Vv6EE04w0U4eQnsoQ17aTz1800cGKfSl1XnqOOmkk+w8vypQF79uBAzoD+0FB+oiZIl7hLrYJy8frhfwSv7iQZuzbNS7detWK7J48WJH+1ptZelO2iIPfSuL9JgWy4O3RxhUvA0C4kcbYJRsCIgfIkIrBGLhRVph1AqDmNOaBT1x7cTLE2//8MMPm9BHqCJOEc9nnnmme/3rX+/OOussN3PmTBPZjz/+uIXTINYZBJCXOHyE9hlnnGEDBMTxXXfd5Z588kkT+yG0h2tdc801ds1WwhchjUB++eWX3YMPPuheeOEFE9DE/XOOMpdddpmVZzDCgII8a9ascevWrbP2UZ508hPic/bZZ1sbWp1ngHHzzTdbWND9999vdRGWBAZM5D399NPd9ddfb3UwUNm1a5d79NFH7Vrk48MgAEGP+OZaN910k6Pebra0vJWg7wbdFGXKAjaWB28KiJWlCwTEjy5Aq1AR8aNCxs7Q1Vh40VYYHTno3IGdzh3e79yxI16I1TzMGSCakKxDQ5O923uqc9O8h3bmAuemzsjlus2CHhE6d+5c87wjeBHoCOEgrPFeEypz3nnnmTd/y5Yt5nknPh5vPcI5CHrqQdBfddVV5sXvRtAHuyHSf/vb37qNGzeO8oQzqEDUh4EBvwo89thjjQ8Cm0EKAwh+ZeCbVXsQ3eRrPk//Lr30UrsGIUJcj18bEOgMDBDx9P2CCy5wF154oXnm+YXjqaeesrAlfhHgGnz4JSAIegYC3Wyh/5SVh74bBHssI0HfI4AqXggCsfxhLgQcVWpeL/64s+FNwrumTQjE8txoK4x2v+KGNz7i3I61XtjvcsMI/D7chhDwM+c5t3CFGzrlcufmnpxLK5OCHjGMKEekI0Yvv/xyd8opp5hnHgGMl5zwGkQr6Xie8bx/4QtfME/1W9/6VsckWgQw4hkRTIgKgpuJt92E3IQYf0J2GFTQLjzx1Es7+FUATzrpH/rQh0y88yvAb37zG/fLX/7SfkV417veZQKcXxjw7LPaztNPP93yPKFDePfD0p7z5s1zF110kXnbKUdoEtdkUPD+97/f0hH0jzzyiJXjF4A3v/nNNsDgegxqOgnx8YzYlrdNBcvSnTRDITdNxsjjMJYHbx5YqI6xCIgfYzFRyggC4scIFtobQSAWXrQVRjvWuOHV/+vcq0+54b0+VhlPfT9u3jM/NHuxcydd6IbOfpMX9mfk0sog6BHrCHoE+hNPPGEe5ltvvdWEKeEzeLIRughrxC6i+n3ve5/Fzv/zP/+zebw/8IEP2CAAcR2WviTOHGFLOYRviNXHaUDoCvV02p5//nn3ve99zwYTiGs86IT7sI+gR5jfc889JvA/+clPWkgMS3MSBvPAAw+YmP74xz9uvxLQDuLROUc4UavzXO/b3/62DUBoG974K6+80oQ5gxLKfetb3zJ8/uiP/sjq//nPf26Y0bfTTjvNffjDH7aJxQxs+LWil60tb5sqlaBvAiSvw7KAjeXBm5cdVM9oBMSP0XjoaDQC4sdoPHRUQyAWXrQVRhL0JrQJr0GAIlqJVQcvhDMTQEknhhwvPSIa7/vFF1/sbr/9dkv/4he/aGKf+HpCbAgvQQyzkg0hKghpxG43gp6wmP/4j/8wwRzi+BkwMFDAY09I0Fr/yyIDhI997GP2TV8I0SEMiF8HGGjgZac8gxEEPV78Vue53pe//GUbqNxyyy0Wn09fCEXi1wvCcD7/+c9bXZ/+9Ketfn4hwGuP95928EsFS3KCE59etra8baq0LN1JM+ShbzJGHoexPHjzwEJ1jEVA/BiLiVJGEBA/RrDQ3ggCsfCirTBSyE1D0CN4CXF56KGHbFIs8d8IejbCZ/gwMRRxS8z6W97yFksjlAYBzcY5VsEhzIQPy2Ai8BHeP/vZzzJ76INQxRPP4IDYdAYIDDLYiNlnAi/XoD2EvIQJsfzqgEf/3e9+t7WX/ITNIOjx4rc6T6gOgh1x/sEPfrCx4g+x+mx49f/xH//R4un/5E/+xOonjVh78EPQ33jjjdYeK9Djf21521RvwInkO++809rdlKWwQwn6AqCN5cFbADSq0iMgfogGnRAQPzqhU91zsfCirTDSpNiGoMebTMgNEzwR8u95z3saQpg7AEGPaEVM4yXH+42gxvuO5xvRzoc4e5aY5IPAve222yyWHUFP6A3eddLThNwgVBHYtOsNb3iDxegTbkNIT2gTnnoGErQHO9N+3oSLyEbQv+Md77By5A+CntCaVue7FfQMhAhZol833HCDhd5YA3v8ry1vm+qVoG8CJK/DsoCN5cGblx1Uz2gExI/ReOhoNALix2g8dFRDIBZepBVGVbM74SqrfGx7CLlBOBOKwqRXQlhY0QaPOJ55BD0CntVe2BCwHLPmO+E4xNkzoRaBj6gmdIfJo4SmIKwJTUHQB092GuEbQm4YKLBcJivQENaDt56N6xMGxMZAIcTIr1692n5t4Lpvf/vbbbUZ8gRB3+483vtuQm4Q9FkGKrQlzZaWt2XpTvogD30aS2bME8uDN2O3lT0lAuJHSqAqmk38qKjhx+l2LLxIK4zGgSO600HQE36CaEeQI6Lx0BN7fvXVV1voDB5wPOHEkbMSDBsrYSHy8cQj8ll5hmPEPZ7ur371qzYYIDSFAQITShH05GXyKKvkjLecY/OkWFbRQdhTnl8UCI3hFwE22hzWhW8n2McT9AxmmBSLQOcaTIplUMNqNZQNk2Lpa3JSbNZfHqzBKf5Ly1sJ+hRgdpOlLGBjefB2g7nKjI+A+DE+RlXOIX5U2frt+x4LL9IKo/ZIxHkmCHq86njcw/KUeJtZZx3BTUw8MeR4wxHsbITcMOmV+HVEMOUIhaEcwh9BTWw9whdPP4KeOHgmjxLqQjrLYuJtR4hTX/glIIk0whpNRX0IavLxIik872xcHxGP4D7//PNtsICXvVtBDw7ExNNO+sSghTXnGdAQVoRwJ5yHXx5Y5Yf0VV2s3pPsY6f9tLwtS3fSdnnoO1mwy3OxPHi77L6KjYOA+DEOQBU/LX5UnABtuh8LL9IKozYwRJucFPSIcYQ7opkwGoQr9g8rtSDUw5tWmRSLgMY7z7KRTDIN+RD9xNlTH/lY9YX4doQ8b5X9yU9+YuKcsBlWg+n0pljsRhgQnnpWmEFw4+GnLWyE7zAQwJP+tre9zdrei6AnbIiVfhikhMmu9IU+cV36z7Xoe/LFUrSL/hJDn2ZuQFpCpeWtBH1aRDPmKwvYWB68GeFW9pQIiB8pgapoNvGjooYfp9ux8CKtMBoHjuhOhxAUQm3w0ONlx/tMWA0x8ITiEKOOmEXU4q3HY41QR4wT7nLvvfeaoA8efPIh1ln2knwscYmnmzoRyqu8R5uBBAMAvPydBD3CnXoRzKy+g7AnTh7vORttZgCCyGaZSa7Dijt40mkbApz6uQ4bA5BO57kWXn9WyiHmn7yIfJbtJCSJXywQ7KwARB9DiE/Aj18OEPq8nTaPLS1vy9Kd9FEe+jws3VRHLA/epm7pMCcExI+cgIy0GvEjUsP22K1YeJFWGPUI18AVJyYeGyNiEdgIZLz0CFjEL7ghqoNHHG844S2IaJaQJIYdsY3oRfAGLz3easJqyBdCcagzTJylXjau1SnkhsEBH65DeyhPWxlgsOGh57pch18BQtgQ+clHO6if67AxOGEw0O4816Kv/ELBLwPkDb8I0Df6RH30nbrpUxI/Vt+hv+CUx5aWtxL0eaDdoo6ygI3lwdsCUiXlgID4kQOIEVchfkRs3B66Fgsv0gqjHqCqZNHg0abziNiwPnwlwSig02l5W5bupMvy0Bdg+FgevAVAoyo9AuKHaNAJAfGjEzrVPRcLL9IKo+paurueS9B3h1vaUml5K0GfFtGM+coCNpYHb0a4lT0lAuJHSqAqmk38qKjhx+l2LLxIK4zGgUOnmxCQoG8CJOfDtLwtS3fSXXnoczY61cXy4C0AGlUpfogD4yCg58c4AFX0dCy8SCuMKmrmrrstQd81dKkKpuWtBH0qOLNnKgvYWB682RFXiTQIiB9pUKpuHvGjurbv1PNYeJFWGHXCQufGIiBBPxaTPFPS8rYs3Ulf5aHP0+L1umJ58BYAjar0CIgfokEnBMSPTuhU91wsvEgKI5Ze5IVAYUWW6lq3955L0PeOYbsaWHEH3rLaDtvixYuNt63yS9C3QiWHtLKAjeXBm4MJVEULBMSPFqAoqYGA+NGAQjsJBGLhBcKIdclZkpD1wxH0LHnIR1v3CEjQd49dp5JhqVB4u3PnTuMpy2XC21ZbWbqTtshD38oiPabF8uDtEQYVb4OA+NEGGCUbAuKHiNAKgVh4wbrjCCPWFEcUsV44H5ZZlKe+leXTpUnQp8MpSy488+DKOwL4IOpZa5+BaFhPv7k+CfpmRHI6LgvYWB68OZlB1TQhIH40AaLDUQiIH6Pg0EEdgVh4wUuGwhs/EfAIJF4MJEHfG9URnrysiS3g2VuNKh0EffINveGNuO1eWFWW7sRa8tAXwNlYHrwFQKMqPQLih2jQCQHxoxM61T0XCy+C8ETY463nDZ8IJ229IUBoCFiyIToVwtQbnsnSDDzDm3sR8p0GTBL0SeRy3C8L2FgevDmaQlUlEBA/EmBodwwC4scYSJTgEYiFF4h3xCdez3379tk3Ip80bd0jgJgHT7ZZs2aZAO2+NpUMCDAw4tcjRDy48k1au/CwsnQn7ZWHPlgtx+9YHrw5QqKqEgiIHwkwtDsGAfFjDCRK8AjExIsg6omjR8jLQ987xQljeuWVV6yik08+2c2ZM6f3SlWDIYB4R8QTHtZJzJNZgr4g0pQFbEwP3oJMU+lqxY9Km3/czosf40JUyQziRSXNnrrT4kdqqArNWJbupFPy0BdgWt1YBYAaUZXiR0TGLKAr4kcBoEZQpXgRgREL7IL4USC4GaoeOEFPrBaTWfiJZ8eOHbbPT2bEFvEzD5958+bZUlStcOAnNn5q27t3ry3UT9xX8mc3lrBiWSDqYWkgJiN0s5UFrG6sbqxVnTLiR3Vs3U1PxY9uUIu/jHgRv4176aH40Qt6+ZUtS3fSg6489Lt373YbN250zz77rHvwwQdtH0G/cOFCd/bZZ7vzzz/fXXzxxW7p0qUtUQqTYV544QX3y1/+0q1Zs8YmxiDyqYf4ryuuuMKde+657tRTT3Vz585tWc94iWUBqxtrPMtU+7z4UW37j9d78WM8hKp5Xryopt3T9lr8SItUsfnK0p30KrOgR3Aj5h966CH31FNPuXXr1jkEPhMF8KzPnj3bhPjNN9/szjrrLPOuM0M4ue3atcvKPf3001bPq6++6lgKiIkHLGXFTGKE/AUXXOCuvfZa20+WT7tfFrC6sdJaqJr5xI9q2j1tr8WPtEhVK594US17Z+2t+JEVsWLyl6U76U0mQY+Y5/P444+7u+++28JlrrzySnf66afbG982bdrkVq1aZeL83e9+t7vkkkvc/Pnzx4TeMAj4xS9+4dauXWuhNnj2zznnHKsDUr700ks2U3jx4sXuIx/5iLv00ku7Qr4sYHVjdWWuyhQSPypj6q46Kn50BVv0hcSL6E3cUwfFj57gy61wWbqTDmQS9ITE8Prbhx9+2H3pS18yMY7gRtTzCmdCcO666y6HB/6mm24yIY7YJ54+uT3//PPuf/7nf8zTv2TJEvPoX3311Sb+N2/ebGE83/jGN8zb/5nPfMZxrputLGB1Y3VjreqUET+qY+tueip+dINa/GXEi/ht3EsPxY9e0MuvbFm6kx5kEvRMXt2yZYt79NFH3fe//33zvCPoL7vsMlufE8/6fffdZ2uh4l1fuXKlxcITE5/cgqBfv369O/HEE807f/3115ugJ5wHQL73ve9Z7Pydd95pdSTLp90vC1jdWGktVM184kc17Z621+JHWqSqlU+8qJa9s/ZW/MiKWDH5y9Kd9CaToA+EefLJJ90DDzxgAvz22293F110kSGDQCedkBpi4YmDf+Mb3+hWrFhh58N/L7/8soXcvPjii/ZmM8JyLrzwQvPy46EndIc8y5Ytc7fddps777zzQtGW30yyZcWd8OGYjV8MvvOd79hKOXfccYe7/PLLW5bPO1EveMgb0bjqEz/ismfevRE/8kY0jvrEizjsWFQvxI+ikM1W72OPPea++tWvmpO7F4d0tqvWcmcS9Nu3b3fPPfece+aZZ2xC7KJFi0xws6oNG28p++1vf+sQ6lu3brXVam699VabHFu7XO1/JtEi/un4//7v/9o+y1OydCW/AuDdv+qqq8zzz2CBsJxOG+3C60/b+OaYjSU1WUmHgUFy4NGprjzOhQEGdbH0Jst5ahMCAQHxIyCh71YIiB+tUFGaeCEOdEJA/OiEzsSdQ4fec889FjLe14Iekc7KNDQYoYzwZvIry0uy4V1HpK9evdri41m28u1vf7stZZmEk/XnQ94f/vCH5tFnhZwg6BkosGwloTxMrG23/GWoU4I+IKHvQUBAD95BsFJ5bRQ/ysO+n68sXvSzdcpvm/hRvg1oQeUEPWKelXLw5LOPd56wGibWcoz3PnjWP/CBD1g4DktattsCkfnJiQ/HbAq5aYeY0stEQD+Nlol+/19b/Oh/G5XRQvGiDNQH55riR3/YqnIhNwj5H/3oRybeCadhvXqWpmQNe34FYI37r3/96yb0//iP/9hWuWEte9a6z7KVNTkhzDWgrcwfYI6ANiEQEBA/AhL6boWA+NEKFaWJF+JAJwTEj07oTNy5snQnPcwUQx8I0+uk2DCCYUT55je/2cQ8K+HgqWcyLW+f/fznP28W+OQnP+muueYaOzdlypRMVikL2IATjZWgz2SySmQWPyph5q47KX50DV3UBcWLqM3bc+fEj54hzKWCsnQnjc8k6JPLVrKsJAK8m2Ur6TCCnVj69773vbaOPXHyxNEfOXLE/frXv3af+9zn7CVWn/rUp+xtsVxLgj4XvqmSkhHQg7dkA/T55cWPPjdQSc0TL0oCfkAuK370h6EGRtDzYqkDBw6MerHURz/60ZYvlrrxxhsbL5ZqDjlhHfuvfOUr9qbZa6+91ia/MrGWkBteSsXSl1/84hdtdZjPfvaz7rrrrnMKuekPsqoVvSOgB2/vGMZcg/gRs3W775t40T12VSgpfvSHlQdG0A8PD5vXnJCZu+++2wQ5y0sSVoIHnZdCrVq1yk2fPn3U6jeIcZZuxAPPxNe1a9e6e++919aaZ1nHk046yZ155pl2DkFPjD1vo2W1m4997GM2MOg0KbadGcsCVjdWO4soHQTED/GgEwLiRyd0qntOvKiu7dP0XPxIg1LxecrSnfQsU8gNBRD1GzZssDh3lrDkJVKsKx9EO152vO233HKLedyJtye0BnGOcF++fLnD08/SPk899ZQtc7lt2zYT+4h2Qm6og5dSsb498fPsd7OVBaxurG6sVZ0y4kd1bN1NT8WPblCLv4x4Eb+Ne+mh+NELevmVLUt30oPMgp5CCHhEPctCsiIN+wj9hQsXupUrV7oLLrjA1o8n7ZFHHrEwmqSgx4MP+Viv/le/+pUNChD5x44dc4h6XgR15ZVX2sCAfbz43WxlAasbqxtrVaeM+FEdW3fTU/GjG9TiLyNexG/jXnoofvSCXn5ly9Kd9KArQY8XnVh6hD1vY2WfjbAavOtz58518+bNszRIRv5kyA3LT5KG5x7v/P79++2lUlbA/0f4zoIFC0zIdzMZNtRTFrC6sYIF9N0KAfGjFSpKCwiIHwEJfScREC+SaGi/GQHxoxmRco7L0p30titBXw5M2a864cAOH3fu2BG3e8dWt37NCx7dSW75Wee5uQsX+X1ejNX+5VjZe6cSg4qAHryDarmJabf4MTE4D9pVxItBs9jEtlf8mFi8211twnVnoiES9Akwet49esi5g7vdvq0vuy0vPuHc5GluyXnXuFlLljs3ya+h7wW+NiGgB6840AkB8aMTOtU9J15U1/Zpei5+pEGp+DwS9AVhPOHAejHvXlvvDr3ynNv14iPWq7lnXOZmLFnh44h8CNKMuT4uabZzU6bXxL157QvqvKrtWwT04O1b0/RFw8SPvjBD3zVCvOg7k/RVg8SP/jDHhOvORLfloU+A0fPunlfd8KbH3PGXH3FH1vzWDe/f5abOW+QmLzzFucVn+c9KN7TobOdmLzbvvZs0uedLqoLBQ0AP3sGz2US2WPyYSLQH51rixeDYqoyWih9loD72mhL0YzHJJWXCgd271Q1vfsodW/+4O/Tib7y3fqObNvmYmzxzthua70X9whVe1J9T258533vtvcd+ul/BZ8oMH5Ljxb1CcnKxe79Xogdvv1uo3PaJH+Xi369XFy/61TL90S7xoz/sMOG6M9FteegTYPS8W4+h3795jdv+vBf0215wC49tczOP+FCcQ34lIAS7D70ZmrvUC/sznFt0lhtacq5zc05ybupM77Wf2nMTVEH/I6AHb//bqMwWih9lot+/1xYv+tc2/dAy8aMfrOCcBH1BdigL2D3bX3Ubn3/MDe982S2bssfNObzNuZ2vOLdvh3OH93nxPtUNzfGifuFpXtif64YW+BdnzTqxFmc/3Xvtp3qPPeJeHvuCmFFutXrwlot/v19d/Oh3C5XTPvGiHNwH5ariR39YqizdSe/loS+AA7t2bncvv7TaDR/e705busDNm3rMv41rixf169zwlud8KM4m53x8vRv2F58xx4v7Jd5b71fCMY/9ec7NW1YPxfGTZ7VFh4AevNGZNNcOiR+5whlNZeJFNKYspCPiRyGwZq5Ugj4zZOkKlAXsmBtrtve4H3jNYuqHtzzrhre+5NyODc7t2eo99nt9/PwkNzR7gXPzvad+sRf0C7y4n7PYDZ3g07zgd1NP0CTadCYfiFxj+DHfz6fQJgTqCIgfokIrBMSLVqgoLSAgfgQkyv0uS3fSa3noC7D9mBtrnhfl/oVT7rCPoz+0x69+s9O5vT4Mxy9x6fDY71zvhjk+6j35LGs524ffLFzmhhaf6WPsvcCf70NzEPfE2WsbeATG8EOCfuBtmmcHxI880YynLvEiHlsW0RPxowhUs9cpQZ8ds1QlygJ23Bvr2GEv7H0s/e5N3lvvBf3WF/0EWh+OQ1jOAT+BdsjH4sycZaE3Nml2wQrn/ETaIeLs8dhP8x57WxnHv6xK28AhMC4/Bq5HanCeCIgfeaIZT13iRTy2LKIn4kcRqGavsyzdSUvloc9ur3FLjHtjDR937vhR544cNI+9O+Dj6f2E2WG/zKXb+rwPx1nrhnf5SbRH/Jtnp3phj3d+/kl+DfsVzrEqzsLTfYiOn1Q7zZ/Ty6nGtUe/ZRiXH/3WYLVnQhEQPyYU7oG5mHgxMKYqpaHiRymwj7moBP0YSPJJKAvYzDdWEPd7N3uP/Wov6l/wn5e8qH/Ve+y92Of8tGk+rn6JD8M5xwt6v+SlX9d+aPai+ttnvbDXspf5kGYCasnMjwloky7RPwiIH/1ji35qiXjRT9bov7aIH/1hk7J0J72Xh74ADmS+sYZ9iM2wj58/isfeT5Il7MZPoh3e5VfDQdzvWOOXwPTx9oTpTPYTbP1a9m6unzTLspdLvcf+xDP82van1sS9PPYFWDTfKjPzI9/Lq7Y+R0D86HMDldQ88aIk4AfksuJHfxhKgr4gO5QFbM831nEfksMk2n3+zbPbfXy9eexf8CE5XuDv86vl8AKryUN+8uxCH4Zztgl6t8CH4bD8JTH20/3E2rAyjgR+Qezqvtqe+dH9pVVyABAQPwbASCU0UbwoAfQBuqT40R/GKkt30nt56AvgQM83lnnsvdf+mBfueOz9yjiE3gzv9iE421+yz/D2NTVP/pB/ARUC3q+MM7TQe+mJsV/kV8fxAt/N9LH3vJxKor4AK3dfZc/86P7SKjkACIgfA2CkEpooXpQA+gBdUvzoD2NJ0Bdkh7KAzf3Gskm0PiTHL3c5vHOtXxHHh+Fs9i+u2unXsre3z+73CB71k2fnu6ETz/Qee/9ZuMKH4ZxUC8OxlXG86J/i4/BN3HvvvrbSEMidH6X1RBcuAgHxowhUB79O8WLwbVhkD8SPItFNX3dZupMWykOf3k6pc+Z/YxFjj8eetex9HL157He74T21t8/itR9G5O/z69sPe7E+xa9XP8uLez9x1i3xITmLV9aEPsteTvJLXeK111YaAvnzo7Su6MIFICB+FABqBFWKFxEYscAuiB8Fgpuhagn6DGBlyVoWsIXfWCEk56APw9nlJ8sShrP5OTe8w+/v3lYT/Mf8BNsZs2uhN3jsF5/lPfbLahNqLc7ex9pPmV4T9wrJyUKrnvMWzo+eW6gKykRA/CgT/f69tnjRv7bph5aJH/1gBefK0p30Xh76AjgwITcWov6499gf4e2zPs7+oH8D7d6t/q2zPgyHVXFYz36PPz7qQ3Em+1AbvzLO0PyTTdibx57JtLMX10T9pMkFoKAq2yEwIfxod3Gl9z0C4kffm6iUBooXpcA+MBcVP/rDVBL0BdmhLGBLubEQ+F7YD+/xE2f9i6nc5me9x36dc69ttiUw3VEfZ+/Xqh+a7730Pr7e+fXsLSSHl1bNnOsn1uKx90tiIu4VklMQI2vVlsKPQnukyvNEQPzIE8146hIv4rFlET0RP4pANXudZelOWioPfXZ7jVuitBvrmPfGs5Y9cfZ47Pdt9yE4r9TePLvlOb/vxf5BJtD6GHo89nP922YXr/AfH2PPC6uYRGvLXfqVc7QVhkBp/CisR6o4TwTEjzzRjKcu8SIeWxbRE/GjCFSz1ylBnx2zVCXKArZvbqwjXrwj6ne+7Ibx2LPU5Q7WsvdpiH6/6s2Qf0GVW+BfULX4XB9vv9xPpl1oq+WYxz68fVYe+1R8S5upb/iRtsHKN6EIiB8TCvfAXEy8GBhTldJQ8aMU2MdctCzdSUPkoR9jjt4T+ubGOu6XumQt+8Ne2OOx37/Dx9WzMo4X+HjsX9voxf0uH4vvw3X8RNmhOV7cn+hFPRNoWc9+nl8lZ4YPx2HyrLbcEOgbfuTWI1WUJwLiR55oxlOXeBGPLYvoifhRBKrZ65Sgz45ZqhJlAdu3NxbhOH5lHIT88Bbvsd/mV8fZ5lfG2VNfGWfSJDfkl7t0C041j71b6D33XuQPEWc/3Qv7aSfUJthqEm0q/rXL1Lf8aNdgpU8oAuLHhMI9MBcTLwbGVKU0VPwoBfYxFy1Ld9IQeejHmKP3hL69sYbx2NdXxsFjf+A15/YSkuNF/Vbvsd/hPfeIe2Lxp82yt8+6hcvc0KIzvMf+fC/0vff+BL+WPaE42rpGoG/50XWPVDBPBMSPPNGMpy7xIh5bFtET8aMIVLPXKUGfHbNUJcoCdmBurPCiKj9x1kJwtr7oPfZr3fBuH5ZzcLfH+LgPufFe+Xkne0F/nl8d53SbODvEC6qCx34qK+P4l1VpS43AwPAjdY+UMU8ExI880YynLvEiHlsW0RPxowhUs9dZlu6kpfLQZ7fXuCUG5sYa9oKdOHtby36PX97Sh+Psf80Nv+bXsmcde7/85fAuP4n2sI/DZ/UbQm/mL/VvnV3h30BbE/hDc/zKOHjz9XKqcXkRMgwMP0KD9T2hCIgfEwr3wFxMvBgYU5XSUPGjFNjHXFSCfgwk+SSUBezA3ljHWfbSi3c/cXZ4mxf0W1/wn5e8qPdLX+73HnteZDXVL2k5Z0ltmcsTz/AC/xQfd7+oNnl2uhf2tuwlHvuhfIwYYS0Dy48IbdGPXRI/+tEq5bdJvCjfBv3cAvGjP6xTlu6k9/LQF8CBgb2xeDkVcfaI+kPeY0/Yzf63edo8AAAqWElEQVRdPgTHe+m3eXHvl70c9ivkuIN+ycvJPtSGFXDmLnJDTJ5lVZwTz/Qvqzq1lm4ee4n6VvQaWH606ozSckdA/Mgd0igqFC+iMGNhnRA/CoM2U8US9JngSp+5LGCjubEIySHO3q9bP7yd+Hov6res9qLeC3wfmuOO+FVzJvlBgI+pH/Ivp0LQs6b90Bz/wiq/DKabPrsWjjN5mkJyErSNhh+JPmk3PwTEj/ywjKkm8SIma+bfF/Ejf0y7qbEs3Ulb5aHvxmLjlInnxsJj7z947O3ts95j7732w7xxliUvt/twHF5WRez9kA/FIZZ+zkL/girvpcdjv8h77BesqMXeD02WqK/zJh5+jHMj6HRXCIgfXcEWfSHxInoT99RB8aMn+HIrLEGfG5SjKyoL2GhvrBCSs3+n99Kv9aLee+03P+/3/STavf6lVYh+5z36M+f5ibPeW28fv+QlHvvp3mM/zYfpTPLCf7L/sDJO+GZd+wqF6ETLj9G3n466RED86BK4yIuJF5EbuMfuiR89AphT8bJ0J82Xhz4nIyarifrGQtQfO1wT74f21jz29vbZdTWPPWE5iPvjPn6eJS39yjhD87ygtyUvl/hQnHkWYz+EwA8f1rWf7AX+0KQkjNHuR82PaK02cR0TPyYO60G6kngxSNaa+LaKHxOPeasrStC3QiWHtLKArc6NVQ/JIQyHpS59CI7jDbQ7/IuqdvsXVDGp9pgP1/Ge+aG5fnnLsBoOk2mDmDfPvV8Sc4qPs8dj74X9kHnvvcBPevER/Hj3G+fw6jMAGLyJt9XhRw43cQWrED8qaPQUXRYvUoBU4SziR38YvyzdSe/loS+AA9W6sfDYH/WRNvv9yjg+5AZxv8+LeRP4flWcrav9Mpib/Tnv1ce730qkI+anTfcf76mfMcsNMZkWoW8TaxPfPq3m2WeyrR8ENCbbDpaorxY/CrjBIq9S/IjcwF12T7zoEriKFBM/+sPQEvQF2aEsYCt9YyHaD+91w4j4HWvrHnvvvd/jw3AQ/Ih/1rNnzXtW0OHbIfS9KJ/iPfBTvbj3oTpDrGfPJ4j7pEc/rJ5DSA+ee/PeB89+0otf8/jX4vZ9PpuY6736Jb8Eq9L8KOhej6la8SMma+bXF/EiPyxjrEn86A+rlqU76b089AVwoPI3FiKdJS2ZJOvXsx9GyB8Oxz7unjXu7cOqOX6fAQB58fJTzj7eo89bbIcR4D68pi7aG+Kc8BwE/Qzv1eeFVv5j3vvg1a97+Iem+/CekGYvvULw+/pK3CrPjxKxH4RLix+DYKWJb6N4MfGYD9IVxY/+sJYEfUF2KAtY3VhNBmU9e8R5eGGVn0w7nBT0dYE/jLhnoq1Ntg3i3gt7PPnBs8/3sP9QH1593lw7xYfrTOUz0w2xdCafhkc/IehJJy+/BPjQn6EwSAjftgIPsfp4/Wt5bJ9Y/Ry9+uJHEz90OAoB8WMUHDqoIyBeiAqdEBA/OqEzcefK0p30UB76AuysG6sZVB9SY0te8qIqxDifJpHu04ZDCE7Ic9SLebz1ePibBwCH8ezvc8NHDvg8fHw+8h/Fqw+zvRc+Kcxtwq0X6Rar7z37PmxnCM/+jHq8fhgA1L355tm3cB9/3mL18xP14kczP3ScRED8SKKh/YCAeBGQ0HcrBMSPVqhMfJoEfUGYlwWsbqwcDMoAIHj1Ee6jBL0P1bFjls0kpKfu1T/ExFzEfd2r3xg0+AEEgwXnBxRel1v4Dh79KcTqe3HPBNtpTLT1HxP0yVV4vOi3WH0/GAix+sGjH7z4dlz36FsaK/DwaT1ZV/zIgR+DVgV8tq0+uB21TxoJ/Dfs4Me6dS9bjtNPP93Nn++Xem25mlOdX2NoNiZhdPkxp8ck2LXb8XdMW6x4mzpqNRXwfxIzX73hm0zLuA/0dfxrddWPR9ktmSd53grX25BM9/uhXSRTf7jOqHrr5e38SF21Pf9/Pe+e3bvdpk2brKZlpyxzc+b45xRb4znjbWD/ErZInmvO23xsxUJZq4jKyeW35mOS2p1rzjvOcbIeu1Si3uZjO5U4T1krz3dwuoQ0Cldn09+V/rB1WbqT3stDXwAHdGPlBCp/yIa9xx1h3/De1yfSJsT6cPDo800+8+onYvUtlAePfs2r7w7vr3v2/ZKa5D1W9+qj9hsiPSHQmag7PcTqe8++efXrnv0Qn0+svvfyD7Ekp63A4wcMjRdmjcZD/BiNR9RHQbgZl/2AkvCzUR/4nUw75nbt2uXWb9hgsCxfvtzNm+sFfUvRUxc2zedMfLU756tN5rdsSQFUL8fVW+WzVjXlD3WMKmMZC/qvLnKbMR2FYxLTcfaPD3vNHPLwLAj7yW+umTz2+3a9ZP6mPMn24EwI7U2mN9fJsW8P1xppU+26hw4cdK/tes0wnT9/vps+wzsjgohNfA+Z3eo2Cuk820hvHCf2LS2cx5iJfc41juvpgV+N+kJ+8jbVO+o4WXeiTKinkXeSb2oyL3WGekMb+PafSXzqYZL2i6zf75PFD8xQE/if/q5MINgdLiVB3wGcXk6VBaxurF6s1kPZ8AeTte/rYTrm2Wc9/Hqcvk3CrXv3bbLuQSbs1r36Rxks1AcMYQDBYIK/LVP8H4r6CjyNVXhGxerzoiwv5hH4pOPVt7X1639svBff1tf3f3R27d3nBdtG+4O0fPmpNcGWptv2Ry5NxpCHhmfYMtffXPc41+t02msYr2JqFWJH20fY1NMtjeQW58yz2ZTP0qxwo4yXbWPrS6Yl98dcL1y76TohX7KsZUlcmzz2qQmzscIwKQqPu/379rqt27ZRi1u8eLE74QTPJ7NNANB/2279uPkcBYMtw3etAGdG1xXOh+9GvnANKzBSXzifzN9oS7KMXan+X72dIanpMCTXOzVyOGov4EliGzzrQriGbxJT8gfsW6R3FNghf7KOel1ty5HXl2uc98cm6EMbwnGyTtI4rn1MzNsxZWppR/zz6cAB/6zy6TNnzvTTh7yjAXuYLerf9f1Ror45z5jjukgeJfZDff7cGEFPfi7Nd3PZdsehnU3nk+XtOonzoZ30yT6cq58PeXGa2GfkOeuG2A/1hOuGOsJx8/mR47GDCX+u0ZZ6vjHHI+WtjXY+kdbAkOsn6gv1+Cv0ukl39IpgPuXL0p20Xh76fGw4qhbdWKPgmNiDIJwsTr/usWc/CHTz5tdE+zCeec5Z7D2DAEJ2mJhbHwA0PPt+Eq+twFOP1Sekx8S//0Pb+GOS8Ojj5WeyLuvqT/fhPHWPflhDf9+RYbd5u/e0eXG/dMkSN2u2F2w82EdtzcdkSaYl95vPhYp8nka2xk79ZPNxuzpC9pA/fIf0+rd9Jc8l9znpj5uTkkWD3VoJr4Yw8uLG9oPICgKp/p3M16hnpEzD4zkqH2KpQz2d8tq5UD75Xd83gcl+/YNAY+O4ed/S7KSfZnLUHTrk+ei36dOn+0gvL1BsawPgKF7Us3YCO23+xuUaO6Fy/51Ia+w2dkbyWVIy3e8n08KpZJqVDic4SGCYxNLgrGMZ9sN3KGN1+cTx0hP41+yTuO4oWyXTaRoVW+Wt9xvXrZczYcq+71/oM99mE9ISH8szcnz02PERXkyb5qZM9mK20U9/odCH0KZ6syy9VRrNaJThoGlr8IQG+q3TsWWp50v2rVaw3lerxFJG1dUo2+46bcol8WnsBxHtvxH1YNQQ/X6/cYzo57g+EAhefn8+OF5qc7Caz4dj6vX74RfdRvna+aFRL0EMZcjPPn8r6uVDaGYD2xo83fwv3dENavmXkaDPH1OrsSxgdWMVZNCiqrWQHi/SfShO8OQPI+qDoK9/17z9TNDlg7j3oouBQhgkhG+8c/yh5Y+Hrb5TW4EnrMJz8Pgkt3ufL+sf6nPnznUz+Ol8zJb44xjOhST+eDVvjT8ITefssCnNyoa08O0TE7ujq/cnGucaO7UsjesmSzTlsVPJOprz1sVIs7AGR9KSwhlbWb7wjRinfEKUm8ipp9dDHRpivpEXtRPK1q+fPE7WYXWHNlIusd8QSqTRr/q3XSekkc4WMOA7YBT2R84d98LtyBHPK1/XVD8wnASPbLML1K9TT6pdNBzUv1vlS2apnw9JjcPGTjjjv1ukWZ8TWUbthvyhf/WTTYcjhPL57VxzhuRxvc5w3XAJqjYc63nH7CfP+zyWrV3epvRR9rELUdlIHcnz7dKTecK1WZkreJk53/gkhKilJY7r3ubDh4+4Pf7XPWwyZ/ZsNw2ngWHSgcdgleQv9jRukm4n68f1dJ9cS7cd/uvtmEs0OMQ1OGar74Q2hLSW5+v57VzI4L9DWesP6aR5LELdAdvgrbfvutDHBohq+wZrBDbHfBPykzwO6UGQNwv0VseI9lb56+k2AAjX4Pp8Ah/obxNP7DiR5o/tl4RQzh/v3rPXrd/0ivVh+Wkr3Nz5C2ptCIMH+6Yv/lraCkOgLN1Jh+ShL8CsEvQFgFpklfYHwf8hQCw2h9wEke6/h83T7z364Zv4e1trvx6vnwztYaKu9+rXVuHx+YL4917b48eG3RFW4/EPcBNsPGjTbP55XtsaOyFhnO+U+dtma3uizXXb5G+TbJXw99j+EPNHOblvBz4t+c2+/4Q0srNRf/KPIvuNP4T1izfOJ88l/5jW961cct/nb/zxHMk/ZH8cwznSw7lQNqQlvk1Y8Ic1Uc7ERC3PwYOHLI6ePs6bN8/N8F762hb6zVESj+bjcC6Rzi6bYQZ2dmBJIziSGMo2fYd0vpO4N/Zb5K8nNeq0q1E+ce1kvclku44VMBM2cA2hFknsDPMEvsEGQcCZFzR5PoF7q7IJW4yyUcjbqNfX2WiP30+mh7yhLeHbeEW/aEO9f439eoLxNpmnlnevF2ybXvGCzW/LTj7ZzfaivrYF7DkKoAec62khOZxveUyZ+sfwZ5/BQn3AYGn1fbN74lwQ0iGv1ZM4nxwsW9lk3T7fmLqT5+ttCnU36uJ5HT715zLP5sanfi7Mw/Lfw+YQIJ22hW+/HxwF4Re54ERofPs2sAXemc2wC7zCbol9O66ntzwPb8hfLwNv7OOfCfYLAsd+3wYE9e/GcRg81H9JSPzCsP/QUbf1Nf8Ls1++efGyFe6E+Ytr87l8CGhtOWf/a7FfCMJ+VbA20iFteSMgQZ83ovX6ygJWgr4gg/ZNtfU/MITqIOh5MRahOubJT3j2Q6z+QQT/iFf/2KGD7tBBL/L9HzELqWh4YMfrYP2PSrtsY06PSWhXsim9Tbk2ySOFx80wktX2Qn7+ILLV/8jZLmmJ45b7nE+UC388+WOV9ISa0CJv8o8s+/XjZiHWfGz5+CMbytS+TcyHc3yH8+HbziHcR5dr5EumW5la3n3eC/vq5lfpmDtp6VI3axYhWQEr/2279eMgjix3q3N2ov5f4nyjjkRaqINvqzd8W2YOODNybtR+8lzYtwz857eQ1vRNerhWq3ykYeMGVmAUbNmEayNP/XxbO4xT3pczD2276yTr7Sjok9fx+6M4TMeybRPydwVbBE6ZgEb4hrTEvuXhOHywa9P5xjmfHuxsdY0cN345s/Oh/Mj5UfWPKkte/xkj6MMvpoj1hPMl7PvvxiIKVtbnCaGXlseXs2PK1z+NY/pYx4Jrd2xzyEs762VG4RPK+3NGDZ4f8MV/jF/hm/T6M6TFd/KXhENHj7u9B/zfJC/oZy88ya/M7D30toKbf34wr4t9f86WYbaBg6/X1zkUBgtjvhk8kKfpmzbWHrz+W1szAmXpTtohD32zNXI4npAHbw7tVBW9IOAfxHhvwh+Fxqo74Q8Kf0xq+zXPPn8o/LF/udb+3a+5La/65ed82SVMejTBFtrCHwK/2R/M2u7I//xhGDmq7YWETueay/jjMfXX67GvUGeyXHP9bfIki7DfuE5Tfjusp9kfiIQ4C4KJPyYNkZY4b2n8oQlp9T8wfIU/NGG/+duy1PM39inWnOaPQ1l2wr7ls4K+iCVSuF4+UU/InzyX3G95vVp9u3btduvXr+cizla5mVdfntBSPGZNULZIsJwj2NcOx/5fr2hUfaMO6kWa0kYdjjoYnb/VqbGNT3BkbAsbKaPwJJUE/2mZzqlW5y1zh3KJ+lrZtp392qWPqsNfttZYdrraJuzvSvM9O+aY5gfj+u9O5+1cyEuxsF//znJsRRLlwzF1jBHYnKyn23mOa+J6eFR+8tQ/owQ3+RPnGp77IPTrz3cGAWF+VmNA4J/ztk8ezte/Q1rzcfgbMu4vCVybPoRv/v5wzLf/5dfPvTl6xF/L82zKtBleh/tJ0w1BTvhPXZyTHt7H4kX+EHO9GsKfJZzDACB8+zxTkwMCHzYU7i9/NW2jEZCgH41HbkdlATthD97ckFJFE4IAD17/8N+1c7t7ee1L/iF8zJ3GsoSjBFu9JfyRGbXVj+2r+RwZfdqo5ORBcr9e6ZikesKY69brTnzVamiuIHmc2G/sNnbqxRPH4Y9Ds1A3wd5B1AdBnxRUtdoH+n89PwbafIU1XrwoDNrxKw6DgCC+gzhvOHJqon1UWGbI0yzgxwwAguCvDwQsP+FB9fT6cWOQ0PhFAWHv89R/QTjmJ9If9CtkMYCYMW2Km+z9HSMOJ+ry+fkbxC8BiHvemI64958hQnHCpyHuRwS9awh6wnZ8mTA48AOGmoe/PlhoDCDaHDfC38LgenzoBy1HWboTnOShL4AtevAWAGoUVXoR6/8wvLZzp1u3do3v0bCzFwf5OOlsW0IMJwu2SW5S+skSKffrFbetv7ma1BmbCuIh5UHPN6cSx3ZYP5fcD/lIi2TT8yMSQ+bcDfEiZ0CzVmfODv9sC+LenCheINsxz7zEfuMXA/LX00fl92l23L6+2jK7iTpHled6oWzte9+eXW7zpo32bpWlC+e4WV6v10JCCQvl4xd9qK/WNnzUh3zahxXb6h8GBn5Cvj13m8Ns7Bgvv/8wEGCxB/8rACu5DdkAAM8+IT1JD//Ifi2PHyCEkB9z3tjD218vrk2CviB7lgWsHrwFGTSSasWPSAxZUDfEj4KAHfBqxYsBN2DBzTdH0ZoXLazz9GWL3PyZU92wCfkg6OuiHmHv04eDwOc9LIdZ4IHFG7y4t18Q6t5/+5Ug7Ptvwn3Q4VO8B54lO83DP917+L3At48P30G0jwrbCcK+LvjJZ5N58eKHD+9pGdkfFSrU7PXv88FAWboTeslDX8BNpgdvAaBGVKX4EZExC+iK+FEAqBFUKV5EYMQCu2D8WLPGRPeK00518+f6lxyGsJ1GqNCIOK+F9HBc/xDaw4fV2/DktxoMNDz8fhDg54PVPnj4mR9WD/9B8TeL8OQxg4Dwkkbz7tdi+Ec8/fV4/cSgYMTD7wcFlLfQnf708EvQF0TysoDVg7cgg0ZSrfgRiSEL6ob4URCwA16teDHgBiy4+T3zg9AgxD0hOHVBP8bDb+kJD7959znGy+8FPssz20sX6zH7yQGFTeb16ehwAvwbHn7i+PHwz/CTb30YT/DwtwrfIY1wH3uh12iP/pjVeqx+Xx/ffPDsT8BWlu6ka/LQF2Dgnm+sAtqkKvsHAfGjf2zRjy0RP/rRKuW3Sbwo3wb93ILe+RFi8uvCflS4TVKg17z8tqZ/8O6HXwDMw4+wb/bw++MjI3H89n4WPPzHGADUY/iDh983wzz8Q03LZYY4fovh94MAW6knrNDDaj31kJ6wROfMBW5o9hLnTvDLd073v1YwaJiATYK+IJDLArb3G6sgQFRtXyAgfvSFGfq2EeJH35qm1IaJF6XC3/cXL50fYbIwQr3uyR/x8I8V+MMNbz/e/Xocv3n4vcAPA4RW30wGxsM/pT5B17z7ePiJ5We1nnoM/9ylzi0+xw0tPN25uSd7UR9exFasKcvSnfRKHvoCbFv6jVVAn1RlfgiIH/lhGWNN4keMVu29T+JF7xjGXENf8COI+lHe/ZpHf0Sk17z9wyEEJ3j5bZUdfy4xIBhZnSdM6PXfDASO+AGAX6Vn2OL46x5+JvPyBnY8/MTYLzjVDZ1xlXOnXuKGFp/r3KxFE2J+CfqCYC4L2L64sQrCVNX2joD40TuGMdcgfsRs3e77Jl50j10VSg48P8JgAGHe7OG3Y0R9Qtjbaj37a6v1jPLw+/I+9Gdorg+3Oe1S506+wA0tOtuH3iycEBqUpTvpnDz0BZh44G+sAjBRlSMIiB8jWGhvLALix1hMlOKceCEWdEIgCn4EUW/e++DZHxu/P+Lt5wVc5Kvnxctvk3oP+PAbPxF29oleyPPxcfRMtp2ATYK+IJDLAjaKG6sgm6ha/WEWBzojoOdHZ3yqela8qKrl0/Vb/PCxNgwIzMPvQ3Lsrbi8DItVbvwkWpbOnICtLN1J1+ShL8DAurEKADWiKsWPiIxZQFfEjwJAjaBK8SICIxbYBfEDcOuiHo99LZjeq1w/gXYCX0YlQV8QycsCVjdWQQaNpFrxIxJDFtQN8aMgYAe8WvFiwA1YcPPFj4IBTll9WbqT5slDn9JIWbLpxsqCVvXyih/Vs3mWHosfWdCqTl7xojq27qan4kc3qOVfRoI+f0ytxrKA1Y1VkEEjqVb8iMSQBXVD/CgI2AGvVrwYcAMW3Hzxo2CAU1Zflu6kefLQpzRSlmy6sbKgVb284kf1bJ6lx+JHFrSqk1e8qI6tu+mp+NENavmXkaDPH1OrsSxgdWMVZNBIqhU/IjFkQd0QPwoCdsCrFS8G3IAFN1/8KBjglNWXpTtpnjz0KY2UJZturCxoVS+v+FE9m2fpsfiRBa3q5BUvqmPrbnoqfnSDWv5lJOjzx9RqLAtY3VgFGTSSasWPSAxZUDfEj4KAHfBqxYsBN2DBzRc/CgY4ZfVl6U6aJw99SiNlyaYbKwta1csrflTP5ll6LH5kQas6ecWL6ti6m56KH92gln+ZgRP0R44ccQcOHHB79uxxO3bssP1h/4auadOmuTlz5thn3rx5bsaMGR3Rop59+/a53bt322utDx06ZPknT57cqGvx4sXuhBNO6FhPu5NlAasbq51FlA4C4od40AkB8aMTOtU9J15U1/Zpei5+pEGp+Dxl6U561pWHHgG+ceNG9+yzz7oHH3zQ9hH0CxcudGeffbY7//zz3cUXX+yWLl3aEb1AQOp59NFH3auvvmr5Z86caXWdd9557sYbb3Snn356x3ranSwL2NAv2rVixQo3f/78dk1UegURED8qaPQMXRY/MoBVoaziRYWM3UVXxY8uQCugSFm6k65kFvQId8T8Qw895J566im3bt0687BPmjTJPPKzZ8925557rrv55pvdWWed5aZOnerwuCe348ePO7zz69evt3qef/5598orr7j9+/c76kHQ4+Gnnje96U3ujDPOSBZPvV8WsLqxUpuokhnFj0qaPXWnxY/UUFUqo3hRKXNn7qz4kRmyQgqUpTvpTCZBj5jn8/jjj7u7777bbdu2zV155ZXmQScsZtOmTW7VqlVu+vTp7t3vfre75JJLzDvdHHpDaA1e/ieffNLde++9JuSvueYaq4ewHQYAx44ds9Cd5cuXm7jvBvmygNWN1Y21qlNG/KiOrbvpqfjRDWrxlxEv4rdxLz0UP3pBL7+yZelOepBJ0B89etQdPHjQPfzww+5LX/qSw9P+kY98xEQ9gp7Qmbvuusvt2rXL3XTTTe7SSy81kY63PblBPDz7TzzxhLv//vtNuL/vfe+zMB0GAwwauA4bg4EpU6Yki6feLwtY3VipTVTJjOJHJc2eutPiR2qoKpVRvKiUuTN3VvzIDFkhBcrSnXQmk6BnAuuWLVss3v373/++iW0E/WWXXWai+6WXXnL33Xefhc8wmXXlypXuiiuucCeffPIo4DZs2OAeeOABE/V460855RT3hje8weLNCblhw0PPhrd+aGjI9rP+VxawurGyWqpa+cWPatk7a2/Fj6yIVSO/eFENO3fbS/GjW+TyLVeW7qQXmQR9IAyhMghyJnvefvvt7qKLLjJEiIlPCvVTTz3VvfGNbzShnoRs9erVFmpDLP6JJ55ogv+0006z0Bq883jlqZt4fOLpicPvtB0+fNhW3GHVHT4cs/GLwXe+8x2r44477nCXX355p2pyO0cbmBPAxmCGlX+0CYGAgPgRkNB3KwTEj1aoKE28EAc6ISB+dEJn4s499thj7qtf/ao5ue+8805zak/U1TMJ+u3bt7vnnnvOPfPMMzYhdtGiRe62226zVW1oMCL2t7/9rXvxxRfd1q1bTczeeuutNjk22aGnn37affOb33Rr1641QY9gZ0IsE2UR9KyOg9efFXPw3s+dOzdZfMw+7WJiLW3jm2M2ltR84YUX3LJly0YNPMZUkHNCGGBQLWKeeQHahEBAQPwISOi7FQLiRytUlCZeiAOdEBA/OqEzcefQoffcc485pPta0CPSEeM0GKFMWA2TX1mNhm3z5s2O0QkeeLzvCPO3v/3tJsyTcOLh/8///E/LR3x9iJsPq98Qj09Z6r3qqqscnn5CcdqF3kjQJ9HVfr8joAdvv1uo3PaJH+Xi369XFy/61TL90S7xoz/sUDlBz2RYBD2DA8Q868xfd911JuKJ0ycWP4T0fOhDH7LJtWH1m1YmC0TmJyc+HLMp5KYVWkorGwH9NFq2Bfr7+uJHf9unrNaJF2UhPxjXFT/6w06VC7lh/fqvf/3r5uknRv6CCy5w73znO229eQQ9q+h8+ctfNuv8wR/8gbv66qu7Cl0pa3JCmGtAB1boxVJmR/03goD4MYKF9sYiIH6MxUQpesO0ONAZAT03OuMzUWfL0p30L1MMfSBMr5Ni8Zx/97vftRdLEbZDaM31119v8fIsjfnII4+4r3zlK+7AgQMW0sNk1iVLlrhZs2ZlsklZwAacaKwEfSaTVSKz+FEJM3fdSfGja+iiLiheRG3enjsnfvQMYS4VlKU7aXwmQZ9ctvJ73/uerR7TzbKVa9ascT/96U8dy1fioT/DvwmWkBsmwLJcJYL+3//9322i7Lve9S73ute9ToI+F6qpkn5AQA/efrBC/7ZB/Ohf25TZMvGiTPT7/9riR3/YaGAEPd5zvObJF0t99KMfbfliqRtvvLHxYimWoExuTJ7lbbNMrA2TZ9/2treZN5t16R988EH3hS98wcT9xz72MQu5YaUb4u2zbGUBqxsri5Wql1f8qJ7Ns/RY/MiCVnXyihfVsXU3PRU/ukEt/zJl6U56kslDz5KSfAj6v/vuu922bdtsFRrCSvC0I85XrVplwju5+g0vh2JSK+vLs4INgwLyMhuYzrNdeeWV5oVH0LPs5c9//nOLm2ede5awRMxnfWNsWcDqxjKT6r82CIgfbYBRsiEgfogIrRAQL1qhorSAgPgRkCj3uyzdSa8zCXoKIOgJlcGLzio169atc7t377Y3uiLaeRkUMfG33HKL7RNvv3fvXsea9SeddJJbvnx5Q9SzvCUDAAQ8Qp5fAFi6EtFP/vPOO8/dcMMNjpdOdfPG2LKA1Y0FU7S1Q0D8aIeM0kFA/BAPWiEgXrRCRWkBAfEjIFHud1m6k15nFvQUQsAj6pnc+tBDD9k+Qn/hwoVu5cqVtmrNJZdcYuKfePhdu3aNEvSsPU/+TZs2WfgO9eCxZ9kl1ppH+FOegQHx9QsWLOCymbeygNWNldlUlSogflTK3Jk7K35khqwSBcSLSpi5606KH11Dl2vBsnQnnehK0PNGV8JmEPa8jZV9tuChJ94d0c4GycifDLnhzbBslKM8Qp59PPRshOZQnressrINZbvZygJWN1Y31qpOGfGjOrbupqfiRzeoxV9GvIjfxr30UPzoBb38ypalO+lBV4I+v64XW1NZwOrGKtaug167+DHoFiy2/eJHsfgOau3ixaBabmLaLX5MDM7jXaUs3Um7JOjHs04X53VjdQFahYqIHxUydhddFT+6AK0CRcSLChi5hy6KHz2Al2NRCfocwUxWVRawurGSVtB+MwLiRzMiOk4iIH4k0dB+QEC8CEjouxUC4kcrVCY+rSzdSU/loS/A3rqxCgA1oirFj4iMWUBXxI8CQI2gSvEiAiMW2AXxo0BwM1QtQZ8BrCxZywJWN1YWK1Uvr/hRPZtn6bH4kQWt6uQVL6pj6256Kn50g1r+ZcrSnfREHvr87al1pAvANKYq9eCNyZr590X8yB/TGGoUL2KwYnF9ED+KwzZLzRL0WdDKkLcsYHVjZTBSBbOKHxU0eoYuix8ZwKpQVvGiQsbuoqviRxegFVCkLN1JV+ShL8CgurEKADWiKsWPiIxZQFfEjwJAjaBK8SICIxbYBfGjQHAzVC1BnwGsLFnLAlY3VhYrVS+v+FE9m2fpsfiRBa3q5BUvqmPrbnoqfnSDWv5lytKd9EQe+vztqRj6AjCNqUo9eGOyZv59ET/yxzSGGsWLGKxYXB/Ej+KwzVKzBH0WtDLkLQtY3VgZjFTBrOJHBY2eocviRwawKpRVvKiQsbvoqvjRBWgFFClLd9IVeegLMKhurAJAjahK8SMiYxbQFfGjAFAjqFK8iMCIBXZB/CgQ3AxVS9BnACtL1rKA1Y2VxUrVyyt+VM/mWXosfmRBqzp5xYvq2Lqbnoof3aCWf5mydCc9kYc+f3sqhr4ATGOqUg/emKyZf1/Ej/wxjaFG8SIGKxbXB/GjOGyz1CxBnwWtDHnLAlY3VgYjVTCr+FFBo2fosviRAawKZRUvKmTsLroqfnQBWgFFytKddEUe+gIMqhurAFAjqlL8iMiYBXRF/CgA1AiqFC8iMGKBXRA/CgQ3Q9US9BnAypK1LGB1Y2WxUvXyih/Vs3mWHosfWdCqTl7xojq27qan4kc3qOVfpizdSU/koc/fnoqhLwDTmKrUgzcma+bfF/Ejf0xjqFG8iMGKxfVB/CgO2yw1S9BnQStD3rKA1Y2VwUgVzCp+VNDoGbosfmQAq0JZxYsKGbuLroofXYBWQJGydCddkYe+AIPqxioA1IiqFD8iMmYBXRE/CgA1girFiwiMWGAXxI8Cwc1QtQR9BrCyZC0LWN1YWaxUvbziR/VsnqXH4kcWtKqTV7yojq276an40Q1q+ZcpS3fSE3no87enYugLwDSmKvXgjcma+fdF/Mgf0xhqFC9isGJxfRA/isM2S80S9FnQypC3LGB1Y2UwUgWzih8VNHqGLosfGcCqUFbxokLG7qKr4kcXoBVQpCzdSVfkoS/AoLqxCgA1oirFj4iMWUBXxI8CQI2gSvEiAiMW2AXxo0BwM1QtQZ8BrCxZywJWN1YWK1Uvr/hRPZtn6bH4kQWt6uQVL6pj6256Kn50g1r+ZcrSnfREHvr87akY+gIwjalKPXhjsmb+fRE/8sc0hhrFixisWFwfxI/isM1SswR9FrQy5C0LWN1YGYxUwaziRwWNnqHL4kcGsCqUVbyokLG76Kr40QVoBRQpS3fSFXnoCzCobqwCQI2oSvEjImMW0BXxowBQI6hSvIjAiAV2QfwoENwMVUvQZwArS9aygNWNlcVK1csrflTP5ll6LH5kQas6ecWL6ti6m56KH92gln+ZsnQnPZGHPn97Koa+AExjqlIP3pismX9fxI/8MY2hRvEiBisW1wfxozhss9QsQZ8FrQx5ywJWN1YGI1Uwq/hRQaNn6LL4kQGsCmUVLypk7C66Kn50AVoBRcrSnXRFHvoCDKobqwBQI6pS/IjImAV0RfwoANQIqhQvIjBigV0QPwoEN0PVEvQZwMqStSxgdWNlsVL18oof1bN5lh6LH1nQqk5e8aI6tu6mp+JHN6jlX6Ys3UlP5KHP356KoS8A05iq1IM3Jmvm3xfxI39MY6hRvIjBisX1QfwoDtssNUvQZ0ErQ96ygNWNlcFIFcwqflTQ6Bm6LH5kAKtCWcWLChm7i66KH12AVkCRsnQnXZGHvgCD6sYqANSIqhQ/IjJmAV0RPwoANYIqxYsIjFhgF8SPAsHNULUEfQawsmQtC1jdWFmsVL284kf1bJ6lx+JHFrSqk1e8qI6tu+mp+NENavmXKUt30hN56PO3p2LoC8A0pir14I3Jmvn3RfzIH9MYahQvYrBicX0QP4rDNkvNEvRZ0MqQtyxgdWNlMFIFs4ofFTR6hi6LHxnAqlBW8aJCxu6iq+JHF6AVUKQs3UlX5KEvwKC6sQoANaIqxY+IjFlAV8SPAkCNoErxIgIjFtgF8aNAcDNULUGfAawsWcsCVjdWFitVL6/4UT2bZ+mx+JEFrerkFS+qY+tueip+dINa/mXK0p30RB76/O2pGPoCMI2pSj14Y7Jm/n0RP/LHNIYaxYsYrFhcH8SP4rDNUrMEfRa0MuQtC1jdWBmMVMGs4kcFjZ6hy+JHBrAqlFW8qJCxu+iq+NEFaAUUKUt30hV56AswqG6sAkCNqErxIyJjFtAV8aMAUCOoUryIwIgFdkH8KBDcDFVL0GcAK0vWsoDVjZXFStXLK35Uz+ZZeix+ZEGrOnnFi+rYupueih/doJZ/mbJ0Jz35/wAAAP//A0XrjQAAQABJREFU7V35sx3FdW4kPelpAS0gkACBBMKAAAEWMrGxgSDb2NjBoRJXIAkk/iFkq6Qq+T9SlfyQVMUVY4cEOU6KihewIwfbIiADYt9BgBBILBJCoA3tUvo7Mz137n1X770z6n49t/sbeJqZntNn5nznm7nf9PT0nHTMTibR6cknnzTf/va3Jbo777zTrFixYkIi/fjjj82mTZtkX4sXLzZz5syZkP1yJ4OBAPkxGHmKdZTkRyzk271f8qLd+Yl9dORH7AwU+4+lO7H3kyjo/ZOAJ5Z/TFPySH6klE3/sZAf/jFNwSN5kUIWw8VAfoTDVuOZgl6DlsI2FrA8sRRJytCU/Mgw6YqQyQ8FWBmZkhcZJbtBqORHA9ACVImlOxEKW+gDJJQnVgBQE3JJfiSUzAChkB8BQE3AJXmRQBIDhkB+BARX4ZqCXgGWxjQWsDyxNFnKz5b8yC/nmojJDw1a+diSF/nkukmk5EcT1PzXiaU7EQlb6P3n0/DECgBqQi7Jj4SSGSAU8iMAqAm4JC8SSGLAEMiPgOAqXFPQK8DSmMYClieWJkv52ZIf+eVcEzH5oUErH1vyIp9cN4mU/GiCmv86sXQnImELvf98soU+AKYpueSFN6Vs+o+F/PCPaQoeyYsUshguBvIjHLYazxT0GrQUtrGA5YmlSFKGpuRHhklXhEx+KMDKyJS8yCjZDUIlPxqAFqBKLN2JUNhCHyChPLECgJqQS/IjoWQGCIX8CABqAi7JiwSSGDAE8iMguArXFPQKsDSmsYDliaXJUn625Ed+OddETH5o0MrHlrzIJ9dNIiU/mqDmv04s3YlI2ELvP5/sQx8A05Rc8sKbUjb9x0J++Mc0BY/kRQpZDBcD+REOW41nCnoNWgrbWMDyxFIkKUNT8iPDpCtCJj8UYGVkSl5klOwGoZIfDUALUCWW7kQobKEPkFCeWAFATcgl+ZFQMgOEQn4EADUBl+RFAkkMGAL5ERBchWsKegVYGtNYwPLE0mQpP1vyI7+cayImPzRo5WNLXuST6yaRkh9NUPNfJ5buRCRsofefT/ahD4BpSi554U0pm/5jIT/8Y5qCR/IihSyGi4H8CIetxjMFvQYthW0sYHliKZKUoSn5kWHSFSGTHwqwMjIlLzJKdoNQyY8GoAWoEkt3IhS20AdIKE+sAKAm5JL8SCiZAUIhPwKAmoBL8iKBJAYMgfwICK7CNQW9AiyNaSxgeWJpspSfLfmRX841EZMfGrTysSUv8sl1k0jJjyao+a8TS3ciErbQ+88n+9AHwDQll7zwppRN/7GQH/4xTcEjeZFCFsPFQH6Ew1bjmYJeg5bCNhawPLEUScrQlPzIMOmKkMkPBVgZmZIXGSW7QajkRwPQAlSJpTsRClvoAySUJ1YAUBNySX4klMwAoZAfAUBNwCV5kUASA4ZAfgQEV+Gagl4BlsY0FrA8sTRZys+W/Mgv55qIyQ8NWvnYkhf55LpJpORHE9T814mlOxEJW+j955N96ANgmpJLXnhTyqb/WMgP/5im4JG8SCGL4WIgP8Jhq/FMQa9BS2EbC1ieWIokZWhKfmSYdEXI5IcCrIxMyYuMkt0gVPKjAWgBqsTSnQilUQv9oUOHzL59+8zu3bvNjh07ZPnYsWNm6tSp5uSTT5a/2bNnm+Hh4XHBBX979+6Vlu0PPvjATJo0ySxcuNDMmTPHTJs2zUyePHlcfnqNYgHLE6s3E1yvI0B+1NHgci8C5EcvIlwHAuQFeTAaAuTHaOhM3LZYuhMRNhL0u3btMu+884555ZVXzGOPPSbLEPTz5s0zF1xwgbn44ovNZZddZs4444xxoQgivvXWW+bZZ581v/rVr+TG4Otf/7q54oorzKmnnmpmzJgxLj+9RrGA5YnVmwmu1xEgP+pocLkXAfKjFxGuAwHygjwYDQHyYzR0Jm5bLN2JCNWCHsIdYn79+vXmxRdfFCEOgY9WdbTIz5o1y1x44YXmhhtuMOeff74ZGho6bgs7fOFvy5Yt4m/dunXml7/8pUHr/h/90R+Zz3/+8+bMM8+UFv8m6YgFLE+sJtnKpw75kU+um0RKfjRBLf065EX6OT6RCMmPE0HPX91YuhMRqAS9E+DPPfecWb16tdm+fbu56qqrzLnnniut6O+++65Zu3atdJO5+eabzfLly6XbzPG63hw9etSgu81LL71kfvzjHxsA8f7775tFixaZW265xaxcuZKC3h/P6KklCPDC25JEtPQwyI+WJibyYZEXkRPQ8t2TH+1I0MAI+sOHD5v9+/ebxx9/3Nx1110Ggvz2228XUY9uMeiCc88995idO3ea6667zlx++eUi9tHi3m9Cv/mtW7eal19+2Tz88MNmw4YN5qOPPhJB/9WvftVceeWVFPT9gGPZQCPAC+9Apy/4wZMfwSEeyB2QFwOZtgk7aPJjwqAedUcDI+ghwLdt22aeeeYZc//990sXGwh69HWfMmWK2bhxo1mzZo157733zPz5883SpUvNihUr5AXXfgigq43rg4/6eCH2+eefN6eccor58pe/TEHfDzSWDTwCvPAOfAqDBkB+BIV3YJ2TFwObugk5cPJjQmAecycDI+gdYV544QXzyCOPSHea2267zVx66aUS5ObNm6UcL7geOHDAnH322eb66683ixcv7gLhyJEj5uDBg9Ii//Of/9x88skn0pqP+QMPPGBOOukkEfS4URhPH3r4wog77g/rmPDE4Ic//KGZPn26+da3viU3CF0HEmgFx4GbGkwYrQcj/3AiAg4B8sMhwXk/BMiPfqiwjLwgB0ZDgPwYDZ2J24bBXe6++25p5L7zzjulUXui9q7qQ//hhx+aV199VbrI4IXY0047Tfq6Y1QbTBCxTz31lHnjjTektR1i9sYbb5SXY+sBYchL+ELfefS5x4uz6GIDIf6DH/xAuvWghX68gh6+0F0Hx4Y51jFhSM3XX39dbgrqNx71Ywmx7G4w4BtiHsN5ciICDgHywyHBeT8EyI9+qLCMvCAHRkOA/BgNnYnbBh2Kd0IxQEyrBT26xECE44AhlNGtBi+/YlQbTOgPj7uT1157TUbCwbCVN910kwxlWYcT3XbgB8IfL9Kefvrp5ktf+pLBaDnf+973pKWdgr6OGJdTQoAX3pSy6T8W8sM/pil4JC9SyGK4GMiPcNhqPGcl6DFSjgsYXXjQXeeiiy4yS5YskSEwmwh6R2Q8csIf1jGxy42GhrSdKAT4aHSikB7M/ZAfg5m30EdNXoRGeLD9kx/tyF82XW4g5tF/Hi8NfOc735EuMV/4whekBR+PJzZt2mR++tOfyldjr776aulys2zZMrNgwYJGX4yN9XKCe9cA9ML7A/jiLSci4BAgPxwSnPdDgPzohwrLyAtyYDQEyI/R0Jm4bbF0JyJU9aF3hGn6Uqx7GfbRRx81//iP/yh98dHPHqPaYJQbdLl58803ZWx6iHgMW4m+9Rj+sskXY2MB63ACwBT0QIFTHQHyo44Gl3sRID96EeE6ECAvyIPRECA/RkNn4rbF0p2IUCXo68NW3nfffTJ6jGbYSgh6fEgKQ1Pee++90vUGL8TiK7OYQEgKeoGC/ySMAC+8CSfXQ2jkhwcQE3RBXiSYVI8hkR8ewTwBVwMj6PFhKYxQU/+w1B133NH3w1LXXntt9WEp1+UEXW7wMSp8eOqdd96R/u4YohJ/mDBCDbvcnACTWHUgEOCFdyDSFO0gyY9o0Ld6x+RFq9MT/eDIj+gpkAMYGEEPQY4/dPpfvXq12b59u1m5cqV0K8FY7xDpGIZy2rRpXaPfTJ48WYZuHB4eNviiLFrl+034YFWTl2L7+UJZLGB5Yh0vIywHAuQHeTAaAuTHaOjku428yDf344mc/BgPSuFtYulORKbqcoMKEPTuC68YehIfkULfdyfa8XIrhrFctWqVjMOJ/vZ79uyRMevRL37RokVm9uzZcDVioqAfAQkLEkSAF94Ek+oxJPLDI5gJuSIvEkpmgFDIjwCgNnA5UIIe8UHAQ9RjWMj169fLMoT+vHnzzNKlSw1Gplm+fLmI/6efflq62OAjVGMJeoxt/z//8z/y5Vi0/MNXk5dhXQ5iAcsTy2WA834IkB/9UGGZQ4D8cEhwXkeAvKijweVeBMiPXkTirMfSnYhW3UKPSnixFX3pIezxNVYsY8IXUdFCj1FrXCs8SAZ7bBuryw1a8t9//30Z2nLu3LniC9130PrfZIoFLE+sJtnKpw75kU+um0RKfjRBLf065EX6OT6RCMmPE0HPX91YuhMRNBL0/kIP6ykWsDyxwuZ10L2TH4OewbDHT36ExXdQvZMXg5q5iTlu8mNicB5rL7F0J46Lgn6s7DTYzhOrAWgZVSE/Mkp2g1DJjwagZVCFvMggyScQIvlxAuB5rEpB7xHMuqtYwPLEqmeBy70IkB+9iHC9jgD5UUeDyw4B8sIhwXk/BMiPfqhMfFks3YlI2UIfIN88sQKAmpBL8iOhZAYIhfwIAGoCLsmLBJIYMATyIyC4CtcU9AqwNKaxgOWJpclSfrbkR34510RMfmjQyseWvMgn100iJT+aoOa/TizdiUjYQu8/n/xwUABMU3LJC29K2fQfC/nhH9MUPJIXKWQxXAzkRzhsNZ4p6DVoKWxjAcsTS5GkDE3JjwyTrgiZ/FCAlZEpeZFRshuESn40AC1AlVi6E6GwhT5AQnliBQA1IZfkR0LJDBAK+REA1ARckhcJJDFgCORHQHAVrinoFWBpTGMByxNLk6X8bMmP/HKuiZj80KCVjy15kU+um0RKfjRBzX+dWLoTkbCF3n8+2Yc+AKYpueSFN6Vs+o+F/PCPaQoeyYsUshguBvIjHLYazxT0GrQUtrGA5YmlSFKGpuRHhklXhEx+KMDKyJS8yCjZDUIlPxqAFqBKLN2JUNhCHyChPLECgJqQS/IjoWQGCIX8CABqAi7JiwSSGDAE8iMguArXFPQKsDSmsYDliaXJUn625Ed+OddETH5o0MrHlrzIJ9dNIiU/mqDmv04s3YlI2ELvP5/sQx8A05Rc8sKbUjb9x0J++Mc0BY/kRQpZDBcD+REOW41nCnoNWgrbWMDyxFIkKUNT8iPDpCtCJj8UYGVkSl5klOwGoZIfDUALUCWW7kQobKEPkFCeWAFATcgl+ZFQMgOEQn4EADUBl+RFAkkMGAL5ERBchWsKegVYGtNYwPLE0mQpP1vyI7+cayImPzRo5WNLXuST6yaRkh9NUPNfJ5buRCRsofefT/ahD4BpSi554U0pm/5jIT/8Y5qCR/IihSyGi4H8CIetxjMFvQYthW0sYHliKZKUoSn5kWHSFSGTHwqwMjIlLzJKdoNQyY8GoAWoEkt3IhS20AdIKE+sAKAm5JL8SCiZAUIhPwKAmoBL8iKBJAYMgfwICK7CNQW9AiyNaSxgeWJpspSfLfmRX841EZMfGrTysSUv8sl1k0jJjyao+a8TS3ciErbQ+88n+9AHwDQll7zwppRN/7GQH/4xTcEjeZFCFsPFQH6Ew1bjmYJeg5bCNhawPLEUScrQlPzIMOmKkMkPBVgZmZIXGSW7QajkRwPQAlSJpTsRClvoAySUJ1YAUBNySX4klMwAoZAfAUBNwCV5kUASA4ZAfgQEV+Gagl4BlsY0FrA8sTRZys+W/Mgv55qIyQ8NWvnYkhf55LpJpORHE9T814mlOxEJW+j955N96ANgmpJLXnhTyqb/WMgP/5im4JG8SCGL4WIgP8Jhq/FMQa9BS2EbC1ieWIokZWhKfmSYdEXI5IcCrIxMyYuMkt0gVPKjAWgBqsTSnQiFLfQBEsoTKwCoCbkkPxJKZoBQyI8AoCbgkrxIIIkBQyA/AoKrcE1BrwBLYxoLWJ5YmizlZ0t+5JdzTcTkhwatfGzJi3xy3SRS8qMJav7rxNKdiIQt9P7zyT70ATBNySUvvCll038s5Id/TFPwSF6kkMVwMZAf4bDVeKag16ClsI0FLE8sRZIyNCU/Mky6ImTyQwFWRqbkRUbJbhAq+dEAtABVYulOhMIW+gAJ5YkVANSEXJIfCSUzQCjkRwBQE3BJXiSQxIAhkB8BwVW4pqBXgKUxjQUsTyxNlvKzJT/yy7kmYvJDg1Y+tuRFPrluEin50QQ1/3Vi6U5EwhZ6//lkH/oAmKbkkhfelLLpPxbywz+mKXgkL1LIYrgYyI9w2Go8U9Br0FLYxgKWJ5YiSRmakh8ZJl0RMvmhACsjU/Iio2Q3CJX8aABagCqxdCdCYQt9gITyxAoAakIuyY+EkhkgFPIjAKgJuCQvEkhiwBDIj4DgKlxT0CvA0pjGApYnliZL+dmSH/nlXBMx+aFBKx9b8iKfXDeJlPxogpr/OrF0JyJhC73/fLIPfQBMU3LJC29K2fQfC/nhH9MUPJIXKWQxXAzkRzhsNZ4p6DVoKWxjAcsTS5GkDE3JjwyTrgiZ/FCAlZEpeZFRshuESn40AC1AlVi6E6GwhT5AQnliBQA1IZfkR0LJDBAK+REA1ARckhcJJDFgCORHQHAVrinoFWBpTGMByxNLk6X8bMmP/HKuiZj80KCVjy15kU+um0RKfjRBzX+dWLoTkbCF3n8+2Yc+AKYpueSFN6Vs+o+F/PCPaQoeyYsUshguBvIjHLYazxT0GrQUtrGA5YmlSFKGpuRHhklXhEx+KMDKyJS8yCjZDUIlPxqAFqBKLN2JUNhCHyChPLECgJqQS/IjoWQGCIX8CABqAi7JiwSSGDAE8iMguArXFPQKsDSmsYDliaXJUn625Ed+OddETH5o0MrHlrzIJ9dNIiU/mqDmv04s3YlI2ELvP5/sQx8A05Rc8sKbUjb9x0J++Mc0BY/kRQpZDBcD+REOW41nCnoNWgrbWMDyxFIkKUNT8iPDpCtCJj8UYGVkSl5klOwGoZIfDUALUCWW7kQobKEPkFCeWAFATcgl+ZFQMgOEQn4EADUBl+RFAkkMGAL5ERBchWsKegVYGtNYwPLE0mQpP1vyI7+cayImPzRo5WNLXuST6yaRkh9NUPNfJ5buRCRsofefT/ahD4BpSi554U0pm/5jIT/8Y5qCR/IihSyGi4H8CIetxjMFvQYthW0sYHliKZKUoSn5kWHSFSGTHwqwMjIlLzJKdoNQyY8GoAWoEkt3IhS20AdIKE+sAKAm5JL8SCiZAUIhPwKAmoBL8iKBJAYMgfwICK7CNQW9AiyNaSxgeWJpspSfLfmRX841EZMfGrTysSUv8sl1k0jJjyao+a8TS3ciErbQ+88n+9AHwDQll7zwppRN/7GQH/4xTcEjeZFCFsPFQH6Ew1bjmYJeg5bCNhawPLEUScrQlPzIMOmKkMkPBVgZmZIXGSW7QajkRwPQAlSJpTsRClvoAySUJ1YAUBNySX4klMwAoZAfAUBNwCV5kUASA4ZAfgQEV+Gagl4BlsY0FrA8sTRZys+W/Mgv55qIyQ8NWvnYkhf55LpJpORHE9T814mlOxEJW+j955N96ANgmpJLXnhTyqb/WMgP/5im4JG8SCGL4WIgP8Jhq/FMQa9BS2EbC1ieWIokZWhKfmSYdEXI5IcCrIxMyYuMkt0gVPKjAWgBqsTSnQiFLfQBEsoTKwCoCbkkPxJKZoBQyI8AoCbgkrxIIIkBQyA/AoKrcE1BrwBLYxoLWJ5YmizlZ0t+5JdzTcTkhwatfGzJi3xy3SRS8qMJav7rxNKdiIQt9P7zyT70ATBNySUvvCll038s5Id/TFPwSF6kkMVwMZAf4bDVeKag16ClsI0FLE8sRZIyNCU/Mky6ImTyQwFWRqbkRUbJbhAq+dEAtABVYulOhMIW+gAJ5YkVANSEXJIfCSUzQCjkRwBQE3BJXiSQxIAhkB8BwVW4pqBXgKUxjQUsTyxNlvKzJT/yy7kmYvJDg1Y+tuRFPrluEin50QQ1/3Vi6U5EwhZ6//lkH/oAmKbkkhfelLLpPxbywz+mKXgkL1LIYrgYyI9w2Go8U9Br0FLYxgKWJ5YiSRmakh8ZJl0RMvmhACsjU/Iio2Q3CJX8aABagCqxdCdCYQt9gITyxAoAakIuyY+EkhkgFPIjAKgJuCQvEkhiwBDIj4DgKlwPnKA/dOiQ2bdvn9m9e7fZsWOHLB87dsxMnTrVnHzyyfI3e/ZsMzw83BeGAwcOmF27dsnfnj17zMGDB8Vu0qRJBn+zZs0yp556qsynTJkiZX0djVEYC1ieWGMkJvPN5EfmBBgjfPJjDIAy3UxeZJr4cYZNfowTqMBmsXQnwmrUQg8x/s4775hXXnnFPPbYY7IMQT9v3jxzwQUXmIsvvthcdtll5owzzugL3QcffGBefPFFqb9hwwa5KYCQh3jHTcB5551nrrnmGrN06VIzc+ZMuVHo62iMwljA8sQaIzGZbyY/MifAGOGTH2MAlOlm8iLTxI8zbPJjnEAFNoulOxGWWtBDuEPMr1+/XkT5W2+9JS3tEOQQ42hdv/DCC80NN9xgzj//fDM0NGQmT57cBeF7771nEPTLL79sXH3YwDda/3EjsGLFCrNs2TKzZMkSM2fOnK76412JBSxPrPFmKE878iPPvI83avJjvEjlZUde5JVvbbTkhxaxMPaxdCeiUQl6CG78Pffcc2b16tVm+/bt5qqrrjLnnnuumTFjhnn33XfN2rVrzbRp08zNN99sli9fLmK8t+vNhx9+aF599VWzc+dOuQlAVx20zoOQr732mvg9fPiw+F21apW02DeBPhawPLGaZCufOuRHPrluEin50QS19OuQF+nn+EQiJD9OBD1/dWPpTkSgEvQQ2fv37zePP/64ueuuu8zRo0fN7bffLqIegh5dcO655x4R6tddd525/PLLRZSjP319Qr95tNLj5uC0006r+sqjK87zzz9vXnjhBWn9R0v9rbfeai699NJ69XEvxwKWJ9a4U5SlIfmRZdrHHTT5MW6osjIkL7JKtzpY8kMNWZAKsXQnglEJ+r1795pt27aZZ555xtx///3Sug5Bf8UVV0gL+8aNG82aNWtErM+fP1/6wKPrzMKFC7uAczcGEPRozUfr/EknnSQ3AuiCA/8PPvigtO7fcccd4r/LwThXYgHLE2ucCcrUjPzINPHjDJv8GCdQmZmRF5klXBku+aEELJB5LN2JcFSC3hEGLeiPPPKICO7bbrutakHfvHmzlEOUYySbs88+21x//fVm8eLF44IOI+agyw1a6Z944gl5yRb+8YLtaBNGycGIO+7PjZqDJwY//OEPzfTp0823vvUtc+WVV47mxts2HAeeQGDCzQxG/uFEBBwC5IdDgvN+CJAf/VBhGXlBDoyGAPkxGjoTt+3ZZ581d999tzRU33nnnfI+6ETtXSXoXd93vMyKUWrQXeaWW26RUW1wwBCxTz31lHnjjTcMus9AzN54443ycux4AsKNwEMPPWRef/11GQrznHPOkfoY7Wa0CceF0XLQLx9zrGPCDQJ8nXnmmaZ+4zGaLx/b3A0GfEHM4x0BTkTAIUB+OCQ474cA+dEPFZaRF+TAaAiQH6OhM3HboEN//OMfS1fyVgt6iPSXXnpJhDOEMrrV4OVXjGqDaevWrQZ3J2hlx0g46AN/0003yVCWo8EJIqI7D24UHnjgARHiS+zoNhdddJH0w1+wYMFo1UXAU9CPChE3tggBXnhblIwWHgr50cKktOCQyIsWJKHFh0B+tCM52Qv6jz76SFr1MXrOunXrpG/+1772NRHzGNseXWZGmxyR8cgJf1jHxC43o6HGbbEQ4KPRWMgPxn7Jj8HI00QfJXkx0YgP1v7Ij3bkK9suN3g5Fl+cffvtt2XkHHTVQT/9RYsWGQh6tPxjfHq8MNtkivVygnvXAMeM9weajqPfJGbWaT8C5Ef7cxTzCMmPmOi3d9/kRXtz04YjIz/akAUj31j69re/LQfT6i43jjC+Xop1d5Romf/FL35hIPDxhViMXw8hPHfu3MZiHmhS0LeD4DyKbgTceYRS3vB1Y8M1I40amzZtEijIDzLCIcDrhkOC834IkB/9UJn4sli6E5GqXoqtD1t53333SVeYJsNWHjlyRLrFoJ89Hk+gzxF+wE4//XTzW7/1W+aSSy6RbjcYzvJEpljA8sQ6kaylX5f8SD/HJxIh+XEi6KVbl7xIN7c+IiM/fKB44j5i6U4cuUrQuy4y9Q9LYZx4fC2298NS1157bfVhqd4uJ+hmg5FoMDzlz372M3kh9tOf/rQMf/mpT31KXrY9ka42LiWxgOWJ5TLAeT8EyI9+qLDMIUB+OCQ4ryNAXtTR4HIvAuRHLyJx1mPpTkSrEvT4EBT+0Kq+evVqs337drNy5UrpNoAXV9HivnbtWvlYVH30G4hzDN04PDwswh/Ew2g5jz76qPn5z38u3Wq+8pWvSMv8KaecIi3/aJ3HkI9otZ85c2ajzMQClidWo3RlU4n8yCbVjQIlPxrBlnwl8iL5FJ9QgOTHCcHnrXIs3YkAVIIeFSDot2zZYh577DER5Rg7fteuXfLyKkT7rFmz5GXWVatWyTL62+/Zs0fGrMfwk3jhFcNb/uQnP5GPUKG7DbrgLLHDVGJEm6GhIRH+EPF4KRZ+sK3JFAtYnlhNspVPHfIjn1w3iZT8aIJa+nXIi/RzfCIRkh8ngp6/urF0JyJQC3pUgoCHqMewkOvXr5dlCH0IcnwEatmyZfJiK8qefvpps3Pnzi5Bj5b9NWvWyMepMGQluvKghR9iHhNuDCjoBQr+kyACvPAmmFSPIZEfHsFMyBV5kVAyA4RCfgQAtYHLgRP0hw4dkuEmIezxNVb0icfkWujRbWb27NlSBpLBvt7l5sCBA9JKD6GPbUePHpUW/kmTJkkdzNnlRqDgPwkiwAtvgkn1GBL54RHMhFyRFwklM0Ao5EcAUBu4HDhB3yDGKFViAcsTK0q6B2an5MfApCrKgZIfUWBv/U7Ji9anKOoBkh9R4a92Hkt34gAadbmpjrzlC7GA5YnVcmJEPjzyI3ICWr578qPlCYp0eORFJOAHZLfkRzsSFUt3InoK+gAc4IkVANSEXJIfCSUzQCjkRwBQE3BJXiSQxIAhkB8BwVW4pqBXgKUxjQUsTyxNlvKzJT/yy7kmYvJDg1Y+tuRFPrluEin50QQ1/3Vi6U5EwhZ6//nkp9sDYJqSS154U8qm/1jID/+YpuCRvEghi+FiID/CYavxTEGvQUthGwtYnliKJGVoSn5kmHRFyOSHAqyMTMmLjJLdIFTyowFoAarE0p0IhS30ARLKEysAqAm5JD8SSmaAUMiPAKAm4JK8SCCJAUMgPwKCq3BNQa8AS2MaC1ieWJos5WdLfuSXc03E5IcGrXxsyYt8ct0kUvKjCWr+68TSnYiELfT+88k+9AEwTcklL7wpZdN/LOSHf0xT8EhepJDFcDGQH+Gw1XimoNegpbCNBSxPLEWSMjQlPzJMuiJk8kMBVkam5EVGyW4QKvnRALQAVWLpToTCFvoACeWJFQDUhFySHwklM0Ao5EcAUBNwSV4kkMSAIZAfAcFVuKagV4ClMY0FLE8sTZbysyU/8su5JmLyQ4NWPrbkRT65bhIp+dEENf91YulORMIWev/5ZB/6AJim5JIX3pSy6T8W8sM/pil4JC9SyGK4GMiPcNhqPFPQa9BS2MYClieWIkkZmpIfGSZdETL5oQArI1PyIqNkNwiV/GgAWoAqsXQnQmELfYCE8sQKAGpCLsmPhJIZIBTyIwCoCbgkLxJIYsAQyI+A4CpcU9ArwNKYxgKWJ5YmS/nZkh/55VwTMfmhQSsfW/Iin1w3iZT8aIKa/zqxdCciYQu9/3yyD30ATFNyyQtvStn0Hwv54R/TFDySFylkMVwM5Ec4bDWeKeg1aClsYwHLE0uRpAxNyY8Mk64ImfxQgJWRKXmRUbIbhEp+NAAtQJVYuhOhsIU+QEJ5YgUANSGX5EdCyQwQCvkRANQEXJIXCSQxYAjkR0BwFa4p6BVgaUxjAcsTS5Ol/GzJj/xyromY/NCglY8teZFPrptESn40Qc1/nVi6E5Gwhd5/PtmHPgCmKbnkhTelbPqPhfzwj2kKHsmLFLIYLgbyIxy2Gs8U9Bq0FLaxgOWJpUhShqbkR4ZJV4RMfijAysiUvMgo2Q1CJT8agBagSizdiVDYQh8goTyxAoCakEvyI6FkBgiF/AgAagIuyYsEkhgwBPIjILgK1xT0CrA0prGA5YmlyVJ+tuRHfjnXREx+aNDKx5a8yCfXTSIlP5qg5r9OLN2JSNhC7z+f7EMfANOUXPLCm1I2/cdCfvjHNAWP5EUKWQwXA/kRDluNZwp6DVoK21jA8sRSJClDU/Ijw6QrQiY/FGBlZEpeZJTsBqGSHw1AC1Allu5EKGyhD5BQnlgBQE3IJfmRUDIDhEJ+BAA1AZfkRQJJDBgC+REQXIVrCnoFWBrTWMDyxNJkKT9b8iO/nGsiJj80aOVjS17kk+smkZIfTVDzXyeW7kQkbKH3n0/2oQ+AaUoueeFNKZv+YyE//GOagkfyIoUshouB/AiHrcYzBb0GLYVtLGB5YimSlKEp+ZFh0hUhkx8KsDIyJS8ySnaDUMmPBqAFqBJLdyIUttAHSChPrACgJuSS/EgomQFCIT8CgJqAS/IigSQGDIH8CAiuwjUFvQIsjWksYHliabKUny35kV/ONRGTHxq08rElL/LJdZNIyY8mqPmvE0t3IhK20PvPJ/vQB8A0JZe88KaUTf+xkB/+MU3BI3mRQhbDxUB+hMNW45mCXoOWwjYWsDyxFEnK0JT8yDDpipDJDwVYGZmSFxklu0Go5EcD0AJUiaU7EQpb6AMklCdWAFATckl+JJTMAKGQHwFATcAleZFAEgOGQH4EBFfhmoJeAZbGNBawPLE0WcrPlvzIL+eaiMkPDVr52JIX+eS6SaTkRxPU/NeJpTsRCVvo/eeTfegDYJqSS154U8qm/1jID/+YpuCRvEghi+FiID/CYavxTEGvQUthGwtYnliKJGVoSn5kmHRFyOSHAqyMTMmLjJLdIFTyowFoAarE0p0IhS30ARLKEysAqAm5JD8SSmaAUMiPAKAm4JK8SCCJAUMgPwKCq3BNQa8AS2MaC1ieWJos5WdLfuSXc03E5IcGrXxsyYt8ct0kUvKjCWr+68TSnYiELfT+88k+9AEwTcklL7wpZdN/LOSHf0xT8EhepJDFcDGQH+Gw1XimoNegpbCNBSxPLEWSMjQlPzJMuiJk8kMBVkam5EVGyW4QKvnRALQAVWLpToTCFvoACeWJFQDUhFySHwklM0Ao5EcAUBNwSV4kkMSAIZAfAcFVuKagV4ClMY0FLE8sTZbysyU/8su5JmLyQ4NWPrbkRT65bhIp+dEENf91YulORMIWev/5ZB/6AJim5JIX3pSy6T8W8sM/pil4JC9SyGK4GMiPcNhqPFPQa9BS2MYClieWIkkZmpIfGSZdETL5oQArI1PyIqNkNwiV/GgAWoAqsXQnQmELfYCE8sQKAGpCLsmPhJIZIBTyIwCoCbgkLxJIYsAQyI+A4CpcU9ArwNKYxgKWJ5YmS/nZkh/55VwTMfmhQSsfW/Iin1w3iZT8aIKa/zqxdCciYQu9/3yyD30ATFNyyQtvStn0Hwv54R/TFDySFylkMVwM5Ec4bDWeKeg1aClsYwHLE0uRpAxNyY8Mk64ImfxQgJWRKXmRUbIbhEp+NAAtQJVYuhOhsIU+QEJ5YgUANSGX5EdCyQwQCvkRANQEXJIXCSQxYAjkR0BwFa4p6BVgaUxjAcsTS5Ol/GzJj/xyromY/NCglY8teZFPrptESn40Qc1/nVi6E5Gwhd5/PtmHPgCmKbnkhTelbPqPhfzwj2kKHsmLFLIYLgbyIxy2Gs8U9Bq0FLaxgOWJpUhShqbkR4ZJV4RMfijAysiUvMgo2Q1CJT8agBagSizdiVDYQh8goTyxAoCakEvyI6FkBgiF/AgAagIuyYsEkhgwBPIjILgK1xT0CrA0prGA5YmlyVJ+tuRHfjnXREx+aNDKx5a8yCfXTSIlP5qg5r9OLN2JSNhC7zGfR44eM4eOHDUf7PjYbNz0ljl67Jg595xzzLw5s83kSSd1/k46yUyy65PsnFN+CPDCm1/ONRGTHxq08rElL/LJdZNIyY8mqPmvQ0HvH1PxONHA7j90xHy096DZ/MFH5pU3t4i4P+eshWb+nFPM9KmTzQz7N31oshm2f9OmTDZTJp9kTqKoD5T99rrlhbe9uWnDkZEfbchC+46BvGhfTtp0RORHO7Ix0bqzHjVb6OtonODyzn2HzNsf7jWvvrvDPLfxPbP3wGFz+qlzzZxZMwoxD0FfinoI+qlTJnVa7aUFv1ifUm/Nx7IV/V0t/G47W/pPMGNxqvPCGwf3Qdkr+TEomZrY4yQvJhbvQdsb+dGOjFHQB8rDRAO7ddd+89yWj83Tmz40T2zcZrbtOmCGpw2ZoSlTugQ5BDv+IOiHrcBHi70I/alTbAv+lKolvygrWvXRsi+t/Ha7K0e9Ybb0B2JPOLe88IbDNgXP5EcKWfQfA3nhH9OUPJIf7cjmROvOetRsoa+jcYLL23cfMC+/t9M8v3mHefKNrQYCf8rQVHPSpMkG/esPHz1qjth+9XZmjtn/0N1maPIkK/ituLdz12o/tWy9H4bgh5B3gt/OZ4joL8S9CHpbhrqTbfedTit+b8t/0co/ouW/p6Ufx8Ne/SdIgnFU54V3HCBlbEJ+ZJz8UUInL0YBh5v4/ZuWcICCPlAiJhrYA7YP/S7b7WaL7UP/4hubZfnkuaeaSUPD5pODh80nhw6bfdZm/6GjZt/BI+bAYftnlzE/aF+mPXT4qMwP2jmW8VItJLbV3d1iveyCIwLdCnkIerT0S8u9iH+04pct+V03A/Wbg2I7+vXjxqDep5+iPhAhS7f8YQ6L76B7Jz8GPYNhjp+8CINrKl7Jj3ZkcqJ1Zz1qttDX0fCwfMyK8A8/+ti8vnGTCPf5C840U2fMEkEPEQ9BX/3ZdQh9KcdcxL7dDjv7B2F/2Ar9w7Z1Hy38XX92P1iH6MdoOUO2NR+t/VPR2m9b+KfZddfSj2X3Mu4MJ/DLlv5K0Nty3BjgRd1OS79bLlv8yxuJ3u1TynKM3INtbOkfnUi88I6OT+5byY/cGdA/fvKiPy4sLRAgP9rBBAr6QHmIBexHVtBv3LTJdq05Zs5edI45+ZTZRXcbiPJSiHeJcyfWu7YVrfT7rajf724EcAOAVn63jhsAu7wfLf3WDjcAB9Hab+cYPrNYH7ulHyIcQr7e0i9dfWzrfXEDUG/tt8vupkDmts9/ue66ALnRe9jS35/YvPD2x4WlBQLkB5nQDwHyoh8qLHMIkB8OibjzWLoTUbOFPkDufZxYaOmH6IdQx3CY0qoPIe9EPcqcsC/L9zmxX7b2y3a7bTwt/dif9OmvWvpda7+dTy5G5MELuE7oi6h3wt629kPUuxd8e1v68QQBNw2Y2/+rOfZni6tuRdV6aSfrIKmzK8snoUbNj/Nb2ZV1AqTWi0sf/PByIHTSSgTIj1amJfpBkRfRU9DqAyA/2pEeCvpAeYgFrK8TS0T9MSMt/fUW/cPH7Mu1rlW/Pu9q4XdddIqW/uLGwPbdL0W/6+rzievmY+d4B6DT0o/+/MXNQNXSb/flRLN0u7GqWuaTai/hupb+nlb74SHcINguPdZ2Crr2yFOBoovPkJThBWGM/lOUTS7nWB8qnyC4usV6d11Xr+oyJOK/nc8IfPEj0GlDt5ERID8iJ6CluycvWpqYlhwW+dGORMTSnYieLfQBONCmE8u19OOl2+Jl3KLLzifSul/026+3/hdPAND6f7h4MlA9BTgsL/D27dNfu5FwffohrNGvH631EPLo3w8RP8kK9OImwN4MVDcExTCeqFMX+iLSnfC3cyfknS93Y4B1jPJTiXpr23kiUD4FEIFfPh0A8fu18MsLyEXrv7txgV21XL6gjPWqvvU14gmB3WgPQZ48VHY1Pzs/3mneemuTMG/x4sVmzpw5ssx/iAAQaNP1gxlpDwLkRXty0cYjIT/akRUK+kB5iAVs204siHrbuD6yVf84Lf2HS4GOdwDckwAMuYmRdzot/YXoL7r9YASfogsQugfhxkFG7kGfftvKf+iwHbKz/nIvjsf6hvjHEJ6Yu0mEsFXBIoTLrjX9BHWXXWlva4mQxsu5rpsPhL0T/jKvbhqKcneTIDcS8lQALf/FzQeeGLj61dMD8de5eXBPFzo3E+XNi7vB6LGH7z27dpq333pLYqSgd5nn3CHQtuuHOy7O4yJAXsTFv+17Jz/akaFYuhPRs4U+AAdSPLHqLf0YatP135euO7YbT9HiX7ykixZ/WS+fAkDkH7R1ZGjOI7hJwOg99bldLkU+tP1RjNJv5+5GpJqX5bgBELtyjjH9ccPi6rjbA7kpsP+40XfcEwGr24sWfCu2XVkxn1TY2jrVUwTYQJTLX9HNp3iKUIp6W971xEBuBiDqO6K/y96W7/vkE/PBtvel5X/hggXm5JNPtrcixVMDOSnt/rGOf4ryYh3xoARzKZfVzjZnWxbDsuZDakrdYnunXu86/MCw8FfsS2oX7uS4C5timzyxkDpi1XV82Fa6K/0VfotDs8vF5s68dsxSMcN/Urx+ZJhG7yGTF94hTcoh+dGOdFLQB8pDLGBTPbGcsHat9p0Re3r69FtlXdmUrfzSGg+x7kR4bQ4xDns8BYDQ750f6i0vW/sxkg+G9OzY40lAuS7lxXFUTxrsPovl4gNfcoxVWfG0oF6GY8W6nckE7dnpbtMRr67LTTEvBGt3GerZrjlWrGJ+xD61OHBgvzxFmDljupk6NFTeYBTdd1C3eMpg13FDUa67uWy3ftx6Me+sd+q7JxU1P5Xv4kbFuq/2gRsXt+582PsPOU6sF9s7c2cr+3fHKD5wzEU9V0duopxN7RiqOG2Z/V/2hXl1kxDo2tBmt6leP9qM+SAcG3kxCFmKd4zkRzzs63uOpTtxDI1a6A8dOmT27dtndu/ebXbs2CHLEHtTp06V1ka0OM6ePdsMDw/X4+xahv3evXvN9u3bxc+BAwes2Dpq+0JPNjNnzjTz588XX1OmTLGCwzapNphiAcsTS5csCGaIZxHnEOlOlLs5xLktP+TWa/MRYr8U+GLrBL/YFz6Krj/ljQB8lr6LfcIGx2EFf20fEPVyQyLz4iu/7pgxdzc6MrehY17f3vvE4QiO6/BhEbBDVsyjGw4ELARyJWZr4rYQ8IXgdXbu5qDY1hHCWO/4KAV65bsQ+M6Hm4tYhw2eXMi8sMN6Z1tR5gS6E+yFIC8FvA3AbZd6Ttw7P+W6q1PcrNh9SHkh4l1cODb7v7Tqg01YxprMqvWR5TDo2PSxLw06NvBbeu6qW5WKw8K+9DemXXFcbu/FsZfHJXVLb8WsOF7EK0dizK5du8yWLZtl7ZxFi+RaWhyN/bdeH6vOh8w7Piq83PaiqlQoizp1xXlvXezKWhb/w6Jm310uG/lPcAT4uxIc4oHeAfnRjvTF0p2IvpGgxw/OO++8Y1555RXz2GOPyTJEzLx588wFF1xgLr74YnPZZZeZM844oy/CsEUr5SY7VvvDDz8sfj788ENz8OBBM23aNHP++eeb6667znzqU58ys2bNkhuFvo7GKIwFLE+sMRLTZzMEcKfrTLcgrpdbTd0tmK2vequ/bK+64Dg/vXVceffcuu7y5US5a6kvbjg6gr96QlDeOPSuy02IPaDqCUJpt2//AbNz1x7ZF25epwxNLW4Y7A7lpsAeiNxAVLEWXYpcnF1ze8xFne5Yuut34nL4uTlixCQirxRvIqbLQpR3r1uZ5+zEphCCVVmpMIv1jm0hDOvr3fXc9tKlHI8T9e4mRebl8dh7ALkRwH6K8tK3LcA2V45txXpn3tlWxlb66LWr18WxuJuN0ezq24r63cfV2V6Uy7G7GMr5J5/stV2ytgkGC9Ala9bMIsbqOAvs3PHhhsjFhC3Yh/i1C5X/erndLvE4u+POO5hVPmu2dlH8IGecwiPA35XwGA/yHsiPdmQvlu5E9GpBD/EAMb9+/Xrz4osv2tE63pIWJbSio0UeAvzCCy80N9xwgwhztECi1b0+7d+/X0ZyePnll80vf/lLs3HjRtmMFnq0XC5cuNCsXLnSXHLJJWbJkiVm7ty59erjXo4FLE+scadoIAzlBtTyHi310oJfa72vnhCUYh3ivf4kwW137w1g+67de822D7aLv7mnnmrPm+myDBHu3iWwu6i9ONwpF5vyReJCtBfHJcv2+CDUe58oHHfd7g9dkOzM3gKVNz3IiFsvF4ptKC5sxURsuuv2lnety0r3frDfwgae3XK5ICWFUHU3FBCtmCrxatchYItyZ4uywqYQ4Vgut5WVpb7YFA6xXt+H8+nEcOFPSmVf1brUw/46/qt9YZ92H+Kjfjy20PntnnfE86GDB8xu++I0fM2xTzqn2+sqlp2oxry+7pbdHH4L3x2fnTplWXnM4tP+4+riqCtb+2TFleNmpnO8JV44jtJPCS0ixaKtJzO31lmXOm5bsVKadmxQq2bXWS4wldplpaouCt2KXagWUVxfETNbUJbVN/W1K/122ZVlcNJVXl+R/cDQTtZxfVN9P/XyXruyauHC/rsTT242F09uFtWe3IhB7Z8unygvC0aUlxtGlB/XvthJZV8PpLObwqj2b49ZtaUblY6Dyn9l2VmQbSMMioIRxZ1qoy+VFZvWH7PeCIPugu610Q+131aHL3QH9Bimc8/F6Gmz+5mPWTb28fRY9KwebwfjNDtedUfjkdtHcVxsskwbxWakwxMriaU7cdQqQQ9hg7/nnnvOrF69WrrLXHXVVZY855oZM2aYd99916xdu1Za2W+++WazfPlyGZKvt+sNutlAzL/66qvmtddekxb4FStWiA8QEtvRpQcXrVWrVpnzzjuvEcKxgKWgb5SuVlcS7tsjhGAuzoN6q7cTtoWgxnZnZ7V3Ze/Kd+7caTZv2SJC+qyzzzan2C5qELQQuJC2xRwFvevY6uzsQs0WvqVE6sBm7PXCV7G/4kYBxw2RX8TWuWEobi7kZqO23d0oYO5uRPr5qerZHdbrAKNqtCP4tesOI8zt/2W8RdzwLWWYI3rZXpQVdWGPdWwtfBV2hQ2Kq3y47fCBP/tftw8xsKVuezm3xkVZ6RM1az5GLNv6UgHzcnI/LvIbY/9xwsaVH8NNoe3WiHVpEJlkG0TErrQtl+GuqFN6qGyKDXZVJudXrOp1sVXWi8LKXsr7+MSRlkaYYRmCH3Mn9nvXi6ca5U1C2fVKbiLEV+3mofRV3UyUfp0/7E/2Ue4XO0WZ7Fvm9WMrlovt5TIMS3vUxGq1vVa/NCu3w7IWp7MbUQZfHZ+oVF+vx9BZ7th39tkp68RnMSr3hy6q27ZttWvGLDhjgW08mynHiXXsz02yZJ26ksq/2BVWRZkcaMdONhXHgEXUx/HKVJuVi9U2Wbf/uDns3d4x73JRs3M2hb1UknrOTzGvW3X2IdtQxRkX1UsDeCymys4VVHO3xRaUi7WSjlV58CO21Qpqi85VVV8WrEHdRtZqBbXFCivnoDt6V9o9d/jK70p1w3dO1VUP1s7G1azvU8pqBbVFZz7i+LtsulaqKsVCbVttsTKq+FWW9LNxxsW2Pha2qE+pxIxy17jRi4Hz63seS3ciDpWgR+s5Wtcff/xxc9ddd9kf46Pm9ttvNxD1EPTognPPPfcYEAtdZi6//HIR++hPX58g2h988EHpcgMfixcvNtdff70Q8M033zTPPvusWbdunbTM/+Ef/qH4qdcf73IsYCnox5uhPO3axA8RzjYNhZCHMK+JbKtwIXIrkW5XZLtVrfJyscytSLfDn3bWUQdPDUqfsMF66bcj/Gv7qW23iyLIncCW4yrL3LHABuUd8e/21SlH/cqujEPWbXnlpyq3ZSUGYmPLK9+Vn+K46sdT+S+PB36Lem7f0PLFsuBst2OSma1crspxFuVwYOxTIDtalL3OYpo6dZqZbL/QjPLKvjC260UhyqttOCislwVuL1jv2IhFsV4vr/krFwtfxymXjfYf/FDKHwrsAn5ERwhX2NTKC5FqbevlRfXCh5TXttttHd+yUtUtN1U/6k4kFPtztlgrjgGGsiZzd7yyWY5b7JxNVae0w3pZr5+fqq7zXfoZgYf4KeKr6pRlxXrnuKSuLTxo3zPbZZ/cYMKTG2koq46zsJeNrsztu0TGrhabywWZIRg7dbZ1/JSbKqxg1VUm9Tpl4qfyXfqVWenTLmO1LIJ5B29Zkz2IgdjI9nIDlnv3XxoVs/JfV7Hy17vg/HUMO0uya2fQdRydwtKmXkmOrLBw+NTte5cLmy4HBSbWcGT9jp0sdVa73KJ4r+2qt23bB1J++umnm5lWk8lkNx6nWrl5pEGv/WjHVexk5L8j64w8DneujqzdD+eR9V293uNFOb5cP2/mVDN7un23c3hIvofj7EPOY+lOxKQS9EULwTbzzDPPmPvvv18uKBD0V1xxhcHLq+g6s2bNGvPee+/JS61Lly41aHlHF5r6hNb5e++9V1rily1bJn3u0e/+lFNOkRdk0S//u9/9rrTc//Vf/7X5zGc+U534dT9jLccCtk2CbSyMuH3iEWgbP0TolQKzEn61dSAkglTmpTCsbYdo7FevEJCdbYVNoSCxDevw5pbL1apMttpCKS/3UdQQk7Km81PYOZ8j7Co/3XaFvduH81Ucc+UDuysPrpyVx4Ryd3TumIpaXX6xb1sggt/W7Ah/dwPi5sV+99iW2K22Dz2elJx22mlmuv1hrurIsZQ+bKG7wXAvXsu6Le/dn7Oryt3xuLkcV91vccyIrqor+ytjKcsRJ3zCrvJtl+2KlBXH3W3jbKUe6pd1i3mJhStDIZblH7efch3lxYZy3m1XVinqlrbiwdZBtaquGJZ1US7rxb6wUthKKbZIvbqfoqy0FwsnPAqZIf+WiqMuPHrFTN0Obipbq4ywfFS+6XFI9lB/ciMFdXtXUM5LOd0pLR1X/jtbZKkqrxacwQhPhf0IO2fvYigNumcdo9qSmBzH34i9j8NfzfVxF4+zO3fwI+qNtB9ZMqJSraCf0K1tPu7iWHtBQwAGF8GEdxGnuK7OY1Qcgetxj0C3oWmcbi9jHLYzO+58wZzp5opz5pqLF84258+fZeZacT8RUyzdidhUgt4JkRdeeME88sgj0p3mtttuM5deeqngtNk+7kE5WuBBrLNtdwK0vC9evFi2u39wQ/C9733P7Nmzx9x4441yQwDRjxcEcZH/9a9/bf7u7/5Olv/2b//WfO5zn5N++L0XQOcPL9NixB33h3VMuHH47//+b1m+5ZZb5MZBVgL/g+PAewaYzjrrLBmtJ/Au6X6AECA/BihZng7ViVcRuFYiQiRDUFZi2a4U4veYvY7tMe++/745ZgtOtwMLzJg5S66F2F7U667b7QvbCl/OtlPP1rfxFNs7PtxxuLk7Due3X3mXT2sAuQv7Th13DKPtr2Nf1HXxuXnhA/vHHrrnpbDGjt220k5KymOSOlJeHAfMi7LimCUvhQvBRba7dbEt91v35/YndjU/5X5QHGKSvOHRl50mlSNjhdgPfQ4mAuRHd94WzJ5uLhdBf4o5D4J+xsQIevRUge7EaI9/8Rd/Ie+Ddh9ZuDWVoMdINOj3DqGMF2LRelQXymiZf+qpp8wbb7xhPvjgA2mZh2DHqDX1CXcw//zP/yz95L/5zW9Klx28+Dp9+nS5qD766KPm7//+72UknD/7sz8zn/3sZ4s7TvsUoN+E49qwYYMcG+ZYx4S++AAX00UXXSTHKyuB/8HjcnQ7wjTW8J2BD4XuW4gA+dHCpEzAIUFIYiokYCEsi3UUulJju9vYUZDs9QPmeGqJ1jaxq9cvxaMUlSZal6sAABIGSURBVMviubLp+Oy2Kfdf1XHHUe6/q7xwNqJ+7Vg7MckRilgulrB/+V8WuuykvPRdzASTsWwqv1iwk7Ov9lL6Kra6Uhi65XKfUrmw6qrSY1eZlUYdW4tVZ0UcyWpPWbEHf/8ePnLYHLDcwDRtGC2w/X8P/e2RngYJAfKjO1vDQ5PN7BlD5pTpQ2bmtClmqr0JnogJ+hPvhmJwmL/5m78R/ToR+8U+VIIeIv2ll14S4fz6669Ltxq8/IoDx7R161bp/45g0EKNYStvuukmGcpSDMp/0Af/n/7pn6QVH33kMaJN/YcLXW7+4R/+QV4M+5M/+RNz9dVXSx99PGbsNx1P0OMpQV1Yux/Gfj58luFJBt4FwLRkyRJ5kuHTP30NNgLkx2DnL/TRkx+hER5M/+TFYOZtoo6a/JgopEffD3qIoHs6hl2/9dZbqx4so9fyszUJQX+8Ljd44RajRWDCzUDTD1RpocZTjB/96EdS7Rvf+EZ1w6P1Q/s0ESA/0syrr6jID19IpuWHvEgrn76jIT98I9rMnxt+HV1uRhtetpn30WupBD1awkGatnW5GT3Eid8a86WIiY+We9QiQH5oEcvLnvzIK9/jjZa8GC9SedqRH3nmvR61StDjkc4m+3XXtr0UWw+oDcs8sdqQhfYeA/nR3ty04cjIjzZkoX3HQF60LydtOiLyo03ZiHMsKkFfH7byvvvuk5dY2zxsZRxIjeGJFQv5wdgv+TEYeYp1lORHLOTbvV/yot35iX105EfsDMTfv0rQ48NS+IJr/cNSd9xxR98PS1177bXVh6XmzJnTFSla+d2HpTDUEoa17P2w1MMPPywflsINAz5QNUgTT6xBytbEHyv5MfGYD9IeyY9BytbEHSt5MXFYD+KeyI9BzJrfY1YJehmz1wpwfMl19erVMiwkRqiBIMeQkxjZZu3atTLMWn30m8n2AwdTp06VD1Hhi7LouoN++OiPjxFxMPoMPkCFbRjDHsNNfvLJJ/JCwRe/+EVz3nnn+Y06sLfnn3/efP/735e9YJz+yy67LPAe6X6QECA/BilbE3+s5MfEYz4IeyQvBiFL8Y6R/IiHfVv2rBL0OGiI+i1bthgMLYkhLCHAd+3aJR9+gmifNWuWjOqyatUqWUZ/e3xACmPWL1iwQEQ6BPxHH30kov4Xv/iFDPGIj0a5t4NhhxuFSy65RMQ8xqgfpAlPIHBjg6nfh7VkA//JFgHyI9vUjytw8mNcMGVnRF5kl3JVwOSHCq4kjdWCHihAwEPU46NN69evl2UI/Xnz5pmlS5eaZcuWmeXLl4v4f/rpp2Us+Lqgx3A+R+xnikHAhx56SFrqMYIOhp+E2MeHqK677joZxxO2uFEYpMmNi49jxlikp5566iAdPo81MALkR2CAB9w9+THgCQx0+ORFIGATcUt+JJLIEwijkaDH2O7oSw9hv2PHDlnGMbgWenwkCl9IxYTuNbCvd7mZYr/4ihsAdKvBx6p2794tYh4t9BgrHq388+fPl0/nwnaixo+XA/bwjxsXH64G8YbEAwR0MQoC5Mco4HCTXAtxTcTE6wcJ4RDgdcMhwXk/BMiPfqjkVdZI0OcFEaMlAkSACBABIkAEiAARIALtRYCCvr254ZERASJABIgAESACRIAIEIExEaCgHxMiGhABIkAEiAARIAJEgAgQgfYiQEHf3tzwyIgAESACRIAIEAEiQASIwJgIUNCPCdH4DdzLwnihzb0sjJd/8UIwXm7DH14WHh4eHr9TWg4sAnjJG6M5YdhWvPyNLy1jHZzAVOcFXiTHCE+c8kYA3MD147333hO+4BseuG6cccYZZubMmXmDk2n04ASuJbh+YCQT8AO/NbiWYML3WzCKHHiCawgGkuCUPgIHDhyQgUkwOAl+Y/BSLCZcM4aGhoQP4AX4gWHB8ccpbQQo6D3mFycWPq6F4TwxTj+WcTHGcJ4XXHCBufjii+UjU/hx5pQ+AvjRxY/w66+/LsOzvvHGG2b//v0GX1zGhOFML7zwQnPRRRcJNzCyE6d8EcC1An/44N59990n3+fAjzE4gu96DNoH9vLNpN/IIdwh1jbZYZ7XrVsnH2PEd1xwLYFIW7Rokfn85z8v1xFcQ3jj5xf/tnpDI9GLL74oegMf6MTNHviABkN8uwfXjWuuucace+65IvIHbbTAtuLe5uOioPeUHfwQQ8BjXH6cZO6DWziJcIK5D27dcMMNMs4+7qBxJ80pXQRcCwoEGj409uabb0pLG1rbwBfXioJvFeADZBBs5EW6fBgrMgi0nTt3Gny749577zUbNmyQL3BfeeWV5vd///f5xemxAEx0O1rk3333XbnRe/LJJ+V3Bo0C7joCQf+5z31OGgXQWITfGk7pIuCe/KKBCB/mxO8LGo7ACQh6/LagMWnJkiXmS1/6kvCCPQPS5UM9Mgr6OhoNl3EC4e+5554zq1evNtu3bzdXXXWV3BmjhQ0XYwg6PA69+eab5aNbc+bMYdebhngPSjUIevwYoyVl8+bNBuvIO0Q7LrgbN24UXuCG77d/+7fN5ZdfLtvZJWtQMuz3OLdt2yaNAfi6Nj7jvnXrVhFtl156KQW9X6gHyhsahx588EG5hqARCE98Fy9eLN03Ie7wu4LrCrrtuW43AxUgD1aFAH478A0f3Pj/x3/8hyx/8YtflI96gh9oWPz1r38tvzH4TcGHPtFDgB+4VME8kMYU9B7ShjtjtK49/vjj5q677pIf4dtvv11EPQQ9uuDcc8890vqGL+DiJMNjMPfxLQ+HQBctRAAXXnyADX+4AEPI46KKH2Bse+KJJ8x3vvMd2QZBv2LFCrNw4UK2sLUwlyEPybW44QkOhBtu9HBNQb9YPEbHl7PZQh8yA+30jUYicAM3eP/5n/8p72V9+tOflic1EGgQ9o47rnUW7+XwyW878+nrqFxD0aOPPiq/H3hn4i//8i/N1VdfLb8x0BvgCxoIIOYvueQS4czpp5/u6xDop6UIUNB7SAwed+HkeeaZZ8z9998vLe8Q9FdccYW8oIQf6DVr1siLbujjuHTp0kq8edg9XbQUAfdjiz6w+EP3K/zgYo4f62effdb8+7//u9zoXXvttdWNHlrbOOWDAG7ucA156aWX5PqB/tHo/wr+oKUe3Sgo6PPhg4sU1wx344+GIoj2P/iDP5CGIrTE41ring5jjgnXFr786BBMc+4E/SOPPCKCHjdwf/7nfy6CHo1FL7/8svnBD37QdQOIbp1soU+TD/WoKOjraDRc/vjjj80m+8ISWlJwkkGQ3XbbbQaPyjGhuwXK8egUJ+PZZ59trrd9pvHYlFN+CECo4ccZgh5PbtASi5cecQN41llnyaPz/FDJN2J3/UBfWAh4TLh24EVIdz2hoM+PH8g/bvQwwMJ3v/tduWbceuut0icaQh8TBBz6zKO1nqOZ5MER5B5PfJ966inz/e9/X7p1okEI72DhJg8jZKHLDYQ+ynEtOfPMM6U7Vh4I5RslBb2H3OOxOH6McWeMF2IxVNQtt9wiF164xwmGkw8vsaA/NbpV3HjjjfIo3cPu6WLAEMAPNUQ8umj967/+q7Sy4YnOypUrRczjR5pTPgjgCd4DDzxQXRucOEMfevwwo4GAgj4fPrhIIdrwPha65uElaSyj+wRa5/EUBxNaXdH9Bt0t8HIsul+glZ5Tugi4J7/upVg0Arz//vvStRPdOvEHHmD0tK9//evS7Wb69OkczjRdSlSRUdBXUDRfgEjH43KIegxRiG41ePkVj80x4YcZrbEYWgovrOAR+k033SQX4uZ7Zc1BQ8A9HscNIHgCTtRbYPFuBS7G7AM7aJltdrxoacP7Fbh2/PSnP5UWWDy5ww0/XqbGDzYFfTNsU6iFm340BuHGH4IevzMQaXj3Ci334I8btvI3fuM3DLpV4LcHLfWc0kUAvyMQ9e6dGwzGgV4A4Ata6J2oBx+++tWviqDHUKbYxiltBCjoPeSXgt4DiBm4wEUYP8J4aeknP/mJ3NzhRSX8SH/2s5+VFjb2gc2ACGWI+G4FfojREIARK/Cj+5WvfMWAExByEPoU9PnwoTdS3NSBBw8//LC5++67ZeCFb3zjG/KuDUQ9Wunx3haEHBqJ0FLvXqzv9cX1dBDAuxXouovrw49+9CODLntoDEJ3TTzdRWs9XpiF8Mdoe3iqgxfrMTY9p7QRoKD3kF92ufEAYuIucHF1Hx7DI1KMZgKBjw/CLF++nKMeJZ7/fuHhyR24gB9m3OThsThu7NDFBkPdooUe27GOJ34Yj54tsP2QTLMMrfDgyEMPPWT+5V/+RVrj77zzTvOFL3xBeICGpP/7v/+Tp33onoOR03BDiEEXOKWLAJ7q4WYO1wY82UOL/O/8zu9IX3m0wuO6gQ/T4WZwwYIF0lMA3Tkh+DmljQAFvYf8upfa+FKsBzATdOEekeJC+7//+7/yqBQt8eecc458EAatJ3hMjgszp3wQePvtt6X1FX2kce1ASyvevwEPIOZwXUG/abSs4QcZHw+CmINw45Q+Au5DY3hKA0GPftF/9Vd/JTxAS+yOHTvkvS3cEOLdLdzs/e7v/q50sUgfnXwjhJjHezd4Zw9P9nDDj2GP8SV6/K5s2bJFWuhhgxs9DMKBcer5pen0OUNB7yHH+PF1w1bizhgtbRy20gOwibhw/IBo+9WvfiUXWYw8gD88DsUPMaf8EEALGr78CTGGmz0IePSJxghIFPT58aE3YveOBb4+ju9VQKz96Z/+aTXeOIQdumuBP+hHjRdkv/nNb8o1pdcX19NBwPUIQN7xHhbyjhs5/Jbg+oH39DAyEq4peCqMlvkvf/nLHIQjHQocNxIK+uNCM/4N+AHGY7D6h6XuuOOOvh+W4njj48c1BUu0zqMlFo/N8eO7c+dO6e+KD4zhpWl83ZGj2qSQaX0MaIGFKAMnIOAx+hF+kNFSzy43ejxTq+FGM8EIaRiHHvz4vd/7PYOPS6EPPbrcQLht2LBBPkCGltivfe1rHGwhNSL0xIMbfwyBDV5gdCz8hvzxH/+xdMnDUxwIeXz3Br87GNIU71Zcc8018kS4xxVXE0OAgt5DQiHa8Ie75dWrV8tjcjwiX2zHmUdrPe6Y165dK8INfWHxAgsekw0PD3vYO120FQHc6EG0ofXsv/7rv6SvKy6wePT5mc98purTCB6gWwWGowNf2PWmrRmdmONyXfjQR5YvxU4M5m3eC96vwMuP6H6FRgD3rQrcCOKpH1ph8XuCrnv160qbY+KxNUcA3WhwM+c+ZIknOb/5m78pvysQ9Hjyh6c6eHEWfMGgC/hiLJ8EN8d8UGpS0HvKFAQ9+q6hxQR9GnEHjQsthiDEiyoQcji58AEhvLQE0cbhCT2B31I3aHV1Y4n/27/9mwxbisej7g/iHROGKUSrG/iBVja0uHDKFwEK+nxz3y9yiDd0r4Cwx1M+9J1H9xtMGPEEAh/vV6APNV6CxG8Np3QRcKPc4MkMWugxh3jHEx3wAk/5sIwGRQh98IINiOnyoR4ZBX0djRNchoCHqMeFF3fIWIbQx4diIOJxl4wRTTDEGKf0EXCCHi0pP/vZz4QPaImHkMdF100U9A4JzoEAutxg6Dm81AYhB4GGhgC+1JYnP9CdEyIewm3dunXSlQKCDY1CeKqH3xZ0qViyZIk8BWZDUR48wTUCL8VCb2BMejyxwe8KBlhAoxHGoceNHl6iByfqvzl5IJRflBT0HnPuXmKCsMcFGBdiTK6FHi2v6PvIrjYeQW+xK3S5QcsJWlzxGBR8ABd6f3DZ5abFSYxwaK6rFm4I8SONx+hoBMA49ZzyQwAtsug/j3Hp8UIkulygoQitseAGbvgwOhL44Vpo80Mpv4jRnRO/LdAbuFZAf0C04/cFvzO42YOwBy8o5vPgBwV9HnlmlESACBABIkAEiAARIAKJIkBBn2hiGRYRIAJEgAgQASJABIhAHghQ0OeRZ0ZJBIgAESACRIAIEAEikCgCFPSJJpZhEQEiQASIABEgAkSACOSBAAV9HnlmlESACBABIkAEiAARIAKJIkBBn2hiGRYRIAJEgAgQASJABIhAHghQ0OeRZ0ZJBIgAESACRIAIEAEikCgCFPSJJpZhEQEiQASIABEgAkSACOSBAAV9HnlmlESACBABIkAEiAARIAKJIvD/b/Hi3c6OcdkAAAAASUVORK5CYII=)"
      ]
    },
    {
      "cell_type": "markdown",
      "metadata": {
        "id": "-SqAtkgRUH-s"
      },
      "source": [
        "On constate qu'il y a beaucoup d'erreur de classification au niveau des données tests."
      ]
    },
    {
      "cell_type": "markdown",
      "metadata": {
        "id": "7G-VqJrhUwFo"
      },
      "source": [
        "exéxution du modèle sauvegardé sur des nouvelles images de chiffres manuscrits."
      ]
    },
    {
      "cell_type": "code",
      "metadata": {
        "id": "NIMdWHsZBEqz",
        "colab": {
          "base_uri": "https://localhost:8080/",
          "height": 172
        },
        "outputId": "285ba4c1-d687-46d6-8e5d-64f74225da48"
      },
      "source": [
        "import cv2\n",
        "import numpy as np\n",
        "\n",
        "from google.colab.patches import cv2_imshow\n",
        "is_training= True\n",
        "ph_is_training=tf.placeholder_with_default(True, (), name='is_training')\n",
        "#cap=cv2.VideoCapture(0)\n",
        "np.set_printoptions(formatter={'float': '{:0.3f}'.format})\n",
        "with tf.Session() as s:\n",
        "    saver=tf.train.import_meta_graph('/content/model_mnist.meta')\n",
        "    saver.restore(s, tf.train.latest_checkpoint('/content'))\n",
        "    graph=tf.get_default_graph()\n",
        "    images=graph.get_tensor_by_name(\"images:0\")\n",
        "    sortie=graph.get_tensor_by_name(\"sortie:0\")\n",
        "    is_training=graph.get_tensor_by_name(\"is_training:0\")\n",
        "    #while True:\n",
        "    frame=cv2.imread('/content/drive/MyDrive/0-9-Handwritten-5.png')\n",
        "    test=cv2.cvtColor(frame, cv2.COLOR_BGR2GRAY)\n",
        "    \n",
        "    test=cv2.resize(test, (28, 28))\n",
        "    for x in range(28):\n",
        "        for y in range(28):\n",
        "            if test[y][x]<110:\n",
        "                test[y][x]=1\n",
        "            else:\n",
        "                test[y][x]=0         \n",
        "    cv2_imshow(cv2.resize(test, (120, 120))*255)\n",
        "    prediction=s.run(sortie, feed_dict={images: [test.reshape(28,28,1)], ph_is_training: False})\n",
        "    #prediction=s.run(sortie, feed_dict={images: [test.reshape(28, 28, 1)]})\n",
        "    print(prediction, np.argmax(prediction))\n",
        "    #if cv2.waitKey(20)&0xFF==ord('q'):\n",
        "    #    break\n",
        "#cap.release()\n",
        "#cv2.destroyAllWindows()\n",
        "\n"
      ],
      "execution_count": null,
      "outputs": [
        {
          "output_type": "stream",
          "text": [
            "INFO:tensorflow:Restoring parameters from /content/model_mnist\n"
          ],
          "name": "stdout"
        },
        {
          "output_type": "display_data",
          "data": {
            "image/png": "[encoded data removed]",
            "text/plain": [
              "<PIL.Image.Image image mode=L size=120x120 at 0x7FF24A3DDF98>"
            ]
          },
          "metadata": {
            "tags": []
          }
        },
        {
          "output_type": "stream",
          "text": [
            "[[0.004 0.005 0.092 0.099 0.053 0.078 0.000 0.060 0.367 0.243]] 8\n"
          ],
          "name": "stdout"
        }
      ]
    },
    {
      "cell_type": "markdown",
      "metadata": {
        "id": "NYyseXe9WKjN"
      },
      "source": [
        "![Screen Shot 2021-01-28 at 7.54.08 PM.png](data:image/png;base64,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)"
      ]
    },
    {
      "cell_type": "markdown",
      "metadata": {
        "id": "9Dmfz2pQWSHN"
      },
      "source": [
        "Le modèle calcule la probabilité d'appartenance du chiffre dans l'image d'entrée par rapport aux 10 classes et choisit le max.\n",
        "Dans cet exemple on obtient une bonne classification de l'image avec le chiffre '8'.\n",
        "On constate cependant que la classification reste \"incertaine\", ici avec 0.48 de certitude.\n",
        "Cela s'explique par le fait qu'on ne prenne pas en compte les biais pour réduire les temps de calcul."
      ]
    }
  ]
}